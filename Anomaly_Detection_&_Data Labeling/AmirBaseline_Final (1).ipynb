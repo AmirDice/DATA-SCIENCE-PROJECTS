{
  "nbformat": 4,
  "nbformat_minor": 0,
  "metadata": {
    "colab": {
      "provenance": [],
      "gpuType": "V100"
    },
    "kernelspec": {
      "name": "python3",
      "display_name": "Python 3"
    },
    "language_info": {
      "name": "python"
    },
    "accelerator": "GPU"
  },
  "cells": [
    {
      "cell_type": "markdown",
      "source": [
        "Inuwa Amir Usman\n",
        "\n",
        "> Unsupervised Data Labeling and anomaly detection on SWAT Dataset\n",
        "\n"
      ],
      "metadata": {
        "id": "13azp5jFG6rY"
      }
    },
    {
      "cell_type": "markdown",
      "source": [
        "# **Data Exploration**"
      ],
      "metadata": {
        "id": "3E95k9EZNqKm"
      }
    },
    {
      "cell_type": "code",
      "execution_count": 2,
      "metadata": {
        "colab": {
          "base_uri": "https://localhost:8080/"
        },
        "id": "tqjMwxfBnrUx",
        "outputId": "e0d5556d-b860-4789-e3cf-916e4fcc6fbb"
      },
      "outputs": [
        {
          "output_type": "stream",
          "name": "stdout",
          "text": [
            "               Timestamp   FIT 101     LIT 101  MV 101  P1_STATE  P101 Status  \\\n",
            "0  20/07/2019 4:39:59 PM  4.323736  492.896881       2         2            2   \n",
            "1  20/07/2019 4:39:58 PM  4.323736  492.465100       2         2            2   \n",
            "2  20/07/2019 4:39:57 PM  4.303558  492.308100       2         2            2   \n",
            "3  20/07/2019 4:39:56 PM  4.253915  491.405273       2         2            2   \n",
            "4  20/07/2019 4:39:55 PM  4.200429  491.169769       2         2            2   \n",
            "\n",
            "   P102 Status     AIT 201   AIT 202     AIT 203  ...  LSH 601 LSH 602  \\\n",
            "0            1  131.408615  9.313829  257.933868  ...   Active  Active   \n",
            "1            1  131.408615  9.316713  257.703156  ...   Active  Active   \n",
            "2            1  131.408615  9.317354  257.703156  ...   Active  Active   \n",
            "3            1  131.408615  9.317354  257.703156  ...   Active  Active   \n",
            "4            1  131.408615  9.319918  257.703156  ...   Active  Active   \n",
            "\n",
            "    LSH 603   LSL 601   LSL 602  LSL 603  P6 STATE  P601 Status  P602 Status  \\\n",
            "0  Inactive  Inactive  Inactive   Active         2            1            1   \n",
            "1  Inactive  Inactive  Inactive   Active         2            1            1   \n",
            "2  Inactive  Inactive  Inactive   Active         2            1            1   \n",
            "3  Inactive  Inactive  Inactive   Active         2            1            1   \n",
            "4  Inactive  Inactive  Inactive   Active         2            1            1   \n",
            "\n",
            "   P603 Status  \n",
            "0            1  \n",
            "1            1  \n",
            "2            1  \n",
            "3            1  \n",
            "4            1  \n",
            "\n",
            "[5 rows x 78 columns]\n"
          ]
        }
      ],
      "source": [
        "import pandas as pd\n",
        "\n",
        "# Load the XLSX file into a pandas DataFrame\n",
        "df = pd.read_excel('/content/drive/MyDrive/SWaT_dataset_Jul19v2_clean.xlsx')\n",
        "# df_raw = pd.read_excel('/content/drive/MyDrive/SWaT_dataset_Jul19v2_clean.xlsx')\n",
        "\n",
        "# Print the first 5 rows of the DataFrame\n",
        "print(df.head())"
      ]
    },
    {
      "cell_type": "code",
      "source": [
        "# Print the shape of the DataFrame (number of rows and columns)\n",
        "print(df.shape)\n",
        "\n",
        "# Print the column names of the DataFrame\n",
        "print(df.columns)"
      ],
      "metadata": {
        "colab": {
          "base_uri": "https://localhost:8080/"
        },
        "id": "TOrlilPbK4Z4",
        "outputId": "e38789c1-f92b-4eaf-86eb-289530487491"
      },
      "execution_count": 3,
      "outputs": [
        {
          "output_type": "stream",
          "name": "stdout",
          "text": [
            "(14996, 78)\n",
            "Index(['Timestamp', 'FIT 101', 'LIT 101', 'MV 101', 'P1_STATE', 'P101 Status',\n",
            "       'P102 Status', 'AIT 201', 'AIT 202', 'AIT 203', 'FIT 201', 'LS 201',\n",
            "       'LS 202', 'LSL 203', 'LSLL 203', 'MV201', 'P2_STATE', 'P201 Status',\n",
            "       'P202 Status', 'P203 Status', 'P204 Status', 'P205 Status',\n",
            "       'P206 Status', 'P207 Status', 'P208 Status', 'AIT 301', 'AIT 302',\n",
            "       'AIT 303', 'DPIT 301', 'FIT 301', 'LIT 301', 'MV 301', 'MV 302',\n",
            "       'MV 303', 'MV 304', 'P3_STATE', 'P301 Status', 'P302 Status', 'AIT 401',\n",
            "       'AIT 402', 'FIT 401', 'LIT 401', 'LS 401', 'P4_STATE', 'P401 Status',\n",
            "       'P402 Status', 'P403 Status', 'P404 Status', 'UV401', 'AIT 501',\n",
            "       'AIT 502', 'AIT 503', 'AIT 504', 'FIT 501', 'FIT 502', 'FIT 503',\n",
            "       'FIT 504', 'MV 501', 'MV 502', 'MV 503', 'MV 504', 'P5_STATE',\n",
            "       'P501 Status', 'P502 Status', 'PIT 501', 'PIT 502', 'PIT 503',\n",
            "       'FIT 601', 'LSH 601', 'LSH 602', 'LSH 603', 'LSL 601', 'LSL 602',\n",
            "       'LSL 603', 'P6 STATE', 'P601 Status', 'P602 Status', 'P603 Status'],\n",
            "      dtype='object')\n"
          ]
        }
      ]
    },
    {
      "cell_type": "code",
      "source": [
        "# Print summary statistics of numerical columns\n",
        "print(df.describe())"
      ],
      "metadata": {
        "colab": {
          "base_uri": "https://localhost:8080/"
        },
        "id": "gSKZSDG6K7sh",
        "outputId": "64cbdd3a-0dbd-4355-e62d-075e519f518b"
      },
      "execution_count": 4,
      "outputs": [
        {
          "output_type": "stream",
          "name": "stdout",
          "text": [
            "            FIT 101       LIT 101        MV 101      P1_STATE   P101 Status  \\\n",
            "count  14996.000000  14996.000000  14996.000000  14996.000000  14996.000000   \n",
            "mean       0.740876    733.960251      1.156175      2.061616      1.374166   \n",
            "std        1.634632    110.960185      0.384272      0.240466      0.483923   \n",
            "min        0.000000    491.169769      0.000000      2.000000      1.000000   \n",
            "25%        0.000000    640.595184      1.000000      2.000000      1.000000   \n",
            "50%        0.000000    819.636841      1.000000      2.000000      1.000000   \n",
            "75%        0.000000    820.971436      1.000000      2.000000      2.000000   \n",
            "max        4.403484    825.092957      2.000000      3.000000      2.000000   \n",
            "\n",
            "       P102 Status       AIT 201       AIT 202       AIT 203       FIT 201  \\\n",
            "count      14996.0  14996.000000  14996.000000  14996.000000  14996.000000   \n",
            "mean           1.0    138.766501      9.210022    247.985162      0.869760   \n",
            "std            0.0      8.265845      0.175812     11.806186      1.121283   \n",
            "min            1.0    113.849014      8.768457    198.077423      0.000000   \n",
            "25%            1.0    131.536789      9.090170    239.887200      0.000384   \n",
            "50%            1.0    143.713150      9.233082    246.218918      0.000513   \n",
            "75%            1.0    144.033585      9.345873    257.190460      2.320187   \n",
            "max            1.0    146.821335      9.490067    272.289154      2.342357   \n",
            "\n",
            "       ...  P501 Status  P502 Status       PIT 501       PIT 502  \\\n",
            "count  ...      14996.0      14996.0  14996.000000  14996.000000   \n",
            "mean   ...          2.0          1.0    160.706744      4.673115   \n",
            "std    ...          0.0          0.0      5.707502     18.183883   \n",
            "min    ...          2.0          1.0    158.132523      2.450902   \n",
            "25%    ...          2.0          1.0    159.526400      2.851376   \n",
            "50%    ...          2.0          1.0    160.231354      2.883414   \n",
            "75%    ...          2.0          1.0    160.695969      2.963509   \n",
            "max    ...          2.0          1.0    219.014359    192.371765   \n",
            "\n",
            "            PIT 503       FIT 601  P6 STATE   P601 Status  P602 Status  \\\n",
            "count  14996.000000  14996.000000   14996.0  14996.000000      14996.0   \n",
            "mean     115.157048      0.000402       2.0      1.015337          1.0   \n",
            "std        5.324942      0.003317       0.0      0.122895          0.0   \n",
            "min      111.654060      0.000000       2.0      1.000000          1.0   \n",
            "25%      114.233528      0.000256       2.0      1.000000          1.0   \n",
            "50%      114.714172      0.000320       2.0      1.000000          1.0   \n",
            "75%      115.002563      0.000320       2.0      1.000000          1.0   \n",
            "max      170.565247      0.137315       2.0      2.000000          1.0   \n",
            "\n",
            "       P603 Status  \n",
            "count      14996.0  \n",
            "mean           1.0  \n",
            "std            0.0  \n",
            "min            1.0  \n",
            "25%            1.0  \n",
            "50%            1.0  \n",
            "75%            1.0  \n",
            "max            1.0  \n",
            "\n",
            "[8 rows x 66 columns]\n"
          ]
        }
      ]
    },
    {
      "cell_type": "code",
      "source": [
        "# Print the number of unique values in each column\n",
        "print(df.nunique())"
      ],
      "metadata": {
        "colab": {
          "base_uri": "https://localhost:8080/"
        },
        "id": "lx69kdF-LAKI",
        "outputId": "ae2b8f42-83b9-41de-a1b6-e7d41a5f8113"
      },
      "execution_count": 5,
      "outputs": [
        {
          "output_type": "stream",
          "name": "stdout",
          "text": [
            "Timestamp      14991\n",
            "FIT 101          310\n",
            "LIT 101         4493\n",
            "MV 101             3\n",
            "P1_STATE           2\n",
            "               ...  \n",
            "LSL 603            1\n",
            "P6 STATE           1\n",
            "P601 Status        2\n",
            "P602 Status        1\n",
            "P603 Status        1\n",
            "Length: 78, dtype: int64\n"
          ]
        }
      ]
    },
    {
      "cell_type": "code",
      "source": [
        "# Print the data types of each column\n",
        "print(df.dtypes)"
      ],
      "metadata": {
        "colab": {
          "base_uri": "https://localhost:8080/"
        },
        "id": "u65ZGlxELDfN",
        "outputId": "c61df724-bd0a-4802-c124-4280d78d47dd"
      },
      "execution_count": 6,
      "outputs": [
        {
          "output_type": "stream",
          "name": "stdout",
          "text": [
            "Timestamp       object\n",
            "FIT 101        float64\n",
            "LIT 101        float64\n",
            "MV 101           int64\n",
            "P1_STATE         int64\n",
            "                ...   \n",
            "LSL 603         object\n",
            "P6 STATE         int64\n",
            "P601 Status      int64\n",
            "P602 Status      int64\n",
            "P603 Status      int64\n",
            "Length: 78, dtype: object\n"
          ]
        }
      ]
    },
    {
      "cell_type": "code",
      "source": [
        "# Print the number of missing values in each column\n",
        "print(df.isnull().sum())"
      ],
      "metadata": {
        "colab": {
          "base_uri": "https://localhost:8080/"
        },
        "id": "DPBEoNUdLIDA",
        "outputId": "9d92db8c-3eef-4ca6-e0b9-46321e009e58"
      },
      "execution_count": 7,
      "outputs": [
        {
          "output_type": "stream",
          "name": "stdout",
          "text": [
            "Timestamp      0\n",
            "FIT 101        0\n",
            "LIT 101        0\n",
            "MV 101         0\n",
            "P1_STATE       0\n",
            "              ..\n",
            "LSL 603        0\n",
            "P6 STATE       0\n",
            "P601 Status    0\n",
            "P602 Status    0\n",
            "P603 Status    0\n",
            "Length: 78, dtype: int64\n"
          ]
        }
      ]
    },
    {
      "cell_type": "markdown",
      "source": [
        "# **Data Preprocessing**"
      ],
      "metadata": {
        "id": "HpOxVQtZOVoP"
      }
    },
    {
      "cell_type": "code",
      "source": [
        "df.dropna(inplace=True)"
      ],
      "metadata": {
        "id": "2e6apLAZWiCH"
      },
      "execution_count": 8,
      "outputs": []
    },
    {
      "cell_type": "code",
      "source": [
        "print(df.head)"
      ],
      "metadata": {
        "colab": {
          "base_uri": "https://localhost:8080/"
        },
        "id": "GfaOXOxmWrJ6",
        "outputId": "69ac1014-2e35-430d-8fd3-d1893f1d5b49"
      },
      "execution_count": 9,
      "outputs": [
        {
          "output_type": "stream",
          "name": "stdout",
          "text": [
            "<bound method NDFrame.head of                     Timestamp   FIT 101     LIT 101  MV 101  P1_STATE  \\\n",
            "0       20/07/2019 4:39:59 PM  4.323736  492.896881       2         2   \n",
            "1       20/07/2019 4:39:58 PM  4.323736  492.465100       2         2   \n",
            "2       20/07/2019 4:39:57 PM  4.303558  492.308100       2         2   \n",
            "3       20/07/2019 4:39:56 PM  4.253915  491.405273       2         2   \n",
            "4       20/07/2019 4:39:55 PM  4.200429  491.169769       2         2   \n",
            "...                       ...       ...         ...     ...       ...   \n",
            "14991  20/07/2019 12:30:04 PM  0.000000  727.706900       1         3   \n",
            "14992  20/07/2019 12:30:03 PM  0.000000  728.688200       1         3   \n",
            "14993  20/07/2019 12:30:02 PM  0.000000  729.120000       1         3   \n",
            "14994  20/07/2019 12:30:01 PM  0.000000  729.434000       1         3   \n",
            "14995  20/07/2019 12:30:00 PM  0.000000  729.865800       1         3   \n",
            "\n",
            "       P101 Status  P102 Status     AIT 201   AIT 202     AIT 203  ...  \\\n",
            "0                2            1  131.408615  9.313829  257.933868  ...   \n",
            "1                2            1  131.408615  9.316713  257.703156  ...   \n",
            "2                2            1  131.408615  9.317354  257.703156  ...   \n",
            "3                2            1  131.408615  9.317354  257.703156  ...   \n",
            "4                2            1  131.408615  9.319918  257.703156  ...   \n",
            "...            ...          ...         ...       ...         ...  ...   \n",
            "14991            2            1  142.527557  9.289157  198.897720  ...   \n",
            "14992            2            1  142.527557  9.289157  198.667000  ...   \n",
            "14993            2            1  142.527557  9.293002  198.436300  ...   \n",
            "14994            2            1  142.527557  9.293002  198.385025  ...   \n",
            "14995            2            1  142.527557  9.293002  198.077423  ...   \n",
            "\n",
            "       LSH 601 LSH 602   LSH 603   LSL 601   LSL 602  LSL 603  P6 STATE  \\\n",
            "0       Active  Active  Inactive  Inactive  Inactive   Active         2   \n",
            "1       Active  Active  Inactive  Inactive  Inactive   Active         2   \n",
            "2       Active  Active  Inactive  Inactive  Inactive   Active         2   \n",
            "3       Active  Active  Inactive  Inactive  Inactive   Active         2   \n",
            "4       Active  Active  Inactive  Inactive  Inactive   Active         2   \n",
            "...        ...     ...       ...       ...       ...      ...       ...   \n",
            "14991   Active  Active  Inactive  Inactive  Inactive   Active         2   \n",
            "14992   Active  Active  Inactive  Inactive  Inactive   Active         2   \n",
            "14993   Active  Active  Inactive  Inactive  Inactive   Active         2   \n",
            "14994   Active  Active  Inactive  Inactive  Inactive   Active         2   \n",
            "14995   Active  Active  Inactive  Inactive  Inactive   Active         2   \n",
            "\n",
            "       P601 Status  P602 Status  P603 Status  \n",
            "0                1            1            1  \n",
            "1                1            1            1  \n",
            "2                1            1            1  \n",
            "3                1            1            1  \n",
            "4                1            1            1  \n",
            "...            ...          ...          ...  \n",
            "14991            1            1            1  \n",
            "14992            1            1            1  \n",
            "14993            1            1            1  \n",
            "14994            1            1            1  \n",
            "14995            1            1            1  \n",
            "\n",
            "[14996 rows x 78 columns]>\n"
          ]
        }
      ]
    },
    {
      "cell_type": "code",
      "source": [
        "# Convert Timestamp column to datetime\n",
        "df['Timestamp'] = pd.to_datetime(df['Timestamp'])"
      ],
      "metadata": {
        "id": "wjIL1i21g7NW"
      },
      "execution_count": 10,
      "outputs": []
    },
    {
      "cell_type": "code",
      "source": [
        "print(df.head())"
      ],
      "metadata": {
        "colab": {
          "base_uri": "https://localhost:8080/"
        },
        "id": "AktqDoY-g_ei",
        "outputId": "162eb134-4dc1-42b4-8c80-7469a1c9126a"
      },
      "execution_count": 11,
      "outputs": [
        {
          "output_type": "stream",
          "name": "stdout",
          "text": [
            "            Timestamp   FIT 101     LIT 101  MV 101  P1_STATE  P101 Status  \\\n",
            "0 2019-07-20 16:39:59  4.323736  492.896881       2         2            2   \n",
            "1 2019-07-20 16:39:58  4.323736  492.465100       2         2            2   \n",
            "2 2019-07-20 16:39:57  4.303558  492.308100       2         2            2   \n",
            "3 2019-07-20 16:39:56  4.253915  491.405273       2         2            2   \n",
            "4 2019-07-20 16:39:55  4.200429  491.169769       2         2            2   \n",
            "\n",
            "   P102 Status     AIT 201   AIT 202     AIT 203  ...  LSH 601 LSH 602  \\\n",
            "0            1  131.408615  9.313829  257.933868  ...   Active  Active   \n",
            "1            1  131.408615  9.316713  257.703156  ...   Active  Active   \n",
            "2            1  131.408615  9.317354  257.703156  ...   Active  Active   \n",
            "3            1  131.408615  9.317354  257.703156  ...   Active  Active   \n",
            "4            1  131.408615  9.319918  257.703156  ...   Active  Active   \n",
            "\n",
            "    LSH 603   LSL 601   LSL 602  LSL 603  P6 STATE  P601 Status  P602 Status  \\\n",
            "0  Inactive  Inactive  Inactive   Active         2            1            1   \n",
            "1  Inactive  Inactive  Inactive   Active         2            1            1   \n",
            "2  Inactive  Inactive  Inactive   Active         2            1            1   \n",
            "3  Inactive  Inactive  Inactive   Active         2            1            1   \n",
            "4  Inactive  Inactive  Inactive   Active         2            1            1   \n",
            "\n",
            "   P603 Status  \n",
            "0            1  \n",
            "1            1  \n",
            "2            1  \n",
            "3            1  \n",
            "4            1  \n",
            "\n",
            "[5 rows x 78 columns]\n"
          ]
        }
      ]
    },
    {
      "cell_type": "code",
      "source": [
        "# Subset the dataset to only include records between 12:35 PM and 4:35 PM on 20 July 2019\n",
        "start_time = pd.to_datetime(\"2019-07-20 12:35:00\")\n",
        "end_time = pd.to_datetime(\"2019-07-20 16:35:00\")\n",
        "df = df[(df['Timestamp'] >= start_time) & (df['Timestamp'] <= end_time)]"
      ],
      "metadata": {
        "id": "Al4oct_2gW7d"
      },
      "execution_count": 12,
      "outputs": []
    },
    {
      "cell_type": "code",
      "source": [
        "!pip install --upgrade scikit-learn"
      ],
      "metadata": {
        "colab": {
          "base_uri": "https://localhost:8080/"
        },
        "id": "Kiqg-CEnyrfU",
        "outputId": "117460a1-d945-470b-de57-cdf4e06749ba"
      },
      "execution_count": 13,
      "outputs": [
        {
          "output_type": "stream",
          "name": "stdout",
          "text": [
            "Looking in indexes: https://pypi.org/simple, https://us-python.pkg.dev/colab-wheels/public/simple/\n",
            "Requirement already satisfied: scikit-learn in /usr/local/lib/python3.10/dist-packages (1.2.2)\n",
            "Requirement already satisfied: numpy>=1.17.3 in /usr/local/lib/python3.10/dist-packages (from scikit-learn) (1.22.4)\n",
            "Requirement already satisfied: scipy>=1.3.2 in /usr/local/lib/python3.10/dist-packages (from scikit-learn) (1.10.1)\n",
            "Requirement already satisfied: joblib>=1.1.1 in /usr/local/lib/python3.10/dist-packages (from scikit-learn) (1.2.0)\n",
            "Requirement already satisfied: threadpoolctl>=2.0.0 in /usr/local/lib/python3.10/dist-packages (from scikit-learn) (3.1.0)\n"
          ]
        }
      ]
    },
    {
      "cell_type": "markdown",
      "source": [
        "Handling categorical data using onehotencoder"
      ],
      "metadata": {
        "id": "F0HV3EkWn-H-"
      }
    },
    {
      "cell_type": "code",
      "source": [
        "from sklearn.preprocessing import OneHotEncoder, LabelEncoder\n",
        "# Select only the categorical columns\n",
        "cat_cols = [\"P1_STATE\", \"P2_STATE\", \"P3_STATE\", \"P4_STATE\", \"P5_STATE\", \"P6 STATE\",\n",
        "            \"P101 Status\", \"P102 Status\", \"P201 Status\", \"P202 Status\", \"P203 Status\",\n",
        "            \"P204 Status\", \"P205 Status\", \"P206 Status\", \"P207 Status\", \"P208 Status\",\n",
        "            \"P301 Status\", \"P302 Status\", \"LS 201\", \"LS 202\", \"LSL 203\", \"LSLL 203\",\n",
        "            \"MV201\", \"MV 301\", \"MV 302\", \"MV 303\", \"MV 304\", \"UV401\",\n",
        "            \"MV 501\", \"MV 502\", \"MV 503\", \"MV 504\",\n",
        "            \"P501 Status\", \"P502 Status\"]\n",
        "df_cat = df[cat_cols]\n",
        "\n",
        "# Perform one-hot encoding on the state columns\n",
        "ohe = OneHotEncoder(sparse=False)\n",
        "state_ohe = ohe.fit_transform(df_cat[[\"P1_STATE\", \"P2_STATE\", \"P3_STATE\",\n",
        "                                      \"P4_STATE\", \"P5_STATE\", \"P6 STATE\"]])\n",
        "state_ohe_df = pd.DataFrame(state_ohe, columns=ohe.get_feature_names_out([\"P1_STATE\",\n",
        "                                                                      \"P2_STATE\",\n",
        "                                                                      \"P3_STATE\",\n",
        "                                                                      \"P4_STATE\",\n",
        "                                                                      \"P5_STATE\",\n",
        "                                                                      \"P6 STATE\"]))\n",
        "df_cat = pd.concat([df_cat, state_ohe_df], axis=1).drop([\"P1_STATE\",\n",
        "                                                         \"P2_STATE\",\n",
        "                                                         \"P3_STATE\",\n",
        "                                                         \"P4_STATE\",\n",
        "                                                         \"P5_STATE\",\n",
        "                                                         \"P6 STATE\"], axis=1)\n",
        "\n",
        "# Perform label encoding on the status columns\n",
        "le = LabelEncoder()\n",
        "for col in df_cat.columns:\n",
        "    if col.startswith(\"LS\") or col.startswith(\"MV\") or col.startswith(\"UV\") or col.endswith(\"Status\") and col !=\"Timestamp\":\n",
        "        df_cat[col] = le.fit_transform(df_cat[col])\n",
        "\n",
        "# Overwrite only the categorical columns in df with the encoded columns from df_cat\n",
        "df.update(df_cat)"
      ],
      "metadata": {
        "colab": {
          "base_uri": "https://localhost:8080/"
        },
        "id": "363935ssoFpz",
        "outputId": "1a5eece6-8b5c-4531-b8b4-2f9e8b9dba10"
      },
      "execution_count": 14,
      "outputs": [
        {
          "output_type": "stream",
          "name": "stderr",
          "text": [
            "/usr/local/lib/python3.10/dist-packages/sklearn/preprocessing/_encoders.py:868: FutureWarning: `sparse` was renamed to `sparse_output` in version 1.2 and will be removed in 1.4. `sparse_output` is ignored unless you leave `sparse` to its default value.\n",
            "  warnings.warn(\n"
          ]
        }
      ]
    },
    {
      "cell_type": "code",
      "source": [
        "# Print the updated dataframe\n",
        "print(df.head())"
      ],
      "metadata": {
        "colab": {
          "base_uri": "https://localhost:8080/"
        },
        "id": "QEtAwMHBEadV",
        "outputId": "afca6d6e-ee68-4c37-f2d2-f289e52725f8"
      },
      "execution_count": 15,
      "outputs": [
        {
          "output_type": "stream",
          "name": "stdout",
          "text": [
            "              Timestamp  FIT 101     LIT 101  MV 101  P1_STATE  P101 Status  \\\n",
            "299 2019-07-20 16:35:00      0.0  621.999200       1         2            1   \n",
            "300 2019-07-20 16:34:59      0.0  623.098267       1         2            1   \n",
            "301 2019-07-20 16:34:58      0.0  623.726300       1         2            1   \n",
            "302 2019-07-20 16:34:57      0.0  624.040344       1         2            1   \n",
            "303 2019-07-20 16:34:56      0.0  624.746900       1         2            1   \n",
            "\n",
            "     P102 Status     AIT 201   AIT 202     AIT 203  ...  LSH 601 LSH 602  \\\n",
            "299            0  131.568832  9.307100  248.577286  ...   Active  Active   \n",
            "300            0  131.568832  9.310305  248.577286  ...   Active  Active   \n",
            "301            0  131.568832  9.310305  248.577286  ...   Active  Active   \n",
            "302            0  131.568832  9.310305  248.577286  ...   Active  Active   \n",
            "303            0  131.568832  9.310305  248.397842  ...   Active  Active   \n",
            "\n",
            "      LSH 603   LSL 601   LSL 602  LSL 603  P6 STATE  P601 Status  \\\n",
            "299  Inactive  Inactive  Inactive   Active         2            1   \n",
            "300  Inactive  Inactive  Inactive   Active         2            1   \n",
            "301  Inactive  Inactive  Inactive   Active         2            1   \n",
            "302  Inactive  Inactive  Inactive   Active         2            1   \n",
            "303  Inactive  Inactive  Inactive   Active         2            1   \n",
            "\n",
            "     P602 Status  P603 Status  \n",
            "299            1            1  \n",
            "300            1            1  \n",
            "301            1            1  \n",
            "302            1            1  \n",
            "303            1            1  \n",
            "\n",
            "[5 rows x 78 columns]\n"
          ]
        }
      ]
    },
    {
      "cell_type": "markdown",
      "source": [
        "Turning the dataset into timeseries data"
      ],
      "metadata": {
        "id": "wDmnZr4xoa_0"
      }
    },
    {
      "cell_type": "code",
      "source": [
        "print(df.columns)"
      ],
      "metadata": {
        "colab": {
          "base_uri": "https://localhost:8080/"
        },
        "id": "8lNIGcgMwXwp",
        "outputId": "59a8012c-db94-4ae2-b864-63f789b398d0"
      },
      "execution_count": 16,
      "outputs": [
        {
          "output_type": "stream",
          "name": "stdout",
          "text": [
            "Index(['Timestamp', 'FIT 101', 'LIT 101', 'MV 101', 'P1_STATE', 'P101 Status',\n",
            "       'P102 Status', 'AIT 201', 'AIT 202', 'AIT 203', 'FIT 201', 'LS 201',\n",
            "       'LS 202', 'LSL 203', 'LSLL 203', 'MV201', 'P2_STATE', 'P201 Status',\n",
            "       'P202 Status', 'P203 Status', 'P204 Status', 'P205 Status',\n",
            "       'P206 Status', 'P207 Status', 'P208 Status', 'AIT 301', 'AIT 302',\n",
            "       'AIT 303', 'DPIT 301', 'FIT 301', 'LIT 301', 'MV 301', 'MV 302',\n",
            "       'MV 303', 'MV 304', 'P3_STATE', 'P301 Status', 'P302 Status', 'AIT 401',\n",
            "       'AIT 402', 'FIT 401', 'LIT 401', 'LS 401', 'P4_STATE', 'P401 Status',\n",
            "       'P402 Status', 'P403 Status', 'P404 Status', 'UV401', 'AIT 501',\n",
            "       'AIT 502', 'AIT 503', 'AIT 504', 'FIT 501', 'FIT 502', 'FIT 503',\n",
            "       'FIT 504', 'MV 501', 'MV 502', 'MV 503', 'MV 504', 'P5_STATE',\n",
            "       'P501 Status', 'P502 Status', 'PIT 501', 'PIT 502', 'PIT 503',\n",
            "       'FIT 601', 'LSH 601', 'LSH 602', 'LSH 603', 'LSL 601', 'LSL 602',\n",
            "       'LSL 603', 'P6 STATE', 'P601 Status', 'P602 Status', 'P603 Status'],\n",
            "      dtype='object')\n"
          ]
        }
      ]
    },
    {
      "cell_type": "code",
      "source": [
        "df = df.set_index('Timestamp')"
      ],
      "metadata": {
        "id": "ocW16BuEof7o"
      },
      "execution_count": 17,
      "outputs": []
    },
    {
      "cell_type": "code",
      "source": [
        "# Forward fill any missing values\n",
        "df = df.ffill()"
      ],
      "metadata": {
        "id": "aEdl6nHr1yVA"
      },
      "execution_count": 18,
      "outputs": []
    },
    {
      "cell_type": "code",
      "source": [
        "# print(df.head(303))\n",
        "df.iloc[[299, 303, 297]]"
      ],
      "metadata": {
        "colab": {
          "base_uri": "https://localhost:8080/",
          "height": 318
        },
        "id": "gjvcjdaj0fcd",
        "outputId": "375d26d1-eabe-4bb3-fea3-2d71c96801b9"
      },
      "execution_count": 19,
      "outputs": [
        {
          "output_type": "execute_result",
          "data": {
            "text/plain": [
              "                     FIT 101     LIT 101  MV 101  P1_STATE  P101 Status  \\\n",
              "Timestamp                                                                 \n",
              "2019-07-20 16:30:01      0.0  759.658600       1         2            1   \n",
              "2019-07-20 16:29:57      0.0  761.464233       1         2            1   \n",
              "2019-07-20 16:30:03      0.0  759.226868       1         2            1   \n",
              "\n",
              "                     P102 Status  AIT 201   AIT 202     AIT 203   FIT 201  \\\n",
              "Timestamp                                                                   \n",
              "2019-07-20 16:30:01            0  131.697  9.320559  230.940781  2.330696   \n",
              "2019-07-20 16:29:57            0  131.697  9.313829  230.453735  2.332361   \n",
              "2019-07-20 16:30:03            0  131.697  9.323442  230.992050  2.329798   \n",
              "\n",
              "                     ...  LSH 601  LSH 602   LSH 603   LSL 601   LSL 602  \\\n",
              "Timestamp            ...                                                   \n",
              "2019-07-20 16:30:01  ...   Active   Active  Inactive  Inactive  Inactive   \n",
              "2019-07-20 16:29:57  ...   Active   Active  Inactive  Inactive  Inactive   \n",
              "2019-07-20 16:30:03  ...   Active   Active  Inactive  Inactive  Inactive   \n",
              "\n",
              "                     LSL 603  P6 STATE  P601 Status  P602 Status  P603 Status  \n",
              "Timestamp                                                                      \n",
              "2019-07-20 16:30:01   Active         2            1            1            1  \n",
              "2019-07-20 16:29:57   Active         2            1            1            1  \n",
              "2019-07-20 16:30:03   Active         2            1            1            1  \n",
              "\n",
              "[3 rows x 77 columns]"
            ],
            "text/html": [
              "\n",
              "  <div id=\"df-a0242450-55c8-4daa-9c71-01773b8e5c39\">\n",
              "    <div class=\"colab-df-container\">\n",
              "      <div>\n",
              "<style scoped>\n",
              "    .dataframe tbody tr th:only-of-type {\n",
              "        vertical-align: middle;\n",
              "    }\n",
              "\n",
              "    .dataframe tbody tr th {\n",
              "        vertical-align: top;\n",
              "    }\n",
              "\n",
              "    .dataframe thead th {\n",
              "        text-align: right;\n",
              "    }\n",
              "</style>\n",
              "<table border=\"1\" class=\"dataframe\">\n",
              "  <thead>\n",
              "    <tr style=\"text-align: right;\">\n",
              "      <th></th>\n",
              "      <th>FIT 101</th>\n",
              "      <th>LIT 101</th>\n",
              "      <th>MV 101</th>\n",
              "      <th>P1_STATE</th>\n",
              "      <th>P101 Status</th>\n",
              "      <th>P102 Status</th>\n",
              "      <th>AIT 201</th>\n",
              "      <th>AIT 202</th>\n",
              "      <th>AIT 203</th>\n",
              "      <th>FIT 201</th>\n",
              "      <th>...</th>\n",
              "      <th>LSH 601</th>\n",
              "      <th>LSH 602</th>\n",
              "      <th>LSH 603</th>\n",
              "      <th>LSL 601</th>\n",
              "      <th>LSL 602</th>\n",
              "      <th>LSL 603</th>\n",
              "      <th>P6 STATE</th>\n",
              "      <th>P601 Status</th>\n",
              "      <th>P602 Status</th>\n",
              "      <th>P603 Status</th>\n",
              "    </tr>\n",
              "    <tr>\n",
              "      <th>Timestamp</th>\n",
              "      <th></th>\n",
              "      <th></th>\n",
              "      <th></th>\n",
              "      <th></th>\n",
              "      <th></th>\n",
              "      <th></th>\n",
              "      <th></th>\n",
              "      <th></th>\n",
              "      <th></th>\n",
              "      <th></th>\n",
              "      <th></th>\n",
              "      <th></th>\n",
              "      <th></th>\n",
              "      <th></th>\n",
              "      <th></th>\n",
              "      <th></th>\n",
              "      <th></th>\n",
              "      <th></th>\n",
              "      <th></th>\n",
              "      <th></th>\n",
              "      <th></th>\n",
              "    </tr>\n",
              "  </thead>\n",
              "  <tbody>\n",
              "    <tr>\n",
              "      <th>2019-07-20 16:30:01</th>\n",
              "      <td>0.0</td>\n",
              "      <td>759.658600</td>\n",
              "      <td>1</td>\n",
              "      <td>2</td>\n",
              "      <td>1</td>\n",
              "      <td>0</td>\n",
              "      <td>131.697</td>\n",
              "      <td>9.320559</td>\n",
              "      <td>230.940781</td>\n",
              "      <td>2.330696</td>\n",
              "      <td>...</td>\n",
              "      <td>Active</td>\n",
              "      <td>Active</td>\n",
              "      <td>Inactive</td>\n",
              "      <td>Inactive</td>\n",
              "      <td>Inactive</td>\n",
              "      <td>Active</td>\n",
              "      <td>2</td>\n",
              "      <td>1</td>\n",
              "      <td>1</td>\n",
              "      <td>1</td>\n",
              "    </tr>\n",
              "    <tr>\n",
              "      <th>2019-07-20 16:29:57</th>\n",
              "      <td>0.0</td>\n",
              "      <td>761.464233</td>\n",
              "      <td>1</td>\n",
              "      <td>2</td>\n",
              "      <td>1</td>\n",
              "      <td>0</td>\n",
              "      <td>131.697</td>\n",
              "      <td>9.313829</td>\n",
              "      <td>230.453735</td>\n",
              "      <td>2.332361</td>\n",
              "      <td>...</td>\n",
              "      <td>Active</td>\n",
              "      <td>Active</td>\n",
              "      <td>Inactive</td>\n",
              "      <td>Inactive</td>\n",
              "      <td>Inactive</td>\n",
              "      <td>Active</td>\n",
              "      <td>2</td>\n",
              "      <td>1</td>\n",
              "      <td>1</td>\n",
              "      <td>1</td>\n",
              "    </tr>\n",
              "    <tr>\n",
              "      <th>2019-07-20 16:30:03</th>\n",
              "      <td>0.0</td>\n",
              "      <td>759.226868</td>\n",
              "      <td>1</td>\n",
              "      <td>2</td>\n",
              "      <td>1</td>\n",
              "      <td>0</td>\n",
              "      <td>131.697</td>\n",
              "      <td>9.323442</td>\n",
              "      <td>230.992050</td>\n",
              "      <td>2.329798</td>\n",
              "      <td>...</td>\n",
              "      <td>Active</td>\n",
              "      <td>Active</td>\n",
              "      <td>Inactive</td>\n",
              "      <td>Inactive</td>\n",
              "      <td>Inactive</td>\n",
              "      <td>Active</td>\n",
              "      <td>2</td>\n",
              "      <td>1</td>\n",
              "      <td>1</td>\n",
              "      <td>1</td>\n",
              "    </tr>\n",
              "  </tbody>\n",
              "</table>\n",
              "<p>3 rows × 77 columns</p>\n",
              "</div>\n",
              "      <button class=\"colab-df-convert\" onclick=\"convertToInteractive('df-a0242450-55c8-4daa-9c71-01773b8e5c39')\"\n",
              "              title=\"Convert this dataframe to an interactive table.\"\n",
              "              style=\"display:none;\">\n",
              "        \n",
              "  <svg xmlns=\"http://www.w3.org/2000/svg\" height=\"24px\"viewBox=\"0 0 24 24\"\n",
              "       width=\"24px\">\n",
              "    <path d=\"M0 0h24v24H0V0z\" fill=\"none\"/>\n",
              "    <path d=\"M18.56 5.44l.94 2.06.94-2.06 2.06-.94-2.06-.94-.94-2.06-.94 2.06-2.06.94zm-11 1L8.5 8.5l.94-2.06 2.06-.94-2.06-.94L8.5 2.5l-.94 2.06-2.06.94zm10 10l.94 2.06.94-2.06 2.06-.94-2.06-.94-.94-2.06-.94 2.06-2.06.94z\"/><path d=\"M17.41 7.96l-1.37-1.37c-.4-.4-.92-.59-1.43-.59-.52 0-1.04.2-1.43.59L10.3 9.45l-7.72 7.72c-.78.78-.78 2.05 0 2.83L4 21.41c.39.39.9.59 1.41.59.51 0 1.02-.2 1.41-.59l7.78-7.78 2.81-2.81c.8-.78.8-2.07 0-2.86zM5.41 20L4 18.59l7.72-7.72 1.47 1.35L5.41 20z\"/>\n",
              "  </svg>\n",
              "      </button>\n",
              "      \n",
              "  <style>\n",
              "    .colab-df-container {\n",
              "      display:flex;\n",
              "      flex-wrap:wrap;\n",
              "      gap: 12px;\n",
              "    }\n",
              "\n",
              "    .colab-df-convert {\n",
              "      background-color: #E8F0FE;\n",
              "      border: none;\n",
              "      border-radius: 50%;\n",
              "      cursor: pointer;\n",
              "      display: none;\n",
              "      fill: #1967D2;\n",
              "      height: 32px;\n",
              "      padding: 0 0 0 0;\n",
              "      width: 32px;\n",
              "    }\n",
              "\n",
              "    .colab-df-convert:hover {\n",
              "      background-color: #E2EBFA;\n",
              "      box-shadow: 0px 1px 2px rgba(60, 64, 67, 0.3), 0px 1px 3px 1px rgba(60, 64, 67, 0.15);\n",
              "      fill: #174EA6;\n",
              "    }\n",
              "\n",
              "    [theme=dark] .colab-df-convert {\n",
              "      background-color: #3B4455;\n",
              "      fill: #D2E3FC;\n",
              "    }\n",
              "\n",
              "    [theme=dark] .colab-df-convert:hover {\n",
              "      background-color: #434B5C;\n",
              "      box-shadow: 0px 1px 3px 1px rgba(0, 0, 0, 0.15);\n",
              "      filter: drop-shadow(0px 1px 2px rgba(0, 0, 0, 0.3));\n",
              "      fill: #FFFFFF;\n",
              "    }\n",
              "  </style>\n",
              "\n",
              "      <script>\n",
              "        const buttonEl =\n",
              "          document.querySelector('#df-a0242450-55c8-4daa-9c71-01773b8e5c39 button.colab-df-convert');\n",
              "        buttonEl.style.display =\n",
              "          google.colab.kernel.accessAllowed ? 'block' : 'none';\n",
              "\n",
              "        async function convertToInteractive(key) {\n",
              "          const element = document.querySelector('#df-a0242450-55c8-4daa-9c71-01773b8e5c39');\n",
              "          const dataTable =\n",
              "            await google.colab.kernel.invokeFunction('convertToInteractive',\n",
              "                                                     [key], {});\n",
              "          if (!dataTable) return;\n",
              "\n",
              "          const docLinkHtml = 'Like what you see? Visit the ' +\n",
              "            '<a target=\"_blank\" href=https://colab.research.google.com/notebooks/data_table.ipynb>data table notebook</a>'\n",
              "            + ' to learn more about interactive tables.';\n",
              "          element.innerHTML = '';\n",
              "          dataTable['output_type'] = 'display_data';\n",
              "          await google.colab.output.renderOutput(dataTable, element);\n",
              "          const docLink = document.createElement('div');\n",
              "          docLink.innerHTML = docLinkHtml;\n",
              "          element.appendChild(docLink);\n",
              "        }\n",
              "      </script>\n",
              "    </div>\n",
              "  </div>\n",
              "  "
            ]
          },
          "metadata": {},
          "execution_count": 19
        }
      ]
    },
    {
      "cell_type": "markdown",
      "source": [
        "# **Data Labeling**"
      ],
      "metadata": {
        "id": "bfireoJxA23h"
      }
    },
    {
      "cell_type": "code",
      "source": [
        "# Label the attacks\n",
        "df['Attack'] = 0\n",
        "# Attack on FIT401\n",
        "df.loc[(df.index >= pd.to_datetime(\"2019-07-20 15:08:46\")) & (df.index <= pd.to_datetime(\"2019-07-20 15:10:31\")), 'Attack'] = 1\n",
        "# Attack on LIT301\n",
        "df.loc[(df.index >= pd.to_datetime(\"2019-07-20 15:15:00\")) & (df.index <= pd.to_datetime(\"2019-07-20 15:19:32\")), 'Attack'] = 1\n",
        "# Attack on P601\n",
        "df.loc[(df.index >= pd.to_datetime(\"2019-07-20 15:26:57\")) & (df.index <= pd.to_datetime(\"2019-07-20 15:30:48\")), 'Attack'] = 1\n",
        "# Multi-point Attack\n",
        "df.loc[(df.index >= pd.to_datetime(\"2019-07-20 15:38:50\")) & (df.index <= pd.to_datetime(\"2019-07-20 15:46:20\")), 'Attack'] = 1\n",
        "# Attack on MV501\n",
        "df.loc[(df.index >= pd.to_datetime(\"2019-07-20 15:54:00\")) & (df.index <= pd.to_datetime(\"2019-07-20 15:56:00\")), 'Attack'] = 1\n",
        "# Attack on P301\n",
        "df.loc[(df.index >= pd.to_datetime(\"2019-07-20 16:02:56\")) & (df.index <= pd.to_datetime(\"2019-07-20 16:16:18\")), 'Attack'] = 1\n"
      ],
      "metadata": {
        "id": "NYzX-PsZ-sPA"
      },
      "execution_count": 20,
      "outputs": []
    },
    {
      "cell_type": "code",
      "source": [
        "from sklearn.preprocessing import StandardScaler\n",
        "\n",
        "# Separate the Attack column\n",
        "attack_series = df.pop('Attack')\n",
        "\n",
        "# Normalize the numeric columns, exclude the Attack column\n",
        "numeric_cols = df.select_dtypes(include=['float64', 'int64']).columns\n",
        "numeric_cols = [col for col in numeric_cols if col != 'Attack']\n",
        "scaler = StandardScaler()\n",
        "df[numeric_cols] = scaler.fit_transform(df[numeric_cols])\n",
        "\n",
        "# Add the Attack column back to the dataframe\n",
        "df['Attack'] = attack_series\n",
        "\n",
        "# Fill missing values with zeros\n",
        "df.fillna(0, inplace=True)\n",
        "\n",
        "# Drop unnecessary columns\n",
        "columns_to_drop = ['LS 401', 'LSH 601', 'LSH 602', 'LSH 603', 'LSL 601', 'LSL 602', 'LSL 603']\n",
        "df.drop(columns_to_drop, axis=1, inplace=True)"
      ],
      "metadata": {
        "id": "DiBR7j3SISg4"
      },
      "execution_count": 21,
      "outputs": []
    },
    {
      "cell_type": "markdown",
      "source": [
        "## DeepCluster Implementation"
      ],
      "metadata": {
        "id": "J86vrIAZ8S1k"
      }
    },
    {
      "cell_type": "code",
      "source": [
        "import numpy as np\n",
        "import pandas as pd\n",
        "import torch\n",
        "import torch.nn as nn\n",
        "import torch.optim as optim\n",
        "from torch.utils.data import DataLoader\n",
        "from torchvision import transforms\n",
        "from sklearn.model_selection import train_test_split\n",
        "from sklearn.metrics import accuracy_score, precision_score, recall_score, f1_score, confusion_matrix, average_precision_score\n",
        "from sklearn.cluster import KMeans\n",
        "from sklearn.decomposition import PCA\n",
        "\n",
        "# Separate features and labels\n",
        "X = df.drop('Attack', axis=1).values\n",
        "y = df['Attack'].values\n",
        "\n",
        "# Split the data into training, validation, and test sets with stratified sampling\n",
        "X_train_val, X_test, y_train_val, y_test = train_test_split(X, y, test_size=0.3, stratify=y)\n",
        "\n",
        "# Further split the training and validation sets\n",
        "X_train, X_val, y_train, y_val = train_test_split(X_train_val, y_train_val, test_size=0.3, stratify=y_train_val)\n",
        "\n",
        "# Prepare the data loaders\n",
        "batch_size = 64\n",
        "train_dataset = torch.utils.data.TensorDataset(torch.Tensor(X_train), torch.Tensor(y_train))\n",
        "train_loader = DataLoader(train_dataset, batch_size=batch_size, shuffle=True)\n",
        "val_dataset = torch.utils.data.TensorDataset(torch.Tensor(X_val), torch.Tensor(y_val))\n",
        "val_loader = DataLoader(val_dataset, batch_size=batch_size)\n",
        "test_dataset = torch.utils.data.TensorDataset(torch.Tensor(X_test), torch.Tensor(y_test))\n",
        "test_loader = DataLoader(test_dataset, batch_size=batch_size)\n",
        "\n",
        "# Define the DeepCluster model\n",
        "class DeepCluster(nn.Module):\n",
        "    def __init__(self, input_dim, n_clusters):\n",
        "        super(DeepCluster, self).__init__()\n",
        "        self.encoder = nn.Sequential(\n",
        "            nn.Linear(input_dim, 64),\n",
        "            nn.ReLU(),\n",
        "            nn.Linear(64, 32),\n",
        "            nn.ReLU(),\n",
        "            nn.Linear(32, 16),\n",
        "            nn.ReLU(),\n",
        "            nn.Linear(16, n_clusters)\n",
        "        )\n",
        "        self.softmax = nn.Softmax(dim=1)\n",
        "\n",
        "    def forward(self, x):\n",
        "        features = self.encoder(x)\n",
        "        logits = self.softmax(features)\n",
        "        return features, logits\n",
        "\n",
        "# Initialize the DeepCluster model\n",
        "input_dim = X_train.shape[1]\n",
        "n_clusters = 2  # Change this according to your desired number of clusters\n",
        "model = DeepCluster(input_dim, n_clusters)\n",
        "\n",
        "# Define the loss function and optimizer\n",
        "criterion = nn.CrossEntropyLoss()\n",
        "optimizer = optim.Adam(model.parameters(), lr=0.01)\n",
        "\n",
        "# Define data transformations\n",
        "data_transform = transforms.Compose([\n",
        "    transforms.ToTensor(),\n",
        "    transforms.Normalize(mean=[0.5] * input_dim, std=[0.5] * input_dim)\n",
        "])\n",
        "\n",
        "# Training loop\n",
        "n_epochs = 10\n",
        "device = torch.device(\"cuda\" if torch.cuda.is_available() else \"cpu\")\n",
        "model.to(device)\n",
        "for epoch in range(n_epochs):\n",
        "    model.train()\n",
        "    train_loss = 0.0\n",
        "    for data, labels in train_loader:\n",
        "        data = data.to(device)\n",
        "        labels = labels.to(device).long()\n",
        "        optimizer.zero_grad()\n",
        "        features, logits = model(data)\n",
        "        loss = criterion(logits, labels)\n",
        "        loss.backward()\n",
        "        optimizer.step()\n",
        "        train_loss += loss.item() * data.size(0)\n",
        "    train_loss /= len(train_loader.dataset)\n",
        "\n",
        "    # Validation\n",
        "    model.eval()\n",
        "    val_loss = 0.0\n",
        "    all_preds = []\n",
        "    with torch.no_grad():\n",
        "        for data, labels in val_loader:\n",
        "            data = data.to(device)\n",
        "            labels = labels.to(device).long()\n",
        "            features, logits = model(data)\n",
        "            loss = criterion(logits, labels)\n",
        "            val_loss += loss.item() * data.size(0)\n",
        "            preds = torch.argmax(logits, dim=1)\n",
        "            all_preds.extend(preds.cpu().numpy())\n",
        "    val_loss /= len(val_loader.dataset)\n",
        "    val_accuracy = accuracy_score(y_val, all_preds)\n",
        "    val_precision = precision_score(y_val, all_preds)\n",
        "    val_recall = recall_score(y_val, all_preds)\n",
        "    val_f1 = f1_score(y_val, all_preds)\n",
        "    val_pr_auc = average_precision_score(y_val, all_preds)\n",
        "\n",
        "    print(f\"Epoch {epoch+1}/{n_epochs} - Train Loss: {train_loss:.4f} - Val Loss: {val_loss:.4f} - \"\n",
        "          f\"Val Accuracy: {val_accuracy:.4f} - Val Precision: {val_precision:.4f} - Val Recall: {val_recall:.4f} - \"\n",
        "          f\"Val F1 Score: {val_f1:.4f} - Val PR AUC: {val_pr_auc:.4f}\")\n",
        "\n",
        "# Extract deep features using the trained model\n",
        "model.eval()\n",
        "all_features = []\n",
        "with torch.no_grad():\n",
        "    for data, _ in val_loader:\n",
        "        data = data.to(device)\n",
        "        features, _ = model(data)\n",
        "        all_features.extend(features.cpu().numpy())\n",
        "all_features = np.array(all_features)\n",
        "\n",
        "# Apply K-means clustering on the extracted features\n",
        "kmeans = KMeans(n_clusters=n_clusters)\n",
        "cluster_labels = kmeans.fit_predict(all_features)\n",
        "\n",
        "# Apply PCA for dimensionality reduction\n",
        "pca = PCA(n_components=2)\n",
        "reduced_features = pca.fit_transform(all_features)\n",
        "\n",
        "# Perform prediction on test set\n",
        "model.eval()\n",
        "test_preds = []\n",
        "with torch.no_grad():\n",
        "    for data, _ in test_loader:\n",
        "        data = data.to(device)\n",
        "        _, logits = model(data)\n",
        "        preds = torch.argmax(logits, dim=1)\n",
        "        test_preds.extend(preds.cpu().numpy())\n",
        "\n",
        "# Calculate additional evaluation metrics on test set\n",
        "test_accuracy = accuracy_score(y_test, test_preds)\n",
        "test_precision = precision_score(y_test, test_preds)\n",
        "test_recall = recall_score(y_test, test_preds)\n",
        "test_f1 = f1_score(y_test, test_preds)\n",
        "test_pr_auc = average_precision_score(y_test, test_preds)\n",
        "test_cm = confusion_matrix(y_test, test_preds)\n",
        "\n",
        "print(\"Test Metrics:\")\n",
        "print(f\"Test Accuracy: {test_accuracy:.4f}\")\n",
        "print(f\"Test Precision: {test_precision:.4f}\")\n",
        "print(f\"Test Recall: {test_recall:.4f}\")\n",
        "print(f\"Test F1 Score: {test_f1:.4f}\")\n",
        "print(f\"Test PR AUC: {test_pr_auc:.4f}\")\n",
        "print(\"Confusion Matrix:\")\n",
        "print(test_cm)\n",
        "\n",
        "# Visualize attacks and non-attacks\n",
        "import matplotlib.pyplot as plt\n",
        "\n",
        "plt.figure(figsize=(8, 6))\n",
        "\n",
        "# Plot non-attack data points\n",
        "non_attack_indices = np.where(y_val == 0)[0]\n",
        "plt.scatter(reduced_features[non_attack_indices, 0], reduced_features[non_attack_indices, 1], color='blue', label='Non-Attack')\n",
        "\n",
        "# Plot attack data points\n",
        "attack_indices = np.where(y_val == 1)[0]\n",
        "plt.scatter(reduced_features[attack_indices, 0], reduced_features[attack_indices, 1], color='red', label='Attack')\n",
        "\n",
        "plt.title('DeepCluster - Attack vs Non-Attack Visualization')\n",
        "plt.legend()\n",
        "plt.show()\n"
      ],
      "metadata": {
        "colab": {
          "base_uri": "https://localhost:8080/",
          "height": 929
        },
        "id": "0OcDdbwj6K22",
        "outputId": "851acf37-62ab-4e4a-e906-9216f62415df"
      },
      "execution_count": 31,
      "outputs": [
        {
          "output_type": "stream",
          "name": "stdout",
          "text": [
            "Epoch 1/10 - Train Loss: 0.4180 - Val Loss: 0.3634 - Val Accuracy: 0.9501 - Val Precision: 0.9006 - Val Recall: 0.7170 - Val F1 Score: 0.7984 - Val PR AUC: 0.6848\n",
            "Epoch 2/10 - Train Loss: 0.3729 - Val Loss: 0.3718 - Val Accuracy: 0.9415 - Val Precision: 0.9959 - Val Recall: 0.5779 - Val F1 Score: 0.7314 - Val PR AUC: 0.6338\n",
            "Epoch 3/10 - Train Loss: 0.3794 - Val Loss: 0.3952 - Val Accuracy: 0.9173 - Val Precision: 0.8848 - Val Recall: 0.4604 - Val F1 Score: 0.6057 - Val PR AUC: 0.4818\n",
            "Epoch 4/10 - Train Loss: 0.3756 - Val Loss: 0.3777 - Val Accuracy: 0.9352 - Val Precision: 0.8877 - Val Recall: 0.6067 - Val F1 Score: 0.7208 - Val PR AUC: 0.5928\n",
            "Epoch 5/10 - Train Loss: 0.3786 - Val Loss: 0.3737 - Val Accuracy: 0.9395 - Val Precision: 0.9500 - Val Recall: 0.5923 - Val F1 Score: 0.7297 - Val PR AUC: 0.6189\n",
            "Epoch 6/10 - Train Loss: 0.3732 - Val Loss: 0.3725 - Val Accuracy: 0.9388 - Val Precision: 0.7816 - Val Recall: 0.7722 - Val F1 Score: 0.7768 - Val PR AUC: 0.6349\n",
            "Epoch 7/10 - Train Loss: 0.3700 - Val Loss: 0.3626 - Val Accuracy: 0.9464 - Val Precision: 0.8087 - Val Recall: 0.8010 - Val F1 Score: 0.8048 - Val PR AUC: 0.6752\n",
            "Epoch 8/10 - Train Loss: 0.3627 - Val Loss: 0.3605 - Val Accuracy: 0.9547 - Val Precision: 0.8627 - Val Recall: 0.7986 - Val F1 Score: 0.8294 - Val PR AUC: 0.7167\n",
            "Epoch 9/10 - Train Loss: 0.3650 - Val Loss: 0.3689 - Val Accuracy: 0.9411 - Val Precision: 0.7799 - Val Recall: 0.7986 - Val F1 Score: 0.7891 - Val PR AUC: 0.6505\n",
            "Epoch 10/10 - Train Loss: 0.3656 - Val Loss: 0.3655 - Val Accuracy: 0.9461 - Val Precision: 0.7995 - Val Recall: 0.8129 - Val F1 Score: 0.8062 - Val PR AUC: 0.6758\n",
            "Test Metrics:\n",
            "Test Accuracy: 0.9449\n",
            "Test Precision: 0.7954\n",
            "Test Recall: 0.8087\n",
            "Test F1 Score: 0.8020\n",
            "Test PR AUC: 0.6696\n",
            "Confusion Matrix:\n",
            "[[3600  124]\n",
            " [ 114  482]]\n"
          ]
        },
        {
          "output_type": "stream",
          "name": "stderr",
          "text": [
            "/usr/local/lib/python3.10/dist-packages/sklearn/cluster/_kmeans.py:870: FutureWarning: The default value of `n_init` will change from 10 to 'auto' in 1.4. Set the value of `n_init` explicitly to suppress the warning\n",
            "  warnings.warn(\n"
          ]
        },
        {
          "output_type": "display_data",
          "data": {
            "text/plain": [
              "<Figure size 800x600 with 1 Axes>"
            ],
            "image/png": "[encoded data removed]"
          },
          "metadata": {}
        }
      ]
    },
    {
      "cell_type": "code",
      "source": [
        "from google.colab import drive\n",
        "drive.mount('/content/drive')"
      ],
      "metadata": {
        "id": "9VLub853TiFG"
      },
      "execution_count": null,
      "outputs": []
    }
  ]
}