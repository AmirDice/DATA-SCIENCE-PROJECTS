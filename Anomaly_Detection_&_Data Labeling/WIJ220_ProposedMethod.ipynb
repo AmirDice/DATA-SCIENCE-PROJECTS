{
  "nbformat": 4,
  "nbformat_minor": 0,
  "metadata": {
    "colab": {
      "provenance": [],
      "collapsed_sections": [
        "K8vyJMwkkNgB"
      ]
    },
    "kernelspec": {
      "name": "python3",
      "display_name": "Python 3"
    },
    "language_info": {
      "name": "python"
    }
  },
  "cells": [
    {
      "cell_type": "markdown",
      "source": [
        "# **Anomaly Detection and Data Labeling: Adaptive Model Scheduling using SVM, K-means, and Isolation Forest**"
      ],
      "metadata": {
        "id": "x50362y2xnKR"
      }
    },
    {
      "cell_type": "markdown",
      "source": [
        "# **IMPORT THE REQUIRES LIBRARIES**"
      ],
      "metadata": {
        "id": "AJl5aajUj6id"
      }
    },
    {
      "cell_type": "code",
      "execution_count": 1,
      "metadata": {
        "id": "27DO7S9qUF-i"
      },
      "outputs": [],
      "source": [
        "import time\n",
        "import matplotlib.pyplot as plt\n",
        "import seaborn as sns\n",
        "import pandas as pd\n",
        "import pandas as pd\n",
        "import numpy as np\n",
        "import tensorflow as tf\n",
        "from sklearn.preprocessing import StandardScaler\n",
        "from sklearn.model_selection import train_test_split\n",
        "from sklearn.metrics import classification_report, confusion_matrix\n",
        "from sklearn.metrics import accuracy_score, f1_score, silhouette_score\n",
        "from sklearn.cluster import KMeans\n",
        "from sklearn.neighbors import LocalOutlierFactor\n",
        "from sklearn.preprocessing import OneHotEncoder, LabelEncoder\n",
        "from sklearn.ensemble import IsolationForest\n",
        "from sklearn.metrics import accuracy_score, f1_score"
      ]
    },
    {
      "cell_type": "markdown",
      "source": [
        "Load Dataset"
      ],
      "metadata": {
        "id": "tYwsI1LlkI17"
      }
    },
    {
      "cell_type": "code",
      "source": [
        "# Load the XLSX file into a pandas DataFrame\n",
        "df = pd.read_excel('/content/drive/MyDrive/SWaT_dataset_Jul19v2_clean.xlsx')\n",
        "\n",
        "# Print the first 5 rows of the DataFrame\n",
        "print(df.head())"
      ],
      "metadata": {
        "colab": {
          "base_uri": "https://localhost:8080/"
        },
        "id": "6GviMy8vjynr",
        "outputId": "0fe8df79-380e-493c-c672-828ac66cc37c"
      },
      "execution_count": 2,
      "outputs": [
        {
          "output_type": "stream",
          "name": "stdout",
          "text": [
            "               Timestamp   FIT 101     LIT 101  MV 101  P1_STATE  P101 Status  \\\n",
            "0  20/07/2019 4:39:59 PM  4.323736  492.896881       2         2            2   \n",
            "1  20/07/2019 4:39:58 PM  4.323736  492.465100       2         2            2   \n",
            "2  20/07/2019 4:39:57 PM  4.303558  492.308100       2         2            2   \n",
            "3  20/07/2019 4:39:56 PM  4.253915  491.405273       2         2            2   \n",
            "4  20/07/2019 4:39:55 PM  4.200429  491.169769       2         2            2   \n",
            "\n",
            "   P102 Status     AIT 201   AIT 202     AIT 203  ...  LSH 601 LSH 602  \\\n",
            "0            1  131.408615  9.313829  257.933868  ...   Active  Active   \n",
            "1            1  131.408615  9.316713  257.703156  ...   Active  Active   \n",
            "2            1  131.408615  9.317354  257.703156  ...   Active  Active   \n",
            "3            1  131.408615  9.317354  257.703156  ...   Active  Active   \n",
            "4            1  131.408615  9.319918  257.703156  ...   Active  Active   \n",
            "\n",
            "    LSH 603   LSL 601   LSL 602  LSL 603  P6 STATE  P601 Status  P602 Status  \\\n",
            "0  Inactive  Inactive  Inactive   Active         2            1            1   \n",
            "1  Inactive  Inactive  Inactive   Active         2            1            1   \n",
            "2  Inactive  Inactive  Inactive   Active         2            1            1   \n",
            "3  Inactive  Inactive  Inactive   Active         2            1            1   \n",
            "4  Inactive  Inactive  Inactive   Active         2            1            1   \n",
            "\n",
            "   P603 Status  \n",
            "0            1  \n",
            "1            1  \n",
            "2            1  \n",
            "3            1  \n",
            "4            1  \n",
            "\n",
            "[5 rows x 78 columns]\n"
          ]
        }
      ]
    },
    {
      "cell_type": "markdown",
      "source": [
        "# **DATA EXPLORATION**"
      ],
      "metadata": {
        "id": "K8vyJMwkkNgB"
      }
    },
    {
      "cell_type": "code",
      "source": [
        "# Print the shape of the DataFrame (number of rows and columns)\n",
        "print(df.shape)\n",
        "\n",
        "# Print the column names of the DataFrame\n",
        "print(df.columns)"
      ],
      "metadata": {
        "colab": {
          "base_uri": "https://localhost:8080/"
        },
        "id": "jGfa2KgFciZV",
        "outputId": "f8492186-b135-498b-a9b0-45eb1939d0c5"
      },
      "execution_count": 3,
      "outputs": [
        {
          "output_type": "stream",
          "name": "stdout",
          "text": [
            "(14996, 78)\n",
            "Index(['Timestamp', 'FIT 101', 'LIT 101', 'MV 101', 'P1_STATE', 'P101 Status',\n",
            "       'P102 Status', 'AIT 201', 'AIT 202', 'AIT 203', 'FIT 201', 'LS 201',\n",
            "       'LS 202', 'LSL 203', 'LSLL 203', 'MV201', 'P2_STATE', 'P201 Status',\n",
            "       'P202 Status', 'P203 Status', 'P204 Status', 'P205 Status',\n",
            "       'P206 Status', 'P207 Status', 'P208 Status', 'AIT 301', 'AIT 302',\n",
            "       'AIT 303', 'DPIT 301', 'FIT 301', 'LIT 301', 'MV 301', 'MV 302',\n",
            "       'MV 303', 'MV 304', 'P3_STATE', 'P301 Status', 'P302 Status', 'AIT 401',\n",
            "       'AIT 402', 'FIT 401', 'LIT 401', 'LS 401', 'P4_STATE', 'P401 Status',\n",
            "       'P402 Status', 'P403 Status', 'P404 Status', 'UV401', 'AIT 501',\n",
            "       'AIT 502', 'AIT 503', 'AIT 504', 'FIT 501', 'FIT 502', 'FIT 503',\n",
            "       'FIT 504', 'MV 501', 'MV 502', 'MV 503', 'MV 504', 'P5_STATE',\n",
            "       'P501 Status', 'P502 Status', 'PIT 501', 'PIT 502', 'PIT 503',\n",
            "       'FIT 601', 'LSH 601', 'LSH 602', 'LSH 603', 'LSL 601', 'LSL 602',\n",
            "       'LSL 603', 'P6 STATE', 'P601 Status', 'P602 Status', 'P603 Status'],\n",
            "      dtype='object')\n"
          ]
        }
      ]
    },
    {
      "cell_type": "code",
      "source": [
        "# Print summary statistics of numerical columns\n",
        "print(df.describe())"
      ],
      "metadata": {
        "id": "zHrjDHWfcmTv",
        "colab": {
          "base_uri": "https://localhost:8080/"
        },
        "outputId": "d50abef5-029c-4967-c42c-255cc9f94bb1"
      },
      "execution_count": 4,
      "outputs": [
        {
          "output_type": "stream",
          "name": "stdout",
          "text": [
            "            FIT 101       LIT 101        MV 101      P1_STATE   P101 Status  \\\n",
            "count  14996.000000  14996.000000  14996.000000  14996.000000  14996.000000   \n",
            "mean       0.740876    733.960251      1.156175      2.061616      1.374166   \n",
            "std        1.634632    110.960185      0.384272      0.240466      0.483923   \n",
            "min        0.000000    491.169769      0.000000      2.000000      1.000000   \n",
            "25%        0.000000    640.595184      1.000000      2.000000      1.000000   \n",
            "50%        0.000000    819.636841      1.000000      2.000000      1.000000   \n",
            "75%        0.000000    820.971436      1.000000      2.000000      2.000000   \n",
            "max        4.403484    825.092957      2.000000      3.000000      2.000000   \n",
            "\n",
            "       P102 Status       AIT 201       AIT 202       AIT 203       FIT 201  \\\n",
            "count      14996.0  14996.000000  14996.000000  14996.000000  14996.000000   \n",
            "mean           1.0    138.766501      9.210022    247.985162      0.869760   \n",
            "std            0.0      8.265845      0.175812     11.806186      1.121283   \n",
            "min            1.0    113.849014      8.768457    198.077423      0.000000   \n",
            "25%            1.0    131.536789      9.090170    239.887200      0.000384   \n",
            "50%            1.0    143.713150      9.233082    246.218918      0.000513   \n",
            "75%            1.0    144.033585      9.345873    257.190460      2.320187   \n",
            "max            1.0    146.821335      9.490067    272.289154      2.342357   \n",
            "\n",
            "       ...  P501 Status  P502 Status       PIT 501       PIT 502  \\\n",
            "count  ...      14996.0      14996.0  14996.000000  14996.000000   \n",
            "mean   ...          2.0          1.0    160.706744      4.673115   \n",
            "std    ...          0.0          0.0      5.707502     18.183883   \n",
            "min    ...          2.0          1.0    158.132523      2.450902   \n",
            "25%    ...          2.0          1.0    159.526400      2.851376   \n",
            "50%    ...          2.0          1.0    160.231354      2.883414   \n",
            "75%    ...          2.0          1.0    160.695969      2.963509   \n",
            "max    ...          2.0          1.0    219.014359    192.371765   \n",
            "\n",
            "            PIT 503       FIT 601  P6 STATE   P601 Status  P602 Status  \\\n",
            "count  14996.000000  14996.000000   14996.0  14996.000000      14996.0   \n",
            "mean     115.157048      0.000402       2.0      1.015337          1.0   \n",
            "std        5.324942      0.003317       0.0      0.122895          0.0   \n",
            "min      111.654060      0.000000       2.0      1.000000          1.0   \n",
            "25%      114.233528      0.000256       2.0      1.000000          1.0   \n",
            "50%      114.714172      0.000320       2.0      1.000000          1.0   \n",
            "75%      115.002563      0.000320       2.0      1.000000          1.0   \n",
            "max      170.565247      0.137315       2.0      2.000000          1.0   \n",
            "\n",
            "       P603 Status  \n",
            "count      14996.0  \n",
            "mean           1.0  \n",
            "std            0.0  \n",
            "min            1.0  \n",
            "25%            1.0  \n",
            "50%            1.0  \n",
            "75%            1.0  \n",
            "max            1.0  \n",
            "\n",
            "[8 rows x 66 columns]\n"
          ]
        }
      ]
    },
    {
      "cell_type": "code",
      "source": [
        "# Print the number of unique values in each column\n",
        "print(df.nunique())"
      ],
      "metadata": {
        "id": "grUijyyMcpWA",
        "colab": {
          "base_uri": "https://localhost:8080/"
        },
        "outputId": "ae925bf8-6174-4061-9a2c-ecd14ec6ec42"
      },
      "execution_count": 5,
      "outputs": [
        {
          "output_type": "stream",
          "name": "stdout",
          "text": [
            "Timestamp      14991\n",
            "FIT 101          310\n",
            "LIT 101         4493\n",
            "MV 101             3\n",
            "P1_STATE           2\n",
            "               ...  \n",
            "LSL 603            1\n",
            "P6 STATE           1\n",
            "P601 Status        2\n",
            "P602 Status        1\n",
            "P603 Status        1\n",
            "Length: 78, dtype: int64\n"
          ]
        }
      ]
    },
    {
      "cell_type": "code",
      "source": [
        "# Print the data types of each column\n",
        "print(df.dtypes)"
      ],
      "metadata": {
        "id": "ITKbpyPTcry1",
        "colab": {
          "base_uri": "https://localhost:8080/"
        },
        "outputId": "8f5938c4-096f-4ed8-f230-593bd7d12e83"
      },
      "execution_count": 6,
      "outputs": [
        {
          "output_type": "stream",
          "name": "stdout",
          "text": [
            "Timestamp       object\n",
            "FIT 101        float64\n",
            "LIT 101        float64\n",
            "MV 101           int64\n",
            "P1_STATE         int64\n",
            "                ...   \n",
            "LSL 603         object\n",
            "P6 STATE         int64\n",
            "P601 Status      int64\n",
            "P602 Status      int64\n",
            "P603 Status      int64\n",
            "Length: 78, dtype: object\n"
          ]
        }
      ]
    },
    {
      "cell_type": "code",
      "source": [
        "# Print the number of missing values in each column\n",
        "print(df.isnull().sum())"
      ],
      "metadata": {
        "id": "bSpq6wrWczWs",
        "colab": {
          "base_uri": "https://localhost:8080/"
        },
        "outputId": "e709ca31-2c7b-4775-ca63-fbe75816a5be"
      },
      "execution_count": 7,
      "outputs": [
        {
          "output_type": "stream",
          "name": "stdout",
          "text": [
            "Timestamp      0\n",
            "FIT 101        0\n",
            "LIT 101        0\n",
            "MV 101         0\n",
            "P1_STATE       0\n",
            "              ..\n",
            "LSL 603        0\n",
            "P6 STATE       0\n",
            "P601 Status    0\n",
            "P602 Status    0\n",
            "P603 Status    0\n",
            "Length: 78, dtype: int64\n"
          ]
        }
      ]
    },
    {
      "cell_type": "code",
      "source": [
        "print(df.head)"
      ],
      "metadata": {
        "id": "XFQ4554hc100",
        "colab": {
          "base_uri": "https://localhost:8080/"
        },
        "outputId": "fd2813f8-8803-49a3-8806-f4e44cfa6c52"
      },
      "execution_count": 8,
      "outputs": [
        {
          "output_type": "stream",
          "name": "stdout",
          "text": [
            "<bound method NDFrame.head of                     Timestamp   FIT 101     LIT 101  MV 101  P1_STATE  \\\n",
            "0       20/07/2019 4:39:59 PM  4.323736  492.896881       2         2   \n",
            "1       20/07/2019 4:39:58 PM  4.323736  492.465100       2         2   \n",
            "2       20/07/2019 4:39:57 PM  4.303558  492.308100       2         2   \n",
            "3       20/07/2019 4:39:56 PM  4.253915  491.405273       2         2   \n",
            "4       20/07/2019 4:39:55 PM  4.200429  491.169769       2         2   \n",
            "...                       ...       ...         ...     ...       ...   \n",
            "14991  20/07/2019 12:30:04 PM  0.000000  727.706900       1         3   \n",
            "14992  20/07/2019 12:30:03 PM  0.000000  728.688200       1         3   \n",
            "14993  20/07/2019 12:30:02 PM  0.000000  729.120000       1         3   \n",
            "14994  20/07/2019 12:30:01 PM  0.000000  729.434000       1         3   \n",
            "14995  20/07/2019 12:30:00 PM  0.000000  729.865800       1         3   \n",
            "\n",
            "       P101 Status  P102 Status     AIT 201   AIT 202     AIT 203  ...  \\\n",
            "0                2            1  131.408615  9.313829  257.933868  ...   \n",
            "1                2            1  131.408615  9.316713  257.703156  ...   \n",
            "2                2            1  131.408615  9.317354  257.703156  ...   \n",
            "3                2            1  131.408615  9.317354  257.703156  ...   \n",
            "4                2            1  131.408615  9.319918  257.703156  ...   \n",
            "...            ...          ...         ...       ...         ...  ...   \n",
            "14991            2            1  142.527557  9.289157  198.897720  ...   \n",
            "14992            2            1  142.527557  9.289157  198.667000  ...   \n",
            "14993            2            1  142.527557  9.293002  198.436300  ...   \n",
            "14994            2            1  142.527557  9.293002  198.385025  ...   \n",
            "14995            2            1  142.527557  9.293002  198.077423  ...   \n",
            "\n",
            "       LSH 601 LSH 602   LSH 603   LSL 601   LSL 602  LSL 603  P6 STATE  \\\n",
            "0       Active  Active  Inactive  Inactive  Inactive   Active         2   \n",
            "1       Active  Active  Inactive  Inactive  Inactive   Active         2   \n",
            "2       Active  Active  Inactive  Inactive  Inactive   Active         2   \n",
            "3       Active  Active  Inactive  Inactive  Inactive   Active         2   \n",
            "4       Active  Active  Inactive  Inactive  Inactive   Active         2   \n",
            "...        ...     ...       ...       ...       ...      ...       ...   \n",
            "14991   Active  Active  Inactive  Inactive  Inactive   Active         2   \n",
            "14992   Active  Active  Inactive  Inactive  Inactive   Active         2   \n",
            "14993   Active  Active  Inactive  Inactive  Inactive   Active         2   \n",
            "14994   Active  Active  Inactive  Inactive  Inactive   Active         2   \n",
            "14995   Active  Active  Inactive  Inactive  Inactive   Active         2   \n",
            "\n",
            "       P601 Status  P602 Status  P603 Status  \n",
            "0                1            1            1  \n",
            "1                1            1            1  \n",
            "2                1            1            1  \n",
            "3                1            1            1  \n",
            "4                1            1            1  \n",
            "...            ...          ...          ...  \n",
            "14991            1            1            1  \n",
            "14992            1            1            1  \n",
            "14993            1            1            1  \n",
            "14994            1            1            1  \n",
            "14995            1            1            1  \n",
            "\n",
            "[14996 rows x 78 columns]>\n"
          ]
        }
      ]
    },
    {
      "cell_type": "markdown",
      "source": [
        "# **DATA PREPROCESSING**"
      ],
      "metadata": {
        "id": "qxt8JPPhkXiy"
      }
    },
    {
      "cell_type": "code",
      "source": [
        "# Convert Timestamp column to datetime\n",
        "df['Timestamp'] = pd.to_datetime(df['Timestamp'])"
      ],
      "metadata": {
        "id": "i5jRuhOfdVWt"
      },
      "execution_count": 3,
      "outputs": []
    },
    {
      "cell_type": "code",
      "source": [
        "# Subset the dataset to only include records between 12:35 PM and 4:35 PM on 20 July 2019\n",
        "start_time = pd.to_datetime(\"2019-07-20 12:35:00\")\n",
        "end_time = pd.to_datetime(\"2019-07-20 16:35:00\")\n",
        "df = df[(df['Timestamp'] >= start_time) & (df['Timestamp'] <= end_time)]"
      ],
      "metadata": {
        "id": "028SBjJ7WUpR"
      },
      "execution_count": 4,
      "outputs": []
    },
    {
      "cell_type": "code",
      "source": [
        "# Print the shape of the DataFrame (number of rows and columns)\n",
        "print(df.shape)"
      ],
      "metadata": {
        "colab": {
          "base_uri": "https://localhost:8080/"
        },
        "id": "YQlrRSy-9OlY",
        "outputId": "6b51decd-03e9-4fcb-ce18-f82a37dd89c9"
      },
      "execution_count": 11,
      "outputs": [
        {
          "output_type": "stream",
          "name": "stdout",
          "text": [
            "(14397, 78)\n"
          ]
        }
      ]
    },
    {
      "cell_type": "code",
      "source": [
        "!pip install --upgrade scikit-learn"
      ],
      "metadata": {
        "colab": {
          "base_uri": "https://localhost:8080/"
        },
        "id": "EX8-540aWcws",
        "outputId": "230d120f-af60-44e2-cdc7-9afa96849e33"
      },
      "execution_count": null,
      "outputs": [
        {
          "output_type": "stream",
          "name": "stdout",
          "text": [
            "Looking in indexes: https://pypi.org/simple, https://us-python.pkg.dev/colab-wheels/public/simple/\n",
            "Requirement already satisfied: scikit-learn in /usr/local/lib/python3.10/dist-packages (1.2.2)\n",
            "Requirement already satisfied: scipy>=1.3.2 in /usr/local/lib/python3.10/dist-packages (from scikit-learn) (1.10.1)\n",
            "Requirement already satisfied: joblib>=1.1.1 in /usr/local/lib/python3.10/dist-packages (from scikit-learn) (1.2.0)\n",
            "Requirement already satisfied: numpy>=1.17.3 in /usr/local/lib/python3.10/dist-packages (from scikit-learn) (1.22.4)\n",
            "Requirement already satisfied: threadpoolctl>=2.0.0 in /usr/local/lib/python3.10/dist-packages (from scikit-learn) (3.1.0)\n"
          ]
        }
      ]
    },
    {
      "cell_type": "markdown",
      "source": [
        "Encoding and Filtering"
      ],
      "metadata": {
        "id": "-I8SHa3ikrId"
      }
    },
    {
      "cell_type": "code",
      "source": [
        "# Select only the categorical columns\n",
        "cat_cols = [\"P1_STATE\", \"P2_STATE\", \"P3_STATE\", \"P4_STATE\", \"P5_STATE\", \"P6 STATE\",\n",
        "            \"P101 Status\", \"P102 Status\", \"P201 Status\", \"P202 Status\", \"P203 Status\",\n",
        "            \"P204 Status\", \"P205 Status\", \"P206 Status\", \"P207 Status\", \"P208 Status\",\n",
        "            \"P301 Status\", \"P302 Status\", \"LS 201\", \"LS 202\", \"LSL 203\", \"LSLL 203\",\n",
        "            \"MV201\", \"MV 301\", \"MV 302\", \"MV 303\", \"MV 304\", \"UV401\",\n",
        "            \"MV 501\", \"MV 502\", \"MV 503\", \"MV 504\",\n",
        "            \"P501 Status\", \"P502 Status\"]\n",
        "df_cat = df[cat_cols]\n",
        "\n",
        "# Perform one-hot encoding on the state columns\n",
        "ohe = OneHotEncoder(sparse=False)\n",
        "state_ohe = ohe.fit_transform(df_cat[[\"P1_STATE\", \"P2_STATE\", \"P3_STATE\",\n",
        "                                      \"P4_STATE\", \"P5_STATE\", \"P6 STATE\"]])\n",
        "state_ohe_df = pd.DataFrame(state_ohe, columns=ohe.get_feature_names_out([\"P1_STATE\",\n",
        "                                                                      \"P2_STATE\",\n",
        "                                                                      \"P3_STATE\",\n",
        "                                                                      \"P4_STATE\",\n",
        "                                                                      \"P5_STATE\",\n",
        "                                                                      \"P6 STATE\"]))\n",
        "df_cat = pd.concat([df_cat, state_ohe_df], axis=1).drop([\"P1_STATE\",\n",
        "                                                         \"P2_STATE\",\n",
        "                                                         \"P3_STATE\",\n",
        "                                                         \"P4_STATE\",\n",
        "                                                         \"P5_STATE\",\n",
        "                                                         \"P6 STATE\"], axis=1)\n",
        "\n",
        "# Perform label encoding on the status columns\n",
        "le = LabelEncoder()\n",
        "for col in df_cat.columns:\n",
        "    if col.startswith(\"LS\") or col.startswith(\"MV\") or col.startswith(\"UV\") or col.endswith(\"Status\") and col !=\"Timestamp\":\n",
        "        df_cat[col] = le.fit_transform(df_cat[col])\n",
        "        \n",
        "# Overwrite only the categorical columns in df with the encoded columns from df_cat\n",
        "df.update(df_cat)"
      ],
      "metadata": {
        "colab": {
          "base_uri": "https://localhost:8080/"
        },
        "id": "3g5lGqYIWgNg",
        "outputId": "902f2821-68d4-45ba-a1a5-330638715528"
      },
      "execution_count": 5,
      "outputs": [
        {
          "output_type": "stream",
          "name": "stderr",
          "text": [
            "/usr/local/lib/python3.10/dist-packages/sklearn/preprocessing/_encoders.py:868: FutureWarning: `sparse` was renamed to `sparse_output` in version 1.2 and will be removed in 1.4. `sparse_output` is ignored unless you leave `sparse` to its default value.\n",
            "  warnings.warn(\n",
            "<ipython-input-5-fc5bf2bc959a>:35: SettingWithCopyWarning: \n",
            "A value is trying to be set on a copy of a slice from a DataFrame.\n",
            "Try using .loc[row_indexer,col_indexer] = value instead\n",
            "\n",
            "See the caveats in the documentation: https://pandas.pydata.org/pandas-docs/stable/user_guide/indexing.html#returning-a-view-versus-a-copy\n",
            "  df.update(df_cat)\n",
            "<ipython-input-5-fc5bf2bc959a>:35: SettingWithCopyWarning: \n",
            "A value is trying to be set on a copy of a slice from a DataFrame.\n",
            "Try using .loc[row_indexer,col_indexer] = value instead\n",
            "\n",
            "See the caveats in the documentation: https://pandas.pydata.org/pandas-docs/stable/user_guide/indexing.html#returning-a-view-versus-a-copy\n",
            "  df.update(df_cat)\n",
            "<ipython-input-5-fc5bf2bc959a>:35: SettingWithCopyWarning: \n",
            "A value is trying to be set on a copy of a slice from a DataFrame.\n",
            "Try using .loc[row_indexer,col_indexer] = value instead\n",
            "\n",
            "See the caveats in the documentation: https://pandas.pydata.org/pandas-docs/stable/user_guide/indexing.html#returning-a-view-versus-a-copy\n",
            "  df.update(df_cat)\n",
            "<ipython-input-5-fc5bf2bc959a>:35: SettingWithCopyWarning: \n",
            "A value is trying to be set on a copy of a slice from a DataFrame.\n",
            "Try using .loc[row_indexer,col_indexer] = value instead\n",
            "\n",
            "See the caveats in the documentation: https://pandas.pydata.org/pandas-docs/stable/user_guide/indexing.html#returning-a-view-versus-a-copy\n",
            "  df.update(df_cat)\n",
            "<ipython-input-5-fc5bf2bc959a>:35: SettingWithCopyWarning: \n",
            "A value is trying to be set on a copy of a slice from a DataFrame.\n",
            "Try using .loc[row_indexer,col_indexer] = value instead\n",
            "\n",
            "See the caveats in the documentation: https://pandas.pydata.org/pandas-docs/stable/user_guide/indexing.html#returning-a-view-versus-a-copy\n",
            "  df.update(df_cat)\n",
            "<ipython-input-5-fc5bf2bc959a>:35: SettingWithCopyWarning: \n",
            "A value is trying to be set on a copy of a slice from a DataFrame.\n",
            "Try using .loc[row_indexer,col_indexer] = value instead\n",
            "\n",
            "See the caveats in the documentation: https://pandas.pydata.org/pandas-docs/stable/user_guide/indexing.html#returning-a-view-versus-a-copy\n",
            "  df.update(df_cat)\n",
            "<ipython-input-5-fc5bf2bc959a>:35: SettingWithCopyWarning: \n",
            "A value is trying to be set on a copy of a slice from a DataFrame.\n",
            "Try using .loc[row_indexer,col_indexer] = value instead\n",
            "\n",
            "See the caveats in the documentation: https://pandas.pydata.org/pandas-docs/stable/user_guide/indexing.html#returning-a-view-versus-a-copy\n",
            "  df.update(df_cat)\n",
            "<ipython-input-5-fc5bf2bc959a>:35: SettingWithCopyWarning: \n",
            "A value is trying to be set on a copy of a slice from a DataFrame.\n",
            "Try using .loc[row_indexer,col_indexer] = value instead\n",
            "\n",
            "See the caveats in the documentation: https://pandas.pydata.org/pandas-docs/stable/user_guide/indexing.html#returning-a-view-versus-a-copy\n",
            "  df.update(df_cat)\n",
            "<ipython-input-5-fc5bf2bc959a>:35: SettingWithCopyWarning: \n",
            "A value is trying to be set on a copy of a slice from a DataFrame.\n",
            "Try using .loc[row_indexer,col_indexer] = value instead\n",
            "\n",
            "See the caveats in the documentation: https://pandas.pydata.org/pandas-docs/stable/user_guide/indexing.html#returning-a-view-versus-a-copy\n",
            "  df.update(df_cat)\n",
            "<ipython-input-5-fc5bf2bc959a>:35: SettingWithCopyWarning: \n",
            "A value is trying to be set on a copy of a slice from a DataFrame.\n",
            "Try using .loc[row_indexer,col_indexer] = value instead\n",
            "\n",
            "See the caveats in the documentation: https://pandas.pydata.org/pandas-docs/stable/user_guide/indexing.html#returning-a-view-versus-a-copy\n",
            "  df.update(df_cat)\n",
            "<ipython-input-5-fc5bf2bc959a>:35: SettingWithCopyWarning: \n",
            "A value is trying to be set on a copy of a slice from a DataFrame.\n",
            "Try using .loc[row_indexer,col_indexer] = value instead\n",
            "\n",
            "See the caveats in the documentation: https://pandas.pydata.org/pandas-docs/stable/user_guide/indexing.html#returning-a-view-versus-a-copy\n",
            "  df.update(df_cat)\n",
            "<ipython-input-5-fc5bf2bc959a>:35: SettingWithCopyWarning: \n",
            "A value is trying to be set on a copy of a slice from a DataFrame.\n",
            "Try using .loc[row_indexer,col_indexer] = value instead\n",
            "\n",
            "See the caveats in the documentation: https://pandas.pydata.org/pandas-docs/stable/user_guide/indexing.html#returning-a-view-versus-a-copy\n",
            "  df.update(df_cat)\n",
            "<ipython-input-5-fc5bf2bc959a>:35: SettingWithCopyWarning: \n",
            "A value is trying to be set on a copy of a slice from a DataFrame.\n",
            "Try using .loc[row_indexer,col_indexer] = value instead\n",
            "\n",
            "See the caveats in the documentation: https://pandas.pydata.org/pandas-docs/stable/user_guide/indexing.html#returning-a-view-versus-a-copy\n",
            "  df.update(df_cat)\n",
            "<ipython-input-5-fc5bf2bc959a>:35: SettingWithCopyWarning: \n",
            "A value is trying to be set on a copy of a slice from a DataFrame.\n",
            "Try using .loc[row_indexer,col_indexer] = value instead\n",
            "\n",
            "See the caveats in the documentation: https://pandas.pydata.org/pandas-docs/stable/user_guide/indexing.html#returning-a-view-versus-a-copy\n",
            "  df.update(df_cat)\n",
            "<ipython-input-5-fc5bf2bc959a>:35: SettingWithCopyWarning: \n",
            "A value is trying to be set on a copy of a slice from a DataFrame.\n",
            "Try using .loc[row_indexer,col_indexer] = value instead\n",
            "\n",
            "See the caveats in the documentation: https://pandas.pydata.org/pandas-docs/stable/user_guide/indexing.html#returning-a-view-versus-a-copy\n",
            "  df.update(df_cat)\n",
            "<ipython-input-5-fc5bf2bc959a>:35: SettingWithCopyWarning: \n",
            "A value is trying to be set on a copy of a slice from a DataFrame.\n",
            "Try using .loc[row_indexer,col_indexer] = value instead\n",
            "\n",
            "See the caveats in the documentation: https://pandas.pydata.org/pandas-docs/stable/user_guide/indexing.html#returning-a-view-versus-a-copy\n",
            "  df.update(df_cat)\n",
            "<ipython-input-5-fc5bf2bc959a>:35: SettingWithCopyWarning: \n",
            "A value is trying to be set on a copy of a slice from a DataFrame.\n",
            "Try using .loc[row_indexer,col_indexer] = value instead\n",
            "\n",
            "See the caveats in the documentation: https://pandas.pydata.org/pandas-docs/stable/user_guide/indexing.html#returning-a-view-versus-a-copy\n",
            "  df.update(df_cat)\n",
            "<ipython-input-5-fc5bf2bc959a>:35: SettingWithCopyWarning: \n",
            "A value is trying to be set on a copy of a slice from a DataFrame.\n",
            "Try using .loc[row_indexer,col_indexer] = value instead\n",
            "\n",
            "See the caveats in the documentation: https://pandas.pydata.org/pandas-docs/stable/user_guide/indexing.html#returning-a-view-versus-a-copy\n",
            "  df.update(df_cat)\n",
            "<ipython-input-5-fc5bf2bc959a>:35: SettingWithCopyWarning: \n",
            "A value is trying to be set on a copy of a slice from a DataFrame.\n",
            "Try using .loc[row_indexer,col_indexer] = value instead\n",
            "\n",
            "See the caveats in the documentation: https://pandas.pydata.org/pandas-docs/stable/user_guide/indexing.html#returning-a-view-versus-a-copy\n",
            "  df.update(df_cat)\n",
            "<ipython-input-5-fc5bf2bc959a>:35: SettingWithCopyWarning: \n",
            "A value is trying to be set on a copy of a slice from a DataFrame.\n",
            "Try using .loc[row_indexer,col_indexer] = value instead\n",
            "\n",
            "See the caveats in the documentation: https://pandas.pydata.org/pandas-docs/stable/user_guide/indexing.html#returning-a-view-versus-a-copy\n",
            "  df.update(df_cat)\n",
            "<ipython-input-5-fc5bf2bc959a>:35: SettingWithCopyWarning: \n",
            "A value is trying to be set on a copy of a slice from a DataFrame.\n",
            "Try using .loc[row_indexer,col_indexer] = value instead\n",
            "\n",
            "See the caveats in the documentation: https://pandas.pydata.org/pandas-docs/stable/user_guide/indexing.html#returning-a-view-versus-a-copy\n",
            "  df.update(df_cat)\n",
            "<ipython-input-5-fc5bf2bc959a>:35: SettingWithCopyWarning: \n",
            "A value is trying to be set on a copy of a slice from a DataFrame.\n",
            "Try using .loc[row_indexer,col_indexer] = value instead\n",
            "\n",
            "See the caveats in the documentation: https://pandas.pydata.org/pandas-docs/stable/user_guide/indexing.html#returning-a-view-versus-a-copy\n",
            "  df.update(df_cat)\n",
            "<ipython-input-5-fc5bf2bc959a>:35: SettingWithCopyWarning: \n",
            "A value is trying to be set on a copy of a slice from a DataFrame.\n",
            "Try using .loc[row_indexer,col_indexer] = value instead\n",
            "\n",
            "See the caveats in the documentation: https://pandas.pydata.org/pandas-docs/stable/user_guide/indexing.html#returning-a-view-versus-a-copy\n",
            "  df.update(df_cat)\n",
            "<ipython-input-5-fc5bf2bc959a>:35: SettingWithCopyWarning: \n",
            "A value is trying to be set on a copy of a slice from a DataFrame.\n",
            "Try using .loc[row_indexer,col_indexer] = value instead\n",
            "\n",
            "See the caveats in the documentation: https://pandas.pydata.org/pandas-docs/stable/user_guide/indexing.html#returning-a-view-versus-a-copy\n",
            "  df.update(df_cat)\n",
            "<ipython-input-5-fc5bf2bc959a>:35: SettingWithCopyWarning: \n",
            "A value is trying to be set on a copy of a slice from a DataFrame.\n",
            "Try using .loc[row_indexer,col_indexer] = value instead\n",
            "\n",
            "See the caveats in the documentation: https://pandas.pydata.org/pandas-docs/stable/user_guide/indexing.html#returning-a-view-versus-a-copy\n",
            "  df.update(df_cat)\n",
            "<ipython-input-5-fc5bf2bc959a>:35: SettingWithCopyWarning: \n",
            "A value is trying to be set on a copy of a slice from a DataFrame.\n",
            "Try using .loc[row_indexer,col_indexer] = value instead\n",
            "\n",
            "See the caveats in the documentation: https://pandas.pydata.org/pandas-docs/stable/user_guide/indexing.html#returning-a-view-versus-a-copy\n",
            "  df.update(df_cat)\n",
            "<ipython-input-5-fc5bf2bc959a>:35: SettingWithCopyWarning: \n",
            "A value is trying to be set on a copy of a slice from a DataFrame.\n",
            "Try using .loc[row_indexer,col_indexer] = value instead\n",
            "\n",
            "See the caveats in the documentation: https://pandas.pydata.org/pandas-docs/stable/user_guide/indexing.html#returning-a-view-versus-a-copy\n",
            "  df.update(df_cat)\n",
            "<ipython-input-5-fc5bf2bc959a>:35: SettingWithCopyWarning: \n",
            "A value is trying to be set on a copy of a slice from a DataFrame.\n",
            "Try using .loc[row_indexer,col_indexer] = value instead\n",
            "\n",
            "See the caveats in the documentation: https://pandas.pydata.org/pandas-docs/stable/user_guide/indexing.html#returning-a-view-versus-a-copy\n",
            "  df.update(df_cat)\n"
          ]
        }
      ]
    },
    {
      "cell_type": "markdown",
      "source": [
        "# **Data Labeling and Normalizing**"
      ],
      "metadata": {
        "id": "GJEnLyD9k-xU"
      }
    },
    {
      "cell_type": "code",
      "source": [
        "df = df.set_index('Timestamp')\n",
        "# Label the attacks as binary\n",
        "df['Attack'] = 0\n",
        "# Attack on FIT401\n",
        "df.loc[(df.index >= pd.to_datetime(\"2019-07-20 15:08:46\")) & (df.index <= pd.to_datetime(\"2019-07-20 15:10:31\")), 'Attack'] = 1\n",
        "# Attack on LIT301\n",
        "df.loc[(df.index >= pd.to_datetime(\"2019-07-20 15:15:00\")) & (df.index <= pd.to_datetime(\"2019-07-20 15:19:32\")), 'Attack'] = 1\n",
        "# Attack on P601\n",
        "df.loc[(df.index >= pd.to_datetime(\"2019-07-20 15:26:57\")) & (df.index <= pd.to_datetime(\"2019-07-20 15:30:48\")), 'Attack'] = 1\n",
        "# Multi-point Attack\n",
        "df.loc[(df.index >= pd.to_datetime(\"2019-07-20 15:38:50\")) & (df.index <= pd.to_datetime(\"2019-07-20 15:46:20\")), 'Attack'] = 1\n",
        "# Attack on MV501\n",
        "df.loc[(df.index >= pd.to_datetime(\"2019-07-20 15:54:00\")) & (df.index <= pd.to_datetime(\"2019-07-20 15:56:00\")), 'Attack'] = 1\n",
        "# Attack on P301\n",
        "df.loc[(df.index >= pd.to_datetime(\"2019-07-20 16:02:56\")) & (df.index <= pd.to_datetime(\"2019-07-20 16:16:18\")), 'Attack'] = 1"
      ],
      "metadata": {
        "id": "-RSLcLnrWqLr"
      },
      "execution_count": 6,
      "outputs": []
    },
    {
      "cell_type": "code",
      "source": [
        "total_labeled_rows = len(df[df['Attack'] == 1])\n",
        "print(\"Total number of rows labeled with attacks:\", total_labeled_rows)\n",
        "total_nonlabeled_rows = len(df[df['Attack'] == 0])\n",
        "print(\"Total number of rows not labeled:\", total_nonlabeled_rows)"
      ],
      "metadata": {
        "colab": {
          "base_uri": "https://localhost:8080/"
        },
        "id": "VNw4_nNJS8j1",
        "outputId": "0fe0b063-cb58-4089-e6ca-2f248a88f500"
      },
      "execution_count": 7,
      "outputs": [
        {
          "output_type": "stream",
          "name": "stdout",
          "text": [
            "Total number of rows labeled with attacks: 1986\n",
            "Total number of rows not labeled: 12411\n"
          ]
        }
      ]
    },
    {
      "cell_type": "code",
      "source": [
        "from sklearn.preprocessing import StandardScaler\n",
        "\n",
        "# Separate the Attack column\n",
        "attack_series = df.pop('Attack')\n",
        "\n",
        "# Normalize the numeric columns, exclude the Attack column\n",
        "numeric_cols = df.select_dtypes(include=['float64', 'int64']).columns\n",
        "numeric_cols = [col for col in numeric_cols if col != 'Attack']\n",
        "scaler = StandardScaler()\n",
        "df[numeric_cols] = scaler.fit_transform(df[numeric_cols])\n",
        "\n",
        "# Add the Attack column back to the dataframe\n",
        "df['Attack'] = attack_series\n",
        "\n",
        "# Fill missing values with zeros\n",
        "df.fillna(0, inplace=True)\n",
        "\n",
        "# Drop unnecessary columns\n",
        "columns_to_drop = ['LS 401', 'LSH 601', 'LSH 602', 'LSH 603', 'LSL 601', 'LSL 602', 'LSL 603']\n",
        "df.drop(columns_to_drop, axis=1, inplace=True)"
      ],
      "metadata": {
        "id": "ybpZvzyXWypm"
      },
      "execution_count": 8,
      "outputs": []
    },
    {
      "cell_type": "code",
      "source": [
        "print(df.head())"
      ],
      "metadata": {
        "colab": {
          "base_uri": "https://localhost:8080/"
        },
        "id": "xcgnP4lFLEOX",
        "outputId": "6a1f49ac-aa0b-4bf4-d6d0-b0c203200ddb"
      },
      "execution_count": 16,
      "outputs": [
        {
          "output_type": "stream",
          "name": "stdout",
          "text": [
            "                      FIT 101   LIT 101    MV 101  P1_STATE  P101 Status  \\\n",
            "Timestamp                                                                  \n",
            "2019-07-20 16:35:00 -0.463164 -1.072026 -0.417491 -0.212852     1.368395   \n",
            "2019-07-20 16:34:59 -0.463164 -1.061974 -0.417491 -0.212852     1.368395   \n",
            "2019-07-20 16:34:58 -0.463164 -1.056230 -0.417491 -0.212852     1.368395   \n",
            "2019-07-20 16:34:57 -0.463164 -1.053357 -0.417491 -0.212852     1.368395   \n",
            "2019-07-20 16:34:56 -0.463164 -1.046895 -0.417491 -0.212852     1.368395   \n",
            "\n",
            "                     P102 Status   AIT 201   AIT 202   AIT 203   FIT 201  ...  \\\n",
            "Timestamp                                                                 ...   \n",
            "2019-07-20 16:35:00          0.0 -0.870361  0.566302  0.009090  1.372166  ...   \n",
            "2019-07-20 16:34:59          0.0 -0.870361  0.584273  0.009090  1.372166  ...   \n",
            "2019-07-20 16:34:58          0.0 -0.870361  0.584273  0.009090  1.371237  ...   \n",
            "2019-07-20 16:34:57          0.0 -0.870361  0.584273  0.009090  1.370192  ...   \n",
            "2019-07-20 16:34:56          0.0 -0.870361  0.584273 -0.007032  1.370192  ...   \n",
            "\n",
            "                    P502 Status   PIT 501   PIT 502   PIT 503   FIT 601  \\\n",
            "Timestamp                                                                 \n",
            "2019-07-20 16:35:00         0.0 -0.336598 -0.121501 -0.274878 -0.025213   \n",
            "2019-07-20 16:34:59         0.0 -0.336598 -0.121501 -0.274878 -0.025213   \n",
            "2019-07-20 16:34:58         0.0 -0.336598 -0.121501 -0.274878 -0.025213   \n",
            "2019-07-20 16:34:57         0.0 -0.336598 -0.121501 -0.274878 -0.025213   \n",
            "2019-07-20 16:34:56         0.0 -0.336598 -0.121501 -0.274878 -0.025213   \n",
            "\n",
            "                     P6 STATE  P601 Status  P602 Status  P603 Status  Attack  \n",
            "Timestamp                                                                     \n",
            "2019-07-20 16:35:00       0.0    -0.127416          0.0          0.0       0  \n",
            "2019-07-20 16:34:59       0.0    -0.127416          0.0          0.0       0  \n",
            "2019-07-20 16:34:58       0.0    -0.127416          0.0          0.0       0  \n",
            "2019-07-20 16:34:57       0.0    -0.127416          0.0          0.0       0  \n",
            "2019-07-20 16:34:56       0.0    -0.127416          0.0          0.0       0  \n",
            "\n",
            "[5 rows x 71 columns]\n"
          ]
        }
      ]
    },
    {
      "cell_type": "code",
      "source": [
        "if (df['Attack'] > 0 ).any():\n",
        "  print(\"The Attack column has values greater than 0\")\n",
        "else:\n",
        "  print(\"it has none\")"
      ],
      "metadata": {
        "colab": {
          "base_uri": "https://localhost:8080/"
        },
        "id": "v-w1jTJMMGNG",
        "outputId": "a48b0cdc-6fed-4d72-ee3d-a1c7850e7c56"
      },
      "execution_count": 17,
      "outputs": [
        {
          "output_type": "stream",
          "name": "stdout",
          "text": [
            "The Attack column has values greater than 0\n"
          ]
        }
      ]
    },
    {
      "cell_type": "code",
      "source": [
        "# filtered_df = df[df['Attack'] != 0]\n",
        "# print(filtered_df)"
      ],
      "metadata": {
        "id": "89_mnKdDM06p"
      },
      "execution_count": null,
      "outputs": []
    },
    {
      "cell_type": "code",
      "source": [
        "# Create a Boolean mask indicating which columns have no 0 values\n",
        "no_zero_mask = (df != 0).all()\n",
        "\n",
        "# Select the columns with no 0 values and create a bar chart for each column\n",
        "no_zero_cols = df.columns[no_zero_mask]\n",
        "for col in no_zero_cols:\n",
        "    plt.bar(col, df[col].sum())\n",
        "\n",
        "# Set the chart title and axis labels\n",
        "plt.title(\"Total values for non-zero columns\")\n",
        "plt.xlabel(\"Columns\")\n",
        "plt.ylabel(\"Total\")\n",
        "\n",
        "# Show the chart\n",
        "plt.show()\n"
      ],
      "metadata": {
        "colab": {
          "base_uri": "https://localhost:8080/",
          "height": 472
        },
        "id": "wpPNs6j5NiCB",
        "outputId": "a6a4cc10-c855-47da-d844-d7e63cc2d8d4"
      },
      "execution_count": 17,
      "outputs": [
        {
          "output_type": "display_data",
          "data": {
            "text/plain": [
              "<Figure size 640x480 with 1 Axes>"
            ],
            "image/png": "[encoded data removed]"
          },
          "metadata": {}
        }
      ]
    },
    {
      "cell_type": "code",
      "source": [
        "print(df.columns)"
      ],
      "metadata": {
        "colab": {
          "base_uri": "https://localhost:8080/"
        },
        "id": "elHrRp0H4Ga1",
        "outputId": "99618642-ad83-4e17-a7e2-6e8304e6a116"
      },
      "execution_count": 18,
      "outputs": [
        {
          "output_type": "stream",
          "name": "stdout",
          "text": [
            "Index(['FIT 101', 'LIT 101', 'MV 101', 'P1_STATE', 'P101 Status',\n",
            "       'P102 Status', 'AIT 201', 'AIT 202', 'AIT 203', 'FIT 201', 'LS 201',\n",
            "       'LS 202', 'LSL 203', 'LSLL 203', 'MV201', 'P2_STATE', 'P201 Status',\n",
            "       'P202 Status', 'P203 Status', 'P204 Status', 'P205 Status',\n",
            "       'P206 Status', 'P207 Status', 'P208 Status', 'AIT 301', 'AIT 302',\n",
            "       'AIT 303', 'DPIT 301', 'FIT 301', 'LIT 301', 'MV 301', 'MV 302',\n",
            "       'MV 303', 'MV 304', 'P3_STATE', 'P301 Status', 'P302 Status', 'AIT 401',\n",
            "       'AIT 402', 'FIT 401', 'LIT 401', 'P4_STATE', 'P401 Status',\n",
            "       'P402 Status', 'P403 Status', 'P404 Status', 'UV401', 'AIT 501',\n",
            "       'AIT 502', 'AIT 503', 'AIT 504', 'FIT 501', 'FIT 502', 'FIT 503',\n",
            "       'FIT 504', 'MV 501', 'MV 502', 'MV 503', 'MV 504', 'P5_STATE',\n",
            "       'P501 Status', 'P502 Status', 'PIT 501', 'PIT 502', 'PIT 503',\n",
            "       'FIT 601', 'P6 STATE', 'P601 Status', 'P602 Status', 'P603 Status',\n",
            "       'Attack'],\n",
            "      dtype='object')\n"
          ]
        }
      ]
    },
    {
      "cell_type": "markdown",
      "source": [
        "# **Adaptive Model Scheduling and SVM Algorithm Implementation**"
      ],
      "metadata": {
        "id": "0FZzYbWBlLxD"
      }
    },
    {
      "cell_type": "code",
      "source": [
        "from sklearn.svm import SVC\n",
        "from sklearn.metrics import f1_score, accuracy_score, precision_recall_curve, roc_curve, auc\n",
        "import matplotlib.pyplot as plt\n",
        "# import random\n",
        "# random.seed(0)\n",
        "\n",
        "# Set up parameters for adaptive model scheduling\n",
        "performance_threshold = 0.8\n",
        "change_threshold = 0.2\n",
        "n_normal_samples = len(df.loc[df.Attack == 1])\n",
        "\n",
        "# Train initial model\n",
        "train_data = df.loc[df.Attack == 0]\n",
        "test_data_anomaly = df.loc[df.Attack == 1]\n",
        "test_data_anomaly_with_attack = df.loc[df.Attack == 1].copy()\n",
        "train_data_normal = train_data.sample(n_normal_samples, random_state=0)\n",
        "test_data = pd.concat([test_data_anomaly, train_data_normal])[train_data.columns]\n",
        "\n",
        "\n",
        "iforest = IsolationForest(n_estimators=100, max_samples='auto', contamination=0.13, n_jobs=-1)\n",
        "iforest.fit(train_data)\n",
        "kmeans = KMeans(n_clusters=2)\n",
        "kmeans.fit(train_data)\n",
        "svm = SVC(kernel='linear', probability=True)\n",
        "svm_data = np.column_stack((iforest.predict(test_data), kmeans.predict(test_data)))\n",
        "svm.fit(svm_data, test_data.index.isin(test_data_anomaly.index))\n",
        "\n",
        "# Adaptive model scheduling\n",
        "change_count = 0\n",
        "while True:\n",
        "    # Evaluate performance of current model\n",
        "    probabilities = pd.DataFrame(svm.predict_proba(svm_data), columns=['Normal', 'Anomaly'])\n",
        "    probabilities = probabilities['Anomaly']\n",
        "    y_true = test_data_anomaly['Attack']\n",
        "    # y_true = pd.Series(index=test_data.index, data=0)\n",
        "    y_true.loc[test_data_anomaly.index] = 1\n",
        "    y_pred = probabilities[:len(y_true)] > 0.5\n",
        "    # y_pred = probabilities > 0.5\n",
        "    # Evaluate performance of current model\n",
        "    f1 = f1_score(y_true, y_pred)\n",
        "    accuracy = accuracy_score(y_true, y_pred)\n",
        "    print('F1 score: {:.2f}'.format(f1))\n",
        "    print('Accuracy: {:.2f}'.format(accuracy))\n",
        "\n",
        "    # Check if the model performance has dropped below the threshold\n",
        "    if f1 < performance_threshold:\n",
        "        change_count += 1\n",
        "        # Check if we have reached the change threshold\n",
        "        if change_count >= len(train_data):\n",
        "            print('Unable to improve model performance')\n",
        "            break\n",
        "        # Select a subset of normal training data to add to the test data\n",
        "        train_data_normal = train_data.sample(n_normal_samples, random_state=0)\n",
        "        test_data = pd.concat([test_data_anomaly, train_data_normal])[train_data.columns]\n",
        "        # Retrain model on new data\n",
        "        iforest = IsolationForest(n_estimators=100, max_samples='auto', contamination=0.13, n_jobs=-1)\n",
        "        iforest.fit(train_data)\n",
        "        kmeans = KMeans(n_clusters=2)\n",
        "        kmeans.fit(train_data)\n",
        "        svm = SVC(kernel='linear', probability=True)\n",
        "        svm_data = np.column_stack((iforest.predict(test_data), kmeans.predict(test_data)))\n",
        "        svm.fit(svm_data, test_data.index.isin(test_data_anomaly.index))\n",
        "        print('Model retrained with new data')\n",
        "    else:\n",
        "        print('Model performance is good enough')\n",
        "        break\n"
      ],
      "metadata": {
        "colab": {
          "base_uri": "https://localhost:8080/"
        },
        "id": "khsZcM1H9kxH",
        "outputId": "4e3a6d6e-c604-445f-a2a8-69b39330e412"
      },
      "execution_count": 51,
      "outputs": [
        {
          "output_type": "stream",
          "name": "stderr",
          "text": [
            "/usr/local/lib/python3.10/dist-packages/sklearn/base.py:439: UserWarning: X does not have valid feature names, but IsolationForest was fitted with feature names\n",
            "  warnings.warn(\n",
            "/usr/local/lib/python3.10/dist-packages/sklearn/cluster/_kmeans.py:870: FutureWarning: The default value of `n_init` will change from 10 to 'auto' in 1.4. Set the value of `n_init` explicitly to suppress the warning\n",
            "  warnings.warn(\n",
            "<ipython-input-51-2e0bf43821a7>:36: SettingWithCopyWarning: \n",
            "A value is trying to be set on a copy of a slice from a DataFrame\n",
            "\n",
            "See the caveats in the documentation: https://pandas.pydata.org/pandas-docs/stable/user_guide/indexing.html#returning-a-view-versus-a-copy\n",
            "  y_true.loc[test_data_anomaly.index] = 1\n"
          ]
        },
        {
          "output_type": "stream",
          "name": "stdout",
          "text": [
            "F1 score: 0.59\n",
            "Accuracy: 0.42\n"
          ]
        },
        {
          "output_type": "stream",
          "name": "stderr",
          "text": [
            "/usr/local/lib/python3.10/dist-packages/sklearn/base.py:439: UserWarning: X does not have valid feature names, but IsolationForest was fitted with feature names\n",
            "  warnings.warn(\n",
            "/usr/local/lib/python3.10/dist-packages/sklearn/cluster/_kmeans.py:870: FutureWarning: The default value of `n_init` will change from 10 to 'auto' in 1.4. Set the value of `n_init` explicitly to suppress the warning\n",
            "  warnings.warn(\n"
          ]
        },
        {
          "output_type": "stream",
          "name": "stdout",
          "text": [
            "Model retrained with new data\n"
          ]
        },
        {
          "output_type": "stream",
          "name": "stderr",
          "text": [
            "<ipython-input-51-2e0bf43821a7>:36: SettingWithCopyWarning: \n",
            "A value is trying to be set on a copy of a slice from a DataFrame\n",
            "\n",
            "See the caveats in the documentation: https://pandas.pydata.org/pandas-docs/stable/user_guide/indexing.html#returning-a-view-versus-a-copy\n",
            "  y_true.loc[test_data_anomaly.index] = 1\n"
          ]
        },
        {
          "output_type": "stream",
          "name": "stdout",
          "text": [
            "F1 score: 0.56\n",
            "Accuracy: 0.39\n"
          ]
        },
        {
          "output_type": "stream",
          "name": "stderr",
          "text": [
            "/usr/local/lib/python3.10/dist-packages/sklearn/base.py:439: UserWarning: X does not have valid feature names, but IsolationForest was fitted with feature names\n",
            "  warnings.warn(\n",
            "/usr/local/lib/python3.10/dist-packages/sklearn/cluster/_kmeans.py:870: FutureWarning: The default value of `n_init` will change from 10 to 'auto' in 1.4. Set the value of `n_init` explicitly to suppress the warning\n",
            "  warnings.warn(\n"
          ]
        },
        {
          "output_type": "stream",
          "name": "stdout",
          "text": [
            "Model retrained with new data\n",
            "F1 score: 0.78\n",
            "Accuracy: 0.64\n"
          ]
        },
        {
          "output_type": "stream",
          "name": "stderr",
          "text": [
            "<ipython-input-51-2e0bf43821a7>:36: SettingWithCopyWarning: \n",
            "A value is trying to be set on a copy of a slice from a DataFrame\n",
            "\n",
            "See the caveats in the documentation: https://pandas.pydata.org/pandas-docs/stable/user_guide/indexing.html#returning-a-view-versus-a-copy\n",
            "  y_true.loc[test_data_anomaly.index] = 1\n",
            "/usr/local/lib/python3.10/dist-packages/sklearn/base.py:439: UserWarning: X does not have valid feature names, but IsolationForest was fitted with feature names\n",
            "  warnings.warn(\n",
            "/usr/local/lib/python3.10/dist-packages/sklearn/cluster/_kmeans.py:870: FutureWarning: The default value of `n_init` will change from 10 to 'auto' in 1.4. Set the value of `n_init` explicitly to suppress the warning\n",
            "  warnings.warn(\n"
          ]
        },
        {
          "output_type": "stream",
          "name": "stdout",
          "text": [
            "Model retrained with new data\n"
          ]
        },
        {
          "output_type": "stream",
          "name": "stderr",
          "text": [
            "<ipython-input-51-2e0bf43821a7>:36: SettingWithCopyWarning: \n",
            "A value is trying to be set on a copy of a slice from a DataFrame\n",
            "\n",
            "See the caveats in the documentation: https://pandas.pydata.org/pandas-docs/stable/user_guide/indexing.html#returning-a-view-versus-a-copy\n",
            "  y_true.loc[test_data_anomaly.index] = 1\n"
          ]
        },
        {
          "output_type": "stream",
          "name": "stdout",
          "text": [
            "F1 score: 0.56\n",
            "Accuracy: 0.39\n"
          ]
        },
        {
          "output_type": "stream",
          "name": "stderr",
          "text": [
            "/usr/local/lib/python3.10/dist-packages/sklearn/base.py:439: UserWarning: X does not have valid feature names, but IsolationForest was fitted with feature names\n",
            "  warnings.warn(\n",
            "/usr/local/lib/python3.10/dist-packages/sklearn/cluster/_kmeans.py:870: FutureWarning: The default value of `n_init` will change from 10 to 'auto' in 1.4. Set the value of `n_init` explicitly to suppress the warning\n",
            "  warnings.warn(\n"
          ]
        },
        {
          "output_type": "stream",
          "name": "stdout",
          "text": [
            "Model retrained with new data\n",
            "F1 score: 0.70\n",
            "Accuracy: 0.54\n"
          ]
        },
        {
          "output_type": "stream",
          "name": "stderr",
          "text": [
            "<ipython-input-51-2e0bf43821a7>:36: SettingWithCopyWarning: \n",
            "A value is trying to be set on a copy of a slice from a DataFrame\n",
            "\n",
            "See the caveats in the documentation: https://pandas.pydata.org/pandas-docs/stable/user_guide/indexing.html#returning-a-view-versus-a-copy\n",
            "  y_true.loc[test_data_anomaly.index] = 1\n",
            "/usr/local/lib/python3.10/dist-packages/sklearn/base.py:439: UserWarning: X does not have valid feature names, but IsolationForest was fitted with feature names\n",
            "  warnings.warn(\n",
            "/usr/local/lib/python3.10/dist-packages/sklearn/cluster/_kmeans.py:870: FutureWarning: The default value of `n_init` will change from 10 to 'auto' in 1.4. Set the value of `n_init` explicitly to suppress the warning\n",
            "  warnings.warn(\n"
          ]
        },
        {
          "output_type": "stream",
          "name": "stdout",
          "text": [
            "Model retrained with new data\n"
          ]
        },
        {
          "output_type": "stream",
          "name": "stderr",
          "text": [
            "<ipython-input-51-2e0bf43821a7>:36: SettingWithCopyWarning: \n",
            "A value is trying to be set on a copy of a slice from a DataFrame\n",
            "\n",
            "See the caveats in the documentation: https://pandas.pydata.org/pandas-docs/stable/user_guide/indexing.html#returning-a-view-versus-a-copy\n",
            "  y_true.loc[test_data_anomaly.index] = 1\n"
          ]
        },
        {
          "output_type": "stream",
          "name": "stdout",
          "text": [
            "F1 score: 0.61\n",
            "Accuracy: 0.44\n"
          ]
        },
        {
          "output_type": "stream",
          "name": "stderr",
          "text": [
            "/usr/local/lib/python3.10/dist-packages/sklearn/base.py:439: UserWarning: X does not have valid feature names, but IsolationForest was fitted with feature names\n",
            "  warnings.warn(\n",
            "/usr/local/lib/python3.10/dist-packages/sklearn/cluster/_kmeans.py:870: FutureWarning: The default value of `n_init` will change from 10 to 'auto' in 1.4. Set the value of `n_init` explicitly to suppress the warning\n",
            "  warnings.warn(\n"
          ]
        },
        {
          "output_type": "stream",
          "name": "stdout",
          "text": [
            "Model retrained with new data\n"
          ]
        },
        {
          "output_type": "stream",
          "name": "stderr",
          "text": [
            "<ipython-input-51-2e0bf43821a7>:36: SettingWithCopyWarning: \n",
            "A value is trying to be set on a copy of a slice from a DataFrame\n",
            "\n",
            "See the caveats in the documentation: https://pandas.pydata.org/pandas-docs/stable/user_guide/indexing.html#returning-a-view-versus-a-copy\n",
            "  y_true.loc[test_data_anomaly.index] = 1\n"
          ]
        },
        {
          "output_type": "stream",
          "name": "stdout",
          "text": [
            "F1 score: 0.70\n",
            "Accuracy: 0.54\n"
          ]
        },
        {
          "output_type": "stream",
          "name": "stderr",
          "text": [
            "/usr/local/lib/python3.10/dist-packages/sklearn/base.py:439: UserWarning: X does not have valid feature names, but IsolationForest was fitted with feature names\n",
            "  warnings.warn(\n",
            "/usr/local/lib/python3.10/dist-packages/sklearn/cluster/_kmeans.py:870: FutureWarning: The default value of `n_init` will change from 10 to 'auto' in 1.4. Set the value of `n_init` explicitly to suppress the warning\n",
            "  warnings.warn(\n"
          ]
        },
        {
          "output_type": "stream",
          "name": "stdout",
          "text": [
            "Model retrained with new data\n"
          ]
        },
        {
          "output_type": "stream",
          "name": "stderr",
          "text": [
            "<ipython-input-51-2e0bf43821a7>:36: SettingWithCopyWarning: \n",
            "A value is trying to be set on a copy of a slice from a DataFrame\n",
            "\n",
            "See the caveats in the documentation: https://pandas.pydata.org/pandas-docs/stable/user_guide/indexing.html#returning-a-view-versus-a-copy\n",
            "  y_true.loc[test_data_anomaly.index] = 1\n"
          ]
        },
        {
          "output_type": "stream",
          "name": "stdout",
          "text": [
            "F1 score: 0.45\n",
            "Accuracy: 0.29\n"
          ]
        },
        {
          "output_type": "stream",
          "name": "stderr",
          "text": [
            "/usr/local/lib/python3.10/dist-packages/sklearn/base.py:439: UserWarning: X does not have valid feature names, but IsolationForest was fitted with feature names\n",
            "  warnings.warn(\n",
            "/usr/local/lib/python3.10/dist-packages/sklearn/cluster/_kmeans.py:870: FutureWarning: The default value of `n_init` will change from 10 to 'auto' in 1.4. Set the value of `n_init` explicitly to suppress the warning\n",
            "  warnings.warn(\n"
          ]
        },
        {
          "output_type": "stream",
          "name": "stdout",
          "text": [
            "Model retrained with new data\n"
          ]
        },
        {
          "output_type": "stream",
          "name": "stderr",
          "text": [
            "<ipython-input-51-2e0bf43821a7>:36: SettingWithCopyWarning: \n",
            "A value is trying to be set on a copy of a slice from a DataFrame\n",
            "\n",
            "See the caveats in the documentation: https://pandas.pydata.org/pandas-docs/stable/user_guide/indexing.html#returning-a-view-versus-a-copy\n",
            "  y_true.loc[test_data_anomaly.index] = 1\n"
          ]
        },
        {
          "output_type": "stream",
          "name": "stdout",
          "text": [
            "F1 score: 0.68\n",
            "Accuracy: 0.51\n"
          ]
        },
        {
          "output_type": "stream",
          "name": "stderr",
          "text": [
            "/usr/local/lib/python3.10/dist-packages/sklearn/base.py:439: UserWarning: X does not have valid feature names, but IsolationForest was fitted with feature names\n",
            "  warnings.warn(\n",
            "/usr/local/lib/python3.10/dist-packages/sklearn/cluster/_kmeans.py:870: FutureWarning: The default value of `n_init` will change from 10 to 'auto' in 1.4. Set the value of `n_init` explicitly to suppress the warning\n",
            "  warnings.warn(\n"
          ]
        },
        {
          "output_type": "stream",
          "name": "stdout",
          "text": [
            "Model retrained with new data\n",
            "F1 score: 0.75\n",
            "Accuracy: 0.60\n"
          ]
        },
        {
          "output_type": "stream",
          "name": "stderr",
          "text": [
            "<ipython-input-51-2e0bf43821a7>:36: SettingWithCopyWarning: \n",
            "A value is trying to be set on a copy of a slice from a DataFrame\n",
            "\n",
            "See the caveats in the documentation: https://pandas.pydata.org/pandas-docs/stable/user_guide/indexing.html#returning-a-view-versus-a-copy\n",
            "  y_true.loc[test_data_anomaly.index] = 1\n",
            "/usr/local/lib/python3.10/dist-packages/sklearn/base.py:439: UserWarning: X does not have valid feature names, but IsolationForest was fitted with feature names\n",
            "  warnings.warn(\n",
            "/usr/local/lib/python3.10/dist-packages/sklearn/cluster/_kmeans.py:870: FutureWarning: The default value of `n_init` will change from 10 to 'auto' in 1.4. Set the value of `n_init` explicitly to suppress the warning\n",
            "  warnings.warn(\n"
          ]
        },
        {
          "output_type": "stream",
          "name": "stdout",
          "text": [
            "Model retrained with new data\n"
          ]
        },
        {
          "output_type": "stream",
          "name": "stderr",
          "text": [
            "<ipython-input-51-2e0bf43821a7>:36: SettingWithCopyWarning: \n",
            "A value is trying to be set on a copy of a slice from a DataFrame\n",
            "\n",
            "See the caveats in the documentation: https://pandas.pydata.org/pandas-docs/stable/user_guide/indexing.html#returning-a-view-versus-a-copy\n",
            "  y_true.loc[test_data_anomaly.index] = 1\n"
          ]
        },
        {
          "output_type": "stream",
          "name": "stdout",
          "text": [
            "F1 score: 0.57\n",
            "Accuracy: 0.40\n"
          ]
        },
        {
          "output_type": "stream",
          "name": "stderr",
          "text": [
            "/usr/local/lib/python3.10/dist-packages/sklearn/base.py:439: UserWarning: X does not have valid feature names, but IsolationForest was fitted with feature names\n",
            "  warnings.warn(\n",
            "/usr/local/lib/python3.10/dist-packages/sklearn/cluster/_kmeans.py:870: FutureWarning: The default value of `n_init` will change from 10 to 'auto' in 1.4. Set the value of `n_init` explicitly to suppress the warning\n",
            "  warnings.warn(\n"
          ]
        },
        {
          "output_type": "stream",
          "name": "stdout",
          "text": [
            "Model retrained with new data\n"
          ]
        },
        {
          "output_type": "stream",
          "name": "stderr",
          "text": [
            "<ipython-input-51-2e0bf43821a7>:36: SettingWithCopyWarning: \n",
            "A value is trying to be set on a copy of a slice from a DataFrame\n",
            "\n",
            "See the caveats in the documentation: https://pandas.pydata.org/pandas-docs/stable/user_guide/indexing.html#returning-a-view-versus-a-copy\n",
            "  y_true.loc[test_data_anomaly.index] = 1\n"
          ]
        },
        {
          "output_type": "stream",
          "name": "stdout",
          "text": [
            "F1 score: 0.47\n",
            "Accuracy: 0.31\n"
          ]
        },
        {
          "output_type": "stream",
          "name": "stderr",
          "text": [
            "/usr/local/lib/python3.10/dist-packages/sklearn/base.py:439: UserWarning: X does not have valid feature names, but IsolationForest was fitted with feature names\n",
            "  warnings.warn(\n",
            "/usr/local/lib/python3.10/dist-packages/sklearn/cluster/_kmeans.py:870: FutureWarning: The default value of `n_init` will change from 10 to 'auto' in 1.4. Set the value of `n_init` explicitly to suppress the warning\n",
            "  warnings.warn(\n"
          ]
        },
        {
          "output_type": "stream",
          "name": "stdout",
          "text": [
            "Model retrained with new data\n"
          ]
        },
        {
          "output_type": "stream",
          "name": "stderr",
          "text": [
            "<ipython-input-51-2e0bf43821a7>:36: SettingWithCopyWarning: \n",
            "A value is trying to be set on a copy of a slice from a DataFrame\n",
            "\n",
            "See the caveats in the documentation: https://pandas.pydata.org/pandas-docs/stable/user_guide/indexing.html#returning-a-view-versus-a-copy\n",
            "  y_true.loc[test_data_anomaly.index] = 1\n"
          ]
        },
        {
          "output_type": "stream",
          "name": "stdout",
          "text": [
            "F1 score: 0.63\n",
            "Accuracy: 0.46\n"
          ]
        },
        {
          "output_type": "stream",
          "name": "stderr",
          "text": [
            "/usr/local/lib/python3.10/dist-packages/sklearn/base.py:439: UserWarning: X does not have valid feature names, but IsolationForest was fitted with feature names\n",
            "  warnings.warn(\n",
            "/usr/local/lib/python3.10/dist-packages/sklearn/cluster/_kmeans.py:870: FutureWarning: The default value of `n_init` will change from 10 to 'auto' in 1.4. Set the value of `n_init` explicitly to suppress the warning\n",
            "  warnings.warn(\n"
          ]
        },
        {
          "output_type": "stream",
          "name": "stdout",
          "text": [
            "Model retrained with new data\n"
          ]
        },
        {
          "output_type": "stream",
          "name": "stderr",
          "text": [
            "<ipython-input-51-2e0bf43821a7>:36: SettingWithCopyWarning: \n",
            "A value is trying to be set on a copy of a slice from a DataFrame\n",
            "\n",
            "See the caveats in the documentation: https://pandas.pydata.org/pandas-docs/stable/user_guide/indexing.html#returning-a-view-versus-a-copy\n",
            "  y_true.loc[test_data_anomaly.index] = 1\n"
          ]
        },
        {
          "output_type": "stream",
          "name": "stdout",
          "text": [
            "F1 score: 0.60\n",
            "Accuracy: 0.43\n"
          ]
        },
        {
          "output_type": "stream",
          "name": "stderr",
          "text": [
            "/usr/local/lib/python3.10/dist-packages/sklearn/base.py:439: UserWarning: X does not have valid feature names, but IsolationForest was fitted with feature names\n",
            "  warnings.warn(\n",
            "/usr/local/lib/python3.10/dist-packages/sklearn/cluster/_kmeans.py:870: FutureWarning: The default value of `n_init` will change from 10 to 'auto' in 1.4. Set the value of `n_init` explicitly to suppress the warning\n",
            "  warnings.warn(\n"
          ]
        },
        {
          "output_type": "stream",
          "name": "stdout",
          "text": [
            "Model retrained with new data\n"
          ]
        },
        {
          "output_type": "stream",
          "name": "stderr",
          "text": [
            "<ipython-input-51-2e0bf43821a7>:36: SettingWithCopyWarning: \n",
            "A value is trying to be set on a copy of a slice from a DataFrame\n",
            "\n",
            "See the caveats in the documentation: https://pandas.pydata.org/pandas-docs/stable/user_guide/indexing.html#returning-a-view-versus-a-copy\n",
            "  y_true.loc[test_data_anomaly.index] = 1\n"
          ]
        },
        {
          "output_type": "stream",
          "name": "stdout",
          "text": [
            "F1 score: 0.54\n",
            "Accuracy: 0.37\n"
          ]
        },
        {
          "output_type": "stream",
          "name": "stderr",
          "text": [
            "/usr/local/lib/python3.10/dist-packages/sklearn/base.py:439: UserWarning: X does not have valid feature names, but IsolationForest was fitted with feature names\n",
            "  warnings.warn(\n",
            "/usr/local/lib/python3.10/dist-packages/sklearn/cluster/_kmeans.py:870: FutureWarning: The default value of `n_init` will change from 10 to 'auto' in 1.4. Set the value of `n_init` explicitly to suppress the warning\n",
            "  warnings.warn(\n"
          ]
        },
        {
          "output_type": "stream",
          "name": "stdout",
          "text": [
            "Model retrained with new data\n"
          ]
        },
        {
          "output_type": "stream",
          "name": "stderr",
          "text": [
            "<ipython-input-51-2e0bf43821a7>:36: SettingWithCopyWarning: \n",
            "A value is trying to be set on a copy of a slice from a DataFrame\n",
            "\n",
            "See the caveats in the documentation: https://pandas.pydata.org/pandas-docs/stable/user_guide/indexing.html#returning-a-view-versus-a-copy\n",
            "  y_true.loc[test_data_anomaly.index] = 1\n"
          ]
        },
        {
          "output_type": "stream",
          "name": "stdout",
          "text": [
            "F1 score: 0.63\n",
            "Accuracy: 0.46\n"
          ]
        },
        {
          "output_type": "stream",
          "name": "stderr",
          "text": [
            "/usr/local/lib/python3.10/dist-packages/sklearn/base.py:439: UserWarning: X does not have valid feature names, but IsolationForest was fitted with feature names\n",
            "  warnings.warn(\n",
            "/usr/local/lib/python3.10/dist-packages/sklearn/cluster/_kmeans.py:870: FutureWarning: The default value of `n_init` will change from 10 to 'auto' in 1.4. Set the value of `n_init` explicitly to suppress the warning\n",
            "  warnings.warn(\n"
          ]
        },
        {
          "output_type": "stream",
          "name": "stdout",
          "text": [
            "Model retrained with new data\n"
          ]
        },
        {
          "output_type": "stream",
          "name": "stderr",
          "text": [
            "<ipython-input-51-2e0bf43821a7>:36: SettingWithCopyWarning: \n",
            "A value is trying to be set on a copy of a slice from a DataFrame\n",
            "\n",
            "See the caveats in the documentation: https://pandas.pydata.org/pandas-docs/stable/user_guide/indexing.html#returning-a-view-versus-a-copy\n",
            "  y_true.loc[test_data_anomaly.index] = 1\n"
          ]
        },
        {
          "output_type": "stream",
          "name": "stdout",
          "text": [
            "F1 score: 0.72\n",
            "Accuracy: 0.56\n"
          ]
        },
        {
          "output_type": "stream",
          "name": "stderr",
          "text": [
            "/usr/local/lib/python3.10/dist-packages/sklearn/base.py:439: UserWarning: X does not have valid feature names, but IsolationForest was fitted with feature names\n",
            "  warnings.warn(\n",
            "/usr/local/lib/python3.10/dist-packages/sklearn/cluster/_kmeans.py:870: FutureWarning: The default value of `n_init` will change from 10 to 'auto' in 1.4. Set the value of `n_init` explicitly to suppress the warning\n",
            "  warnings.warn(\n"
          ]
        },
        {
          "output_type": "stream",
          "name": "stdout",
          "text": [
            "Model retrained with new data\n"
          ]
        },
        {
          "output_type": "stream",
          "name": "stderr",
          "text": [
            "<ipython-input-51-2e0bf43821a7>:36: SettingWithCopyWarning: \n",
            "A value is trying to be set on a copy of a slice from a DataFrame\n",
            "\n",
            "See the caveats in the documentation: https://pandas.pydata.org/pandas-docs/stable/user_guide/indexing.html#returning-a-view-versus-a-copy\n",
            "  y_true.loc[test_data_anomaly.index] = 1\n"
          ]
        },
        {
          "output_type": "stream",
          "name": "stdout",
          "text": [
            "F1 score: 0.48\n",
            "Accuracy: 0.31\n"
          ]
        },
        {
          "output_type": "stream",
          "name": "stderr",
          "text": [
            "/usr/local/lib/python3.10/dist-packages/sklearn/base.py:439: UserWarning: X does not have valid feature names, but IsolationForest was fitted with feature names\n",
            "  warnings.warn(\n",
            "/usr/local/lib/python3.10/dist-packages/sklearn/cluster/_kmeans.py:870: FutureWarning: The default value of `n_init` will change from 10 to 'auto' in 1.4. Set the value of `n_init` explicitly to suppress the warning\n",
            "  warnings.warn(\n"
          ]
        },
        {
          "output_type": "stream",
          "name": "stdout",
          "text": [
            "Model retrained with new data\n"
          ]
        },
        {
          "output_type": "stream",
          "name": "stderr",
          "text": [
            "<ipython-input-51-2e0bf43821a7>:36: SettingWithCopyWarning: \n",
            "A value is trying to be set on a copy of a slice from a DataFrame\n",
            "\n",
            "See the caveats in the documentation: https://pandas.pydata.org/pandas-docs/stable/user_guide/indexing.html#returning-a-view-versus-a-copy\n",
            "  y_true.loc[test_data_anomaly.index] = 1\n"
          ]
        },
        {
          "output_type": "stream",
          "name": "stdout",
          "text": [
            "F1 score: 0.63\n",
            "Accuracy: 0.46\n"
          ]
        },
        {
          "output_type": "stream",
          "name": "stderr",
          "text": [
            "/usr/local/lib/python3.10/dist-packages/sklearn/base.py:439: UserWarning: X does not have valid feature names, but IsolationForest was fitted with feature names\n",
            "  warnings.warn(\n",
            "/usr/local/lib/python3.10/dist-packages/sklearn/cluster/_kmeans.py:870: FutureWarning: The default value of `n_init` will change from 10 to 'auto' in 1.4. Set the value of `n_init` explicitly to suppress the warning\n",
            "  warnings.warn(\n"
          ]
        },
        {
          "output_type": "stream",
          "name": "stdout",
          "text": [
            "Model retrained with new data\n"
          ]
        },
        {
          "output_type": "stream",
          "name": "stderr",
          "text": [
            "<ipython-input-51-2e0bf43821a7>:36: SettingWithCopyWarning: \n",
            "A value is trying to be set on a copy of a slice from a DataFrame\n",
            "\n",
            "See the caveats in the documentation: https://pandas.pydata.org/pandas-docs/stable/user_guide/indexing.html#returning-a-view-versus-a-copy\n",
            "  y_true.loc[test_data_anomaly.index] = 1\n"
          ]
        },
        {
          "output_type": "stream",
          "name": "stdout",
          "text": [
            "F1 score: 0.51\n",
            "Accuracy: 0.35\n"
          ]
        },
        {
          "output_type": "stream",
          "name": "stderr",
          "text": [
            "/usr/local/lib/python3.10/dist-packages/sklearn/base.py:439: UserWarning: X does not have valid feature names, but IsolationForest was fitted with feature names\n",
            "  warnings.warn(\n",
            "/usr/local/lib/python3.10/dist-packages/sklearn/cluster/_kmeans.py:870: FutureWarning: The default value of `n_init` will change from 10 to 'auto' in 1.4. Set the value of `n_init` explicitly to suppress the warning\n",
            "  warnings.warn(\n"
          ]
        },
        {
          "output_type": "stream",
          "name": "stdout",
          "text": [
            "Model retrained with new data\n"
          ]
        },
        {
          "output_type": "stream",
          "name": "stderr",
          "text": [
            "<ipython-input-51-2e0bf43821a7>:36: SettingWithCopyWarning: \n",
            "A value is trying to be set on a copy of a slice from a DataFrame\n",
            "\n",
            "See the caveats in the documentation: https://pandas.pydata.org/pandas-docs/stable/user_guide/indexing.html#returning-a-view-versus-a-copy\n",
            "  y_true.loc[test_data_anomaly.index] = 1\n"
          ]
        },
        {
          "output_type": "stream",
          "name": "stdout",
          "text": [
            "F1 score: 0.75\n",
            "Accuracy: 0.61\n"
          ]
        },
        {
          "output_type": "stream",
          "name": "stderr",
          "text": [
            "/usr/local/lib/python3.10/dist-packages/sklearn/base.py:439: UserWarning: X does not have valid feature names, but IsolationForest was fitted with feature names\n",
            "  warnings.warn(\n",
            "/usr/local/lib/python3.10/dist-packages/sklearn/cluster/_kmeans.py:870: FutureWarning: The default value of `n_init` will change from 10 to 'auto' in 1.4. Set the value of `n_init` explicitly to suppress the warning\n",
            "  warnings.warn(\n"
          ]
        },
        {
          "output_type": "stream",
          "name": "stdout",
          "text": [
            "Model retrained with new data\n"
          ]
        },
        {
          "output_type": "stream",
          "name": "stderr",
          "text": [
            "<ipython-input-51-2e0bf43821a7>:36: SettingWithCopyWarning: \n",
            "A value is trying to be set on a copy of a slice from a DataFrame\n",
            "\n",
            "See the caveats in the documentation: https://pandas.pydata.org/pandas-docs/stable/user_guide/indexing.html#returning-a-view-versus-a-copy\n",
            "  y_true.loc[test_data_anomaly.index] = 1\n"
          ]
        },
        {
          "output_type": "stream",
          "name": "stdout",
          "text": [
            "F1 score: 0.54\n",
            "Accuracy: 0.37\n"
          ]
        },
        {
          "output_type": "stream",
          "name": "stderr",
          "text": [
            "/usr/local/lib/python3.10/dist-packages/sklearn/base.py:439: UserWarning: X does not have valid feature names, but IsolationForest was fitted with feature names\n",
            "  warnings.warn(\n",
            "/usr/local/lib/python3.10/dist-packages/sklearn/cluster/_kmeans.py:870: FutureWarning: The default value of `n_init` will change from 10 to 'auto' in 1.4. Set the value of `n_init` explicitly to suppress the warning\n",
            "  warnings.warn(\n"
          ]
        },
        {
          "output_type": "stream",
          "name": "stdout",
          "text": [
            "Model retrained with new data\n"
          ]
        },
        {
          "output_type": "stream",
          "name": "stderr",
          "text": [
            "<ipython-input-51-2e0bf43821a7>:36: SettingWithCopyWarning: \n",
            "A value is trying to be set on a copy of a slice from a DataFrame\n",
            "\n",
            "See the caveats in the documentation: https://pandas.pydata.org/pandas-docs/stable/user_guide/indexing.html#returning-a-view-versus-a-copy\n",
            "  y_true.loc[test_data_anomaly.index] = 1\n"
          ]
        },
        {
          "output_type": "stream",
          "name": "stdout",
          "text": [
            "F1 score: 0.62\n",
            "Accuracy: 0.45\n"
          ]
        },
        {
          "output_type": "stream",
          "name": "stderr",
          "text": [
            "/usr/local/lib/python3.10/dist-packages/sklearn/base.py:439: UserWarning: X does not have valid feature names, but IsolationForest was fitted with feature names\n",
            "  warnings.warn(\n",
            "/usr/local/lib/python3.10/dist-packages/sklearn/cluster/_kmeans.py:870: FutureWarning: The default value of `n_init` will change from 10 to 'auto' in 1.4. Set the value of `n_init` explicitly to suppress the warning\n",
            "  warnings.warn(\n"
          ]
        },
        {
          "output_type": "stream",
          "name": "stdout",
          "text": [
            "Model retrained with new data\n"
          ]
        },
        {
          "output_type": "stream",
          "name": "stderr",
          "text": [
            "<ipython-input-51-2e0bf43821a7>:36: SettingWithCopyWarning: \n",
            "A value is trying to be set on a copy of a slice from a DataFrame\n",
            "\n",
            "See the caveats in the documentation: https://pandas.pydata.org/pandas-docs/stable/user_guide/indexing.html#returning-a-view-versus-a-copy\n",
            "  y_true.loc[test_data_anomaly.index] = 1\n"
          ]
        },
        {
          "output_type": "stream",
          "name": "stdout",
          "text": [
            "F1 score: 0.55\n",
            "Accuracy: 0.38\n"
          ]
        },
        {
          "output_type": "stream",
          "name": "stderr",
          "text": [
            "/usr/local/lib/python3.10/dist-packages/sklearn/base.py:439: UserWarning: X does not have valid feature names, but IsolationForest was fitted with feature names\n",
            "  warnings.warn(\n",
            "/usr/local/lib/python3.10/dist-packages/sklearn/cluster/_kmeans.py:870: FutureWarning: The default value of `n_init` will change from 10 to 'auto' in 1.4. Set the value of `n_init` explicitly to suppress the warning\n",
            "  warnings.warn(\n"
          ]
        },
        {
          "output_type": "stream",
          "name": "stdout",
          "text": [
            "Model retrained with new data\n"
          ]
        },
        {
          "output_type": "stream",
          "name": "stderr",
          "text": [
            "<ipython-input-51-2e0bf43821a7>:36: SettingWithCopyWarning: \n",
            "A value is trying to be set on a copy of a slice from a DataFrame\n",
            "\n",
            "See the caveats in the documentation: https://pandas.pydata.org/pandas-docs/stable/user_guide/indexing.html#returning-a-view-versus-a-copy\n",
            "  y_true.loc[test_data_anomaly.index] = 1\n"
          ]
        },
        {
          "output_type": "stream",
          "name": "stdout",
          "text": [
            "F1 score: 0.58\n",
            "Accuracy: 0.41\n"
          ]
        },
        {
          "output_type": "stream",
          "name": "stderr",
          "text": [
            "/usr/local/lib/python3.10/dist-packages/sklearn/base.py:439: UserWarning: X does not have valid feature names, but IsolationForest was fitted with feature names\n",
            "  warnings.warn(\n",
            "/usr/local/lib/python3.10/dist-packages/sklearn/cluster/_kmeans.py:870: FutureWarning: The default value of `n_init` will change from 10 to 'auto' in 1.4. Set the value of `n_init` explicitly to suppress the warning\n",
            "  warnings.warn(\n"
          ]
        },
        {
          "output_type": "stream",
          "name": "stdout",
          "text": [
            "Model retrained with new data\n"
          ]
        },
        {
          "output_type": "stream",
          "name": "stderr",
          "text": [
            "<ipython-input-51-2e0bf43821a7>:36: SettingWithCopyWarning: \n",
            "A value is trying to be set on a copy of a slice from a DataFrame\n",
            "\n",
            "See the caveats in the documentation: https://pandas.pydata.org/pandas-docs/stable/user_guide/indexing.html#returning-a-view-versus-a-copy\n",
            "  y_true.loc[test_data_anomaly.index] = 1\n"
          ]
        },
        {
          "output_type": "stream",
          "name": "stdout",
          "text": [
            "F1 score: 0.63\n",
            "Accuracy: 0.46\n"
          ]
        },
        {
          "output_type": "stream",
          "name": "stderr",
          "text": [
            "/usr/local/lib/python3.10/dist-packages/sklearn/base.py:439: UserWarning: X does not have valid feature names, but IsolationForest was fitted with feature names\n",
            "  warnings.warn(\n",
            "/usr/local/lib/python3.10/dist-packages/sklearn/cluster/_kmeans.py:870: FutureWarning: The default value of `n_init` will change from 10 to 'auto' in 1.4. Set the value of `n_init` explicitly to suppress the warning\n",
            "  warnings.warn(\n"
          ]
        },
        {
          "output_type": "stream",
          "name": "stdout",
          "text": [
            "Model retrained with new data\n"
          ]
        },
        {
          "output_type": "stream",
          "name": "stderr",
          "text": [
            "<ipython-input-51-2e0bf43821a7>:36: SettingWithCopyWarning: \n",
            "A value is trying to be set on a copy of a slice from a DataFrame\n",
            "\n",
            "See the caveats in the documentation: https://pandas.pydata.org/pandas-docs/stable/user_guide/indexing.html#returning-a-view-versus-a-copy\n",
            "  y_true.loc[test_data_anomaly.index] = 1\n"
          ]
        },
        {
          "output_type": "stream",
          "name": "stdout",
          "text": [
            "F1 score: 0.68\n",
            "Accuracy: 0.51\n"
          ]
        },
        {
          "output_type": "stream",
          "name": "stderr",
          "text": [
            "/usr/local/lib/python3.10/dist-packages/sklearn/base.py:439: UserWarning: X does not have valid feature names, but IsolationForest was fitted with feature names\n",
            "  warnings.warn(\n",
            "/usr/local/lib/python3.10/dist-packages/sklearn/cluster/_kmeans.py:870: FutureWarning: The default value of `n_init` will change from 10 to 'auto' in 1.4. Set the value of `n_init` explicitly to suppress the warning\n",
            "  warnings.warn(\n"
          ]
        },
        {
          "output_type": "stream",
          "name": "stdout",
          "text": [
            "Model retrained with new data\n",
            "F1 score: 0.72\n",
            "Accuracy: 0.56\n"
          ]
        },
        {
          "output_type": "stream",
          "name": "stderr",
          "text": [
            "<ipython-input-51-2e0bf43821a7>:36: SettingWithCopyWarning: \n",
            "A value is trying to be set on a copy of a slice from a DataFrame\n",
            "\n",
            "See the caveats in the documentation: https://pandas.pydata.org/pandas-docs/stable/user_guide/indexing.html#returning-a-view-versus-a-copy\n",
            "  y_true.loc[test_data_anomaly.index] = 1\n",
            "/usr/local/lib/python3.10/dist-packages/sklearn/base.py:439: UserWarning: X does not have valid feature names, but IsolationForest was fitted with feature names\n",
            "  warnings.warn(\n",
            "/usr/local/lib/python3.10/dist-packages/sklearn/cluster/_kmeans.py:870: FutureWarning: The default value of `n_init` will change from 10 to 'auto' in 1.4. Set the value of `n_init` explicitly to suppress the warning\n",
            "  warnings.warn(\n"
          ]
        },
        {
          "output_type": "stream",
          "name": "stdout",
          "text": [
            "Model retrained with new data\n"
          ]
        },
        {
          "output_type": "stream",
          "name": "stderr",
          "text": [
            "<ipython-input-51-2e0bf43821a7>:36: SettingWithCopyWarning: \n",
            "A value is trying to be set on a copy of a slice from a DataFrame\n",
            "\n",
            "See the caveats in the documentation: https://pandas.pydata.org/pandas-docs/stable/user_guide/indexing.html#returning-a-view-versus-a-copy\n",
            "  y_true.loc[test_data_anomaly.index] = 1\n"
          ]
        },
        {
          "output_type": "stream",
          "name": "stdout",
          "text": [
            "F1 score: 0.47\n",
            "Accuracy: 0.31\n"
          ]
        },
        {
          "output_type": "stream",
          "name": "stderr",
          "text": [
            "/usr/local/lib/python3.10/dist-packages/sklearn/base.py:439: UserWarning: X does not have valid feature names, but IsolationForest was fitted with feature names\n",
            "  warnings.warn(\n",
            "/usr/local/lib/python3.10/dist-packages/sklearn/cluster/_kmeans.py:870: FutureWarning: The default value of `n_init` will change from 10 to 'auto' in 1.4. Set the value of `n_init` explicitly to suppress the warning\n",
            "  warnings.warn(\n"
          ]
        },
        {
          "output_type": "stream",
          "name": "stdout",
          "text": [
            "Model retrained with new data\n"
          ]
        },
        {
          "output_type": "stream",
          "name": "stderr",
          "text": [
            "<ipython-input-51-2e0bf43821a7>:36: SettingWithCopyWarning: \n",
            "A value is trying to be set on a copy of a slice from a DataFrame\n",
            "\n",
            "See the caveats in the documentation: https://pandas.pydata.org/pandas-docs/stable/user_guide/indexing.html#returning-a-view-versus-a-copy\n",
            "  y_true.loc[test_data_anomaly.index] = 1\n"
          ]
        },
        {
          "output_type": "stream",
          "name": "stdout",
          "text": [
            "F1 score: 0.58\n",
            "Accuracy: 0.41\n"
          ]
        },
        {
          "output_type": "stream",
          "name": "stderr",
          "text": [
            "/usr/local/lib/python3.10/dist-packages/sklearn/base.py:439: UserWarning: X does not have valid feature names, but IsolationForest was fitted with feature names\n",
            "  warnings.warn(\n",
            "/usr/local/lib/python3.10/dist-packages/sklearn/cluster/_kmeans.py:870: FutureWarning: The default value of `n_init` will change from 10 to 'auto' in 1.4. Set the value of `n_init` explicitly to suppress the warning\n",
            "  warnings.warn(\n"
          ]
        },
        {
          "output_type": "stream",
          "name": "stdout",
          "text": [
            "Model retrained with new data\n"
          ]
        },
        {
          "output_type": "stream",
          "name": "stderr",
          "text": [
            "<ipython-input-51-2e0bf43821a7>:36: SettingWithCopyWarning: \n",
            "A value is trying to be set on a copy of a slice from a DataFrame\n",
            "\n",
            "See the caveats in the documentation: https://pandas.pydata.org/pandas-docs/stable/user_guide/indexing.html#returning-a-view-versus-a-copy\n",
            "  y_true.loc[test_data_anomaly.index] = 1\n"
          ]
        },
        {
          "output_type": "stream",
          "name": "stdout",
          "text": [
            "F1 score: 0.66\n",
            "Accuracy: 0.50\n"
          ]
        },
        {
          "output_type": "stream",
          "name": "stderr",
          "text": [
            "/usr/local/lib/python3.10/dist-packages/sklearn/base.py:439: UserWarning: X does not have valid feature names, but IsolationForest was fitted with feature names\n",
            "  warnings.warn(\n",
            "/usr/local/lib/python3.10/dist-packages/sklearn/cluster/_kmeans.py:870: FutureWarning: The default value of `n_init` will change from 10 to 'auto' in 1.4. Set the value of `n_init` explicitly to suppress the warning\n",
            "  warnings.warn(\n"
          ]
        },
        {
          "output_type": "stream",
          "name": "stdout",
          "text": [
            "Model retrained with new data\n",
            "F1 score: 0.85\n",
            "Accuracy: 0.74\n",
            "Model performance is good enough\n"
          ]
        },
        {
          "output_type": "stream",
          "name": "stderr",
          "text": [
            "<ipython-input-51-2e0bf43821a7>:36: SettingWithCopyWarning: \n",
            "A value is trying to be set on a copy of a slice from a DataFrame\n",
            "\n",
            "See the caveats in the documentation: https://pandas.pydata.org/pandas-docs/stable/user_guide/indexing.html#returning-a-view-versus-a-copy\n",
            "  y_true.loc[test_data_anomaly.index] = 1\n"
          ]
        }
      ]
    },
    {
      "cell_type": "code",
      "source": [
        "# print(test_data_anomaly.columns)\n",
        "# print('---------')\n",
        "# print(train_data.columns)\n",
        "# print('---------')\n",
        "# print(test_data_anomaly_with_attack.columns)"
      ],
      "metadata": {
        "id": "m9nWoHYFT6Gy"
      },
      "execution_count": null,
      "outputs": []
    },
    {
      "cell_type": "code",
      "source": [
        "# Evaluate model\n",
        "svm_data_test = np.column_stack((iforest.predict(test_data.values), kmeans.predict(test_data.values)))\n",
        "y_test_true = test_data['Attack']\n",
        "y_test_pred = svm.predict_proba(svm_data_test)[:, 1]\n",
        "precision, recall, _ = precision_recall_curve(y_test_true, y_test_pred)\n",
        "\n",
        "# Calculate and print AUC metrics for PR and ROC curves\n",
        "pr_auc = auc(recall, precision)\n",
        "print(f\"PR AUC: {pr_auc:.2f}\")\n",
        "\n",
        "# Plot PR curve\n",
        "plt.plot(recall, precision, label='PR')\n",
        "plt.xlabel('Recall')\n",
        "plt.ylabel('Precision')\n",
        "plt.title('PR Curve')\n",
        "plt.legend(loc='best')\n",
        "plt.show()"
      ],
      "metadata": {
        "colab": {
          "base_uri": "https://localhost:8080/",
          "height": 559
        },
        "id": "LsPkUFAQT5Fj",
        "outputId": "e99c1833-f4a0-4766-cc20-755321a3fc6f"
      },
      "execution_count": 52,
      "outputs": [
        {
          "output_type": "stream",
          "name": "stderr",
          "text": [
            "/usr/local/lib/python3.10/dist-packages/sklearn/base.py:439: UserWarning: X does not have valid feature names, but IsolationForest was fitted with feature names\n",
            "  warnings.warn(\n",
            "/usr/local/lib/python3.10/dist-packages/sklearn/base.py:439: UserWarning: X does not have valid feature names, but KMeans was fitted with feature names\n",
            "  warnings.warn(\n"
          ]
        },
        {
          "output_type": "stream",
          "name": "stdout",
          "text": [
            "PR AUC: 0.87\n"
          ]
        },
        {
          "output_type": "display_data",
          "data": {
            "text/plain": [
              "<Figure size 640x480 with 1 Axes>"
            ],
            "image/png": "[encoded data removed]"
          },
          "metadata": {}
        }
      ]
    },
    {
      "cell_type": "code",
      "source": [
        "# Calculate confusion matrix\n",
        "cm = confusion_matrix(y_test_true, y_test_pred > performance_threshold)\n",
        "print('Confusion Matrix:')\n",
        "print(cm)"
      ],
      "metadata": {
        "colab": {
          "base_uri": "https://localhost:8080/"
        },
        "id": "LwuHK8f_tkVr",
        "outputId": "1978af66-47ce-4363-a77f-5fe3b2d588ad"
      },
      "execution_count": 53,
      "outputs": [
        {
          "output_type": "stream",
          "name": "stdout",
          "text": [
            "Confusion Matrix:\n",
            "[[1746  240]\n",
            " [ 509 1477]]\n"
          ]
        }
      ]
    }
  ]
}