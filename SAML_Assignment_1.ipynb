{
  "nbformat": 4,
  "nbformat_minor": 0,
  "metadata": {
    "colab": {
      "name": "SAML Assignment 1",
      "provenance": [],
      "collapsed_sections": [],
      "include_colab_link": true
    },
    "kernelspec": {
      "name": "python3",
      "display_name": "Python 3"
    },
    "language_info": {
      "name": "python"
    }
  },
  "cells": [
    {
      "cell_type": "markdown",
      "metadata": {
        "id": "view-in-github",
        "colab_type": "text"
      },
      "source": [
        "<a href=\"https://colab.research.google.com/github/AmirDice/DATA-SCIENCE-PROJECTS/blob/main/SAML_Assignment_1.ipynb\" target=\"_parent\"><img src=\"https://colab.research.google.com/assets/colab-badge.svg\" alt=\"Open In Colab\"/></a>"
      ]
    },
    {
      "cell_type": "markdown",
      "metadata": {
        "id": "9xPfgTCxpev8"
      },
      "source": [
        "# Assignment 1 - Image Classification\n",
        "\n",
        "This notebook contains the required task for the first assignment of the Software for Advanced Machine Learning course. Read the task description and implement the empty code cells. Each section represents a stage along implementing an image classifier, from loading and inspecting the dataset to training a **pre-trained** Convolutional Neural Network architecture. The sections are to guide you but you do not have to follow that specific order. \n",
        "\n",
        "Copy this notebook to your drive (File -> Save a copy in Drive), edit it and upload the final ipynb file to [Canvas](https://canvas.elte.hu) or upload the link to the Colab notebook itself. If you have your own machine with Jupyter installed, you can work there as well.\n",
        "\n",
        "**Note** Make sure the notebook is using GPU accelerataion in Edit -> Notebook settings, otherwise training and evaluation can be very slow.\n",
        "\n",
        "## Rules and Comments\n",
        "- From the list of datasets and architectures listed in canvas, each student was atributed **1 dataset and 1 architecture** to use within this assignment. Please confirm yours in the Canvas assignment's description. \n",
        "- This is an DL class so to pass the homework you do have to implement a working classifier, just loading the data or having a \"random-guess\" performance is not enough.\n",
        "- As always, copying others' code will make you fail the homework automatically (and thus the course). Remember that you will have to defend the assignment at the end of the semester.\n",
        "- **Deadline is March 25**\n",
        "- Make sure your code can be run from an empty state (use Runtime -> Run all in the menu after restarting the notebook)\n",
        "- Feel free to add more code cells as needed. But don't put code into external Python files to ease the reviewing.\n",
        "- Please add your name and Neptun ID below for easier identification.\n",
        "\n",
        "**Name:**  \n",
        "**Neptun ID:** \n",
        "\n",
        "## Task description\n",
        "Your task is to train an already pretrained Convolutional Neural Network architecture on a dataset, both given in canvas. The datasets contain images as input and class labels as target, thus you have to solve a Supervised Machine Learning Classification problem. \n",
        "\n",
        "The dataset shoud be divided into train, validation and test set, for which results should be presented for all.\n",
        "\n",
        "You can either train the architecture you were given without changing its layers, or you can add more layers, if you believe it increases the accuracy. There is no expected percentage of accuracy, but **your accuracy should be better than random guessing and your loss has to decrease throughout the epochs**. We expect you to show visualisations (any of the following: matplotlib, seaborn, tensorboard, ...) of the accuracy and loss and use Early stopping while training your network.\n",
        "\n"
      ]
    },
    {
      "cell_type": "markdown",
      "metadata": {
        "id": "vR0con3OuFBM"
      },
      "source": [
        "## 0. Import libraries\n",
        "Import all libraries/packages that you believe will help you fulfil the task, but **for the network only PyTorch can be used.**"
      ]
    },
    {
      "cell_type": "code",
      "metadata": {
        "id": "lyGWby4VpNMC"
      },
      "source": [
        "# ADD YOUR CODE HERE"
      ],
      "execution_count": null,
      "outputs": []
    },
    {
      "cell_type": "markdown",
      "metadata": {
        "id": "o1tucmxFuklk"
      },
      "source": [
        "## 1. Dataset \n",
        "Load the dataset you were given. Images should be stored in an X variable and your labels in a Y variable. Split your dataset into train, validation and test set and pre-process your data for training."
      ]
    },
    {
      "cell_type": "markdown",
      "metadata": {
        "id": "ossmpkq9vfrL"
      },
      "source": [
        "#### Loading the dataset\n",
        "Show some images and labels of your dataset"
      ]
    },
    {
      "cell_type": "code",
      "metadata": {
        "id": "5ng7Hn_gul3J"
      },
      "source": [
        "# ADD YOUR CODE HERE"
      ],
      "execution_count": null,
      "outputs": []
    },
    {
      "cell_type": "markdown",
      "metadata": {
        "id": "bmC8EUVFv0rj"
      },
      "source": [
        "#### Splitting the dataset"
      ]
    },
    {
      "cell_type": "code",
      "metadata": {
        "id": "_uMNfQ7sv46r"
      },
      "source": [
        "# ADD YOUR CODE HERE"
      ],
      "execution_count": null,
      "outputs": []
    },
    {
      "cell_type": "markdown",
      "metadata": {
        "id": "GzvWV5SFv4Ml"
      },
      "source": [
        "#### Pre-processing the dataset"
      ]
    },
    {
      "cell_type": "code",
      "metadata": {
        "id": "V4G98dyQv20o"
      },
      "source": [
        "# ADD YOUR CODE HERE"
      ],
      "execution_count": null,
      "outputs": []
    },
    {
      "cell_type": "markdown",
      "metadata": {
        "id": "XG9jrKpRw-xN"
      },
      "source": [
        "## 2. Convolutional Neural Network Architecture\n",
        "Load the CNN architecture you were given using pretrained weights. Define the optimizer and loss function. Train your network and save it. Remember to use Early stopping and show results."
      ]
    },
    {
      "cell_type": "markdown",
      "metadata": {
        "id": "5sgTC3NxxxRx"
      },
      "source": [
        "#### Load the architecture"
      ]
    },
    {
      "cell_type": "code",
      "metadata": {
        "id": "GAmr4k_Rx3QF"
      },
      "source": [
        "# ADD YOUR CODE HERE"
      ],
      "execution_count": null,
      "outputs": []
    },
    {
      "cell_type": "markdown",
      "metadata": {
        "id": "QDmjzUaax3lH"
      },
      "source": [
        "#### Define your optimizer and loss function"
      ]
    },
    {
      "cell_type": "code",
      "metadata": {
        "id": "QXzld7Pwx8Md"
      },
      "source": [
        "# ADD YOUR CODE HERE"
      ],
      "execution_count": null,
      "outputs": []
    },
    {
      "cell_type": "markdown",
      "metadata": {
        "id": "DbYtFGbXx7iP"
      },
      "source": [
        "#### Train your network"
      ]
    },
    {
      "cell_type": "code",
      "metadata": {
        "id": "cRpJtn_zxDTG"
      },
      "source": [
        "# ADD YOUR CODE HERE"
      ],
      "execution_count": null,
      "outputs": []
    },
    {
      "cell_type": "markdown",
      "metadata": {
        "id": "-Vyv_TOryBnE"
      },
      "source": [
        "#### Show results (accuracy and loss) on training and validation sets"
      ]
    },
    {
      "cell_type": "code",
      "metadata": {
        "id": "g_iK_hs8yHQ7"
      },
      "source": [
        "# ADD YOUR CODE HERE"
      ],
      "execution_count": null,
      "outputs": []
    },
    {
      "cell_type": "markdown",
      "metadata": {
        "id": "-wL-oYMJyKAU"
      },
      "source": [
        "## 3. Conclusion (Evaluation)\n",
        "Load your trained CNN and evaluate it on the test set. Show some predictions on the test set (3 is enough) by ploting the image and printing the prediction and ground truth.\n",
        "\n",
        "How good are your results? Do you think the network is overfitted or underfitted? If yes, what do you think lead to that? If not, justify."
      ]
    },
    {
      "cell_type": "markdown",
      "metadata": {
        "id": "91bFm41IzLMr"
      },
      "source": [
        "#### Evaluate your model"
      ]
    },
    {
      "cell_type": "code",
      "metadata": {
        "id": "urDwdgZUyMZQ"
      },
      "source": [
        "# ADD YOUR CODE HERE"
      ],
      "execution_count": null,
      "outputs": []
    },
    {
      "cell_type": "markdown",
      "metadata": {
        "id": "ZYwVBU9LzOHN"
      },
      "source": [
        "#### Show some predictions"
      ]
    },
    {
      "cell_type": "code",
      "metadata": {
        "id": "jNV0J9LKzPse"
      },
      "source": [
        "# ADD YOUR CODE HERE"
      ],
      "execution_count": null,
      "outputs": []
    },
    {
      "cell_type": "markdown",
      "metadata": {
        "id": "4sFvmHPRzQSI"
      },
      "source": [
        "#### Answer the questions"
      ]
    },
    {
      "cell_type": "code",
      "metadata": {
        "id": "UOJyd-sMzR-a"
      },
      "source": [
        "# ADD YOUR ANSWERS HERE"
      ],
      "execution_count": null,
      "outputs": []
    }
  ]
}