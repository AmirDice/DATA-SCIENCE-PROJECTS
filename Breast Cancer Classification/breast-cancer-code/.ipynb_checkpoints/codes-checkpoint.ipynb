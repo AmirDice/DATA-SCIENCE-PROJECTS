{
 "cells": [
  {
   "cell_type": "code",
   "execution_count": 1,
   "metadata": {},
   "outputs": [],
   "source": [
    "# Libraries to help with reading and manipulating data\n",
    "import pandas as pd\n",
    "import numpy as np\n",
    "\n",
    "# Libraries to help with data visualization\n",
    "import seaborn as sns\n",
    "import matplotlib.pyplot as plt\n",
    "\n",
    "sns.set()\n",
    "\n",
    "\n",
    "# Success metrics for the models\n",
    "from sklearn.metrics import accuracy_score,precision_score,recall_score,f1_score, confusion_matrix, classification_report\n",
    "import scikitplot.metrics as splt\n",
    "from sklearn.preprocessing import MinMaxScaler # to scale the numeric features \n",
    "from sklearn.model_selection import train_test_split,cross_val_score #splitting the dataset into test-train\n",
    "\n",
    "#Algorithms for using supervised learning methods\n",
    "from sklearn.ensemble import RandomForestClassifier, GradientBoostingClassifier \n",
    "from sklearn.linear_model import LogisticRegression\n",
    "from sklearn.naive_bayes import MultinomialNB #to build Naive Bayes model\n",
    "\n",
    "import warnings # filtering the future warnings\n",
    "warnings.filterwarnings('ignore')"
   ]
  },
  {
   "cell_type": "code",
   "execution_count": 2,
   "metadata": {},
   "outputs": [
    {
     "data": {
      "text/html": [
       "<div>\n",
       "<style scoped>\n",
       "    .dataframe tbody tr th:only-of-type {\n",
       "        vertical-align: middle;\n",
       "    }\n",
       "\n",
       "    .dataframe tbody tr th {\n",
       "        vertical-align: top;\n",
       "    }\n",
       "\n",
       "    .dataframe thead th {\n",
       "        text-align: right;\n",
       "    }\n",
       "</style>\n",
       "<table border=\"1\" class=\"dataframe\">\n",
       "  <thead>\n",
       "    <tr style=\"text-align: right;\">\n",
       "      <th></th>\n",
       "      <th>Class</th>\n",
       "      <th>age</th>\n",
       "      <th>menopause</th>\n",
       "      <th>tumor-size</th>\n",
       "      <th>inv-nodes</th>\n",
       "      <th>node-caps</th>\n",
       "      <th>deg-malig</th>\n",
       "      <th>breast</th>\n",
       "      <th>breast-quad</th>\n",
       "      <th>irradiat</th>\n",
       "    </tr>\n",
       "  </thead>\n",
       "  <tbody>\n",
       "    <tr>\n",
       "      <th>0</th>\n",
       "      <td>no-recurrence-events</td>\n",
       "      <td>30-39</td>\n",
       "      <td>premeno</td>\n",
       "      <td>30-34</td>\n",
       "      <td>0-2</td>\n",
       "      <td>no</td>\n",
       "      <td>3</td>\n",
       "      <td>left</td>\n",
       "      <td>left_low</td>\n",
       "      <td>no</td>\n",
       "    </tr>\n",
       "    <tr>\n",
       "      <th>1</th>\n",
       "      <td>no-recurrence-events</td>\n",
       "      <td>40-49</td>\n",
       "      <td>premeno</td>\n",
       "      <td>20-24</td>\n",
       "      <td>0-2</td>\n",
       "      <td>no</td>\n",
       "      <td>2</td>\n",
       "      <td>right</td>\n",
       "      <td>right_up</td>\n",
       "      <td>no</td>\n",
       "    </tr>\n",
       "    <tr>\n",
       "      <th>2</th>\n",
       "      <td>no-recurrence-events</td>\n",
       "      <td>40-49</td>\n",
       "      <td>premeno</td>\n",
       "      <td>20-24</td>\n",
       "      <td>0-2</td>\n",
       "      <td>no</td>\n",
       "      <td>2</td>\n",
       "      <td>left</td>\n",
       "      <td>left_low</td>\n",
       "      <td>no</td>\n",
       "    </tr>\n",
       "    <tr>\n",
       "      <th>3</th>\n",
       "      <td>no-recurrence-events</td>\n",
       "      <td>60-69</td>\n",
       "      <td>ge40</td>\n",
       "      <td>15-19</td>\n",
       "      <td>0-2</td>\n",
       "      <td>no</td>\n",
       "      <td>2</td>\n",
       "      <td>right</td>\n",
       "      <td>left_up</td>\n",
       "      <td>no</td>\n",
       "    </tr>\n",
       "    <tr>\n",
       "      <th>4</th>\n",
       "      <td>no-recurrence-events</td>\n",
       "      <td>40-49</td>\n",
       "      <td>premeno</td>\n",
       "      <td>0-4</td>\n",
       "      <td>0-2</td>\n",
       "      <td>no</td>\n",
       "      <td>2</td>\n",
       "      <td>right</td>\n",
       "      <td>right_low</td>\n",
       "      <td>no</td>\n",
       "    </tr>\n",
       "  </tbody>\n",
       "</table>\n",
       "</div>"
      ],
      "text/plain": [
       "                  Class    age menopause tumor-size inv-nodes node-caps  \\\n",
       "0  no-recurrence-events  30-39   premeno      30-34       0-2        no   \n",
       "1  no-recurrence-events  40-49   premeno      20-24       0-2        no   \n",
       "2  no-recurrence-events  40-49   premeno      20-24       0-2        no   \n",
       "3  no-recurrence-events  60-69      ge40      15-19       0-2        no   \n",
       "4  no-recurrence-events  40-49   premeno        0-4       0-2        no   \n",
       "\n",
       "   deg-malig breast breast-quad irradiat  \n",
       "0          3   left    left_low       no  \n",
       "1          2  right    right_up       no  \n",
       "2          2   left    left_low       no  \n",
       "3          2  right     left_up       no  \n",
       "4          2  right   right_low       no  "
      ]
     },
     "execution_count": 2,
     "metadata": {},
     "output_type": "execute_result"
    }
   ],
   "source": [
    "headers=[\"Class\",\"age\",\"menopause\",\"tumor-size\",\"inv-nodes\",\n",
    "         \"node-caps\",\"deg-malig\",\"breast\",\"breast-quad\",\"irradiat\"]\n",
    "df = pd.read_csv(\"breast-cancer.txt\",names = headers)\n",
    "df.head()"
   ]
  },
  {
   "cell_type": "code",
   "execution_count": 3,
   "metadata": {},
   "outputs": [
    {
     "data": {
      "text/plain": [
       "(286, 10)"
      ]
     },
     "execution_count": 3,
     "metadata": {},
     "output_type": "execute_result"
    }
   ],
   "source": [
    "df.shape #286 rows, 10 columns"
   ]
  },
  {
   "cell_type": "code",
   "execution_count": 4,
   "metadata": {},
   "outputs": [
    {
     "name": "stdout",
     "output_type": "stream",
     "text": [
      "<class 'pandas.core.frame.DataFrame'>\n",
      "RangeIndex: 286 entries, 0 to 285\n",
      "Data columns (total 10 columns):\n",
      " #   Column       Non-Null Count  Dtype \n",
      "---  ------       --------------  ----- \n",
      " 0   Class        286 non-null    object\n",
      " 1   age          286 non-null    object\n",
      " 2   menopause    286 non-null    object\n",
      " 3   tumor-size   286 non-null    object\n",
      " 4   inv-nodes    286 non-null    object\n",
      " 5   node-caps    286 non-null    object\n",
      " 6   deg-malig    286 non-null    int64 \n",
      " 7   breast       286 non-null    object\n",
      " 8   breast-quad  286 non-null    object\n",
      " 9   irradiat     286 non-null    object\n",
      "dtypes: int64(1), object(9)\n",
      "memory usage: 22.5+ KB\n"
     ]
    }
   ],
   "source": [
    "df.info() #information about the features"
   ]
  },
  {
   "cell_type": "code",
   "execution_count": 5,
   "metadata": {},
   "outputs": [
    {
     "data": {
      "text/plain": [
       "True"
      ]
     },
     "execution_count": 5,
     "metadata": {},
     "output_type": "execute_result"
    }
   ],
   "source": [
    "df.duplicated().any() # there are duplicated features to be dropped"
   ]
  },
  {
   "cell_type": "code",
   "execution_count": 6,
   "metadata": {},
   "outputs": [
    {
     "data": {
      "text/plain": [
       "(272, 10)"
      ]
     },
     "execution_count": 6,
     "metadata": {},
     "output_type": "execute_result"
    }
   ],
   "source": [
    "df = df.drop_duplicates()\n",
    "df.shape # 14 duplicated rows have been dropped"
   ]
  },
  {
   "cell_type": "code",
   "execution_count": 7,
   "metadata": {},
   "outputs": [
    {
     "data": {
      "text/plain": [
       "Class          0\n",
       "age            0\n",
       "menopause      0\n",
       "tumor-size     0\n",
       "inv-nodes      0\n",
       "node-caps      0\n",
       "deg-malig      0\n",
       "breast         0\n",
       "breast-quad    0\n",
       "irradiat       0\n",
       "dtype: int64"
      ]
     },
     "execution_count": 7,
     "metadata": {},
     "output_type": "execute_result"
    }
   ],
   "source": [
    "df.isnull().sum() #no null values detected"
   ]
  },
  {
   "cell_type": "markdown",
   "metadata": {},
   "source": [
    "## Data Visualization"
   ]
  },
  {
   "cell_type": "code",
   "execution_count": 8,
   "metadata": {
    "scrolled": false
   },
   "outputs": [
    {
     "data": {
      "image/png": "[encoded data removed]",
      "text/plain": [
       "<Figure size 432x288 with 1 Axes>"
      ]
     },
     "metadata": {},
     "output_type": "display_data"
    },
    {
     "data": {
      "image/png": "[encoded data removed]",
      "text/plain": [
       "<Figure size 432x288 with 1 Axes>"
      ]
     },
     "metadata": {},
     "output_type": "display_data"
    },
    {
     "data": {
      "image/png": "[encoded data removed]",
      "text/plain": [
       "<Figure size 432x288 with 1 Axes>"
      ]
     },
     "metadata": {},
     "output_type": "display_data"
    },
    {
     "data": {
      "image/png": "[encoded data removed]",
      "text/plain": [
       "<Figure size 432x288 with 1 Axes>"
      ]
     },
     "metadata": {},
     "output_type": "display_data"
    },
    {
     "data": {
      "image/png": "[encoded data removed]",
      "text/plain": [
       "<Figure size 432x288 with 1 Axes>"
      ]
     },
     "metadata": {},
     "output_type": "display_data"
    },
    {
     "data": {
      "image/png": "[encoded data removed]",
      "text/plain": [
       "<Figure size 432x288 with 1 Axes>"
      ]
     },
     "metadata": {},
     "output_type": "display_data"
    },
    {
     "data": {
      "image/png": "[encoded data removed]",
      "text/plain": [
       "<Figure size 432x288 with 1 Axes>"
      ]
     },
     "metadata": {},
     "output_type": "display_data"
    },
    {
     "data": {
      "image/png": "[encoded data removed]",
      "text/plain": [
       "<Figure size 432x288 with 1 Axes>"
      ]
     },
     "metadata": {},
     "output_type": "display_data"
    },
    {
     "data": {
      "image/png": "[encoded data removed]",
      "text/plain": [
       "<Figure size 432x288 with 1 Axes>"
      ]
     },
     "metadata": {},
     "output_type": "display_data"
    }
   ],
   "source": [
    "object_variables = df.select_dtypes(include=[\"object\"]) #looking into object variables\n",
    "for i in object_variables:\n",
    "    sns.countplot(x=object_variables[i])\n",
    "    plt.xticks(rotation=90)\n",
    "    plt.show();"
   ]
  },
  {
   "cell_type": "markdown",
   "metadata": {},
   "source": [
    "## Data Preprocessing"
   ]
  },
  {
   "cell_type": "code",
   "execution_count": 9,
   "metadata": {},
   "outputs": [
    {
     "data": {
      "text/html": [
       "<div>\n",
       "<style scoped>\n",
       "    .dataframe tbody tr th:only-of-type {\n",
       "        vertical-align: middle;\n",
       "    }\n",
       "\n",
       "    .dataframe tbody tr th {\n",
       "        vertical-align: top;\n",
       "    }\n",
       "\n",
       "    .dataframe thead th {\n",
       "        text-align: right;\n",
       "    }\n",
       "</style>\n",
       "<table border=\"1\" class=\"dataframe\">\n",
       "  <thead>\n",
       "    <tr style=\"text-align: right;\">\n",
       "      <th></th>\n",
       "      <th>Class</th>\n",
       "      <th>age</th>\n",
       "      <th>menopause</th>\n",
       "      <th>tumor-size</th>\n",
       "      <th>inv-nodes</th>\n",
       "      <th>node-caps</th>\n",
       "      <th>deg-malig</th>\n",
       "      <th>breast</th>\n",
       "      <th>breast-quad</th>\n",
       "      <th>irradiat</th>\n",
       "    </tr>\n",
       "  </thead>\n",
       "  <tbody>\n",
       "    <tr>\n",
       "      <th>0</th>\n",
       "      <td>no-recurrence-events</td>\n",
       "      <td>30-39</td>\n",
       "      <td>premeno</td>\n",
       "      <td>30-34</td>\n",
       "      <td>0-2</td>\n",
       "      <td>no</td>\n",
       "      <td>3</td>\n",
       "      <td>left</td>\n",
       "      <td>left_low</td>\n",
       "      <td>no</td>\n",
       "    </tr>\n",
       "    <tr>\n",
       "      <th>1</th>\n",
       "      <td>no-recurrence-events</td>\n",
       "      <td>40-49</td>\n",
       "      <td>premeno</td>\n",
       "      <td>20-24</td>\n",
       "      <td>0-2</td>\n",
       "      <td>no</td>\n",
       "      <td>2</td>\n",
       "      <td>right</td>\n",
       "      <td>right_up</td>\n",
       "      <td>no</td>\n",
       "    </tr>\n",
       "    <tr>\n",
       "      <th>2</th>\n",
       "      <td>no-recurrence-events</td>\n",
       "      <td>40-49</td>\n",
       "      <td>premeno</td>\n",
       "      <td>20-24</td>\n",
       "      <td>0-2</td>\n",
       "      <td>no</td>\n",
       "      <td>2</td>\n",
       "      <td>left</td>\n",
       "      <td>left_low</td>\n",
       "      <td>no</td>\n",
       "    </tr>\n",
       "    <tr>\n",
       "      <th>3</th>\n",
       "      <td>no-recurrence-events</td>\n",
       "      <td>60-69</td>\n",
       "      <td>ge40</td>\n",
       "      <td>15-19</td>\n",
       "      <td>0-2</td>\n",
       "      <td>no</td>\n",
       "      <td>2</td>\n",
       "      <td>right</td>\n",
       "      <td>left_up</td>\n",
       "      <td>no</td>\n",
       "    </tr>\n",
       "    <tr>\n",
       "      <th>4</th>\n",
       "      <td>no-recurrence-events</td>\n",
       "      <td>40-49</td>\n",
       "      <td>premeno</td>\n",
       "      <td>0-4</td>\n",
       "      <td>0-2</td>\n",
       "      <td>no</td>\n",
       "      <td>2</td>\n",
       "      <td>right</td>\n",
       "      <td>right_low</td>\n",
       "      <td>no</td>\n",
       "    </tr>\n",
       "  </tbody>\n",
       "</table>\n",
       "</div>"
      ],
      "text/plain": [
       "                  Class    age menopause tumor-size inv-nodes node-caps  \\\n",
       "0  no-recurrence-events  30-39   premeno      30-34       0-2        no   \n",
       "1  no-recurrence-events  40-49   premeno      20-24       0-2        no   \n",
       "2  no-recurrence-events  40-49   premeno      20-24       0-2        no   \n",
       "3  no-recurrence-events  60-69      ge40      15-19       0-2        no   \n",
       "4  no-recurrence-events  40-49   premeno        0-4       0-2        no   \n",
       "\n",
       "   deg-malig breast breast-quad irradiat  \n",
       "0          3   left    left_low       no  \n",
       "1          2  right    right_up       no  \n",
       "2          2   left    left_low       no  \n",
       "3          2  right     left_up       no  \n",
       "4          2  right   right_low       no  "
      ]
     },
     "execution_count": 9,
     "metadata": {},
     "output_type": "execute_result"
    }
   ],
   "source": [
    "df.head()"
   ]
  },
  {
   "cell_type": "markdown",
   "metadata": {},
   "source": [
    "## Dropping \"?\" Rows from \"node-caps\" Feature"
   ]
  },
  {
   "cell_type": "code",
   "execution_count": 10,
   "metadata": {},
   "outputs": [
    {
     "data": {
      "text/plain": [
       "no     209\n",
       "yes     55\n",
       "?        8\n",
       "Name: node-caps, dtype: int64"
      ]
     },
     "execution_count": 10,
     "metadata": {},
     "output_type": "execute_result"
    }
   ],
   "source": [
    "df[\"node-caps\"].value_counts() #? features will be dropped"
   ]
  },
  {
   "cell_type": "code",
   "execution_count": 11,
   "metadata": {},
   "outputs": [
    {
     "data": {
      "text/plain": [
       "no     209\n",
       "yes     55\n",
       "Name: node-caps, dtype: int64"
      ]
     },
     "execution_count": 11,
     "metadata": {},
     "output_type": "execute_result"
    }
   ],
   "source": [
    "df = df.loc[df['node-caps'] != '?']\n",
    "df[\"node-caps\"].value_counts()"
   ]
  },
  {
   "cell_type": "markdown",
   "metadata": {},
   "source": [
    "## One-Hot Encoding (Dummy Encoding)"
   ]
  },
  {
   "cell_type": "code",
   "execution_count": 12,
   "metadata": {},
   "outputs": [
    {
     "data": {
      "text/html": [
       "<div>\n",
       "<style scoped>\n",
       "    .dataframe tbody tr th:only-of-type {\n",
       "        vertical-align: middle;\n",
       "    }\n",
       "\n",
       "    .dataframe tbody tr th {\n",
       "        vertical-align: top;\n",
       "    }\n",
       "\n",
       "    .dataframe thead th {\n",
       "        text-align: right;\n",
       "    }\n",
       "</style>\n",
       "<table border=\"1\" class=\"dataframe\">\n",
       "  <thead>\n",
       "    <tr style=\"text-align: right;\">\n",
       "      <th></th>\n",
       "      <th>Class</th>\n",
       "      <th>deg-malig</th>\n",
       "      <th>age_is_20-29</th>\n",
       "      <th>age_is_30-39</th>\n",
       "      <th>age_is_40-49</th>\n",
       "      <th>age_is_50-59</th>\n",
       "      <th>age_is_60-69</th>\n",
       "      <th>age_is_70-79</th>\n",
       "      <th>menopause_is_ge40</th>\n",
       "      <th>menopause_is_lt40</th>\n",
       "      <th>...</th>\n",
       "      <th>inv-nodes_is_9-11</th>\n",
       "      <th>node-caps_is_yes</th>\n",
       "      <th>breast_is_right</th>\n",
       "      <th>breast-quad_is_?</th>\n",
       "      <th>breast-quad_is_central</th>\n",
       "      <th>breast-quad_is_left_low</th>\n",
       "      <th>breast-quad_is_left_up</th>\n",
       "      <th>breast-quad_is_right_low</th>\n",
       "      <th>breast-quad_is_right_up</th>\n",
       "      <th>irradiat_is_yes</th>\n",
       "    </tr>\n",
       "  </thead>\n",
       "  <tbody>\n",
       "    <tr>\n",
       "      <th>0</th>\n",
       "      <td>no-recurrence-events</td>\n",
       "      <td>3</td>\n",
       "      <td>0</td>\n",
       "      <td>1</td>\n",
       "      <td>0</td>\n",
       "      <td>0</td>\n",
       "      <td>0</td>\n",
       "      <td>0</td>\n",
       "      <td>0</td>\n",
       "      <td>0</td>\n",
       "      <td>...</td>\n",
       "      <td>0</td>\n",
       "      <td>0</td>\n",
       "      <td>0</td>\n",
       "      <td>0</td>\n",
       "      <td>0</td>\n",
       "      <td>1</td>\n",
       "      <td>0</td>\n",
       "      <td>0</td>\n",
       "      <td>0</td>\n",
       "      <td>0</td>\n",
       "    </tr>\n",
       "    <tr>\n",
       "      <th>1</th>\n",
       "      <td>no-recurrence-events</td>\n",
       "      <td>2</td>\n",
       "      <td>0</td>\n",
       "      <td>0</td>\n",
       "      <td>1</td>\n",
       "      <td>0</td>\n",
       "      <td>0</td>\n",
       "      <td>0</td>\n",
       "      <td>0</td>\n",
       "      <td>0</td>\n",
       "      <td>...</td>\n",
       "      <td>0</td>\n",
       "      <td>0</td>\n",
       "      <td>1</td>\n",
       "      <td>0</td>\n",
       "      <td>0</td>\n",
       "      <td>0</td>\n",
       "      <td>0</td>\n",
       "      <td>0</td>\n",
       "      <td>1</td>\n",
       "      <td>0</td>\n",
       "    </tr>\n",
       "    <tr>\n",
       "      <th>2</th>\n",
       "      <td>no-recurrence-events</td>\n",
       "      <td>2</td>\n",
       "      <td>0</td>\n",
       "      <td>0</td>\n",
       "      <td>1</td>\n",
       "      <td>0</td>\n",
       "      <td>0</td>\n",
       "      <td>0</td>\n",
       "      <td>0</td>\n",
       "      <td>0</td>\n",
       "      <td>...</td>\n",
       "      <td>0</td>\n",
       "      <td>0</td>\n",
       "      <td>0</td>\n",
       "      <td>0</td>\n",
       "      <td>0</td>\n",
       "      <td>1</td>\n",
       "      <td>0</td>\n",
       "      <td>0</td>\n",
       "      <td>0</td>\n",
       "      <td>0</td>\n",
       "    </tr>\n",
       "    <tr>\n",
       "      <th>3</th>\n",
       "      <td>no-recurrence-events</td>\n",
       "      <td>2</td>\n",
       "      <td>0</td>\n",
       "      <td>0</td>\n",
       "      <td>0</td>\n",
       "      <td>0</td>\n",
       "      <td>1</td>\n",
       "      <td>0</td>\n",
       "      <td>1</td>\n",
       "      <td>0</td>\n",
       "      <td>...</td>\n",
       "      <td>0</td>\n",
       "      <td>0</td>\n",
       "      <td>1</td>\n",
       "      <td>0</td>\n",
       "      <td>0</td>\n",
       "      <td>0</td>\n",
       "      <td>1</td>\n",
       "      <td>0</td>\n",
       "      <td>0</td>\n",
       "      <td>0</td>\n",
       "    </tr>\n",
       "    <tr>\n",
       "      <th>4</th>\n",
       "      <td>no-recurrence-events</td>\n",
       "      <td>2</td>\n",
       "      <td>0</td>\n",
       "      <td>0</td>\n",
       "      <td>1</td>\n",
       "      <td>0</td>\n",
       "      <td>0</td>\n",
       "      <td>0</td>\n",
       "      <td>0</td>\n",
       "      <td>0</td>\n",
       "      <td>...</td>\n",
       "      <td>0</td>\n",
       "      <td>0</td>\n",
       "      <td>1</td>\n",
       "      <td>0</td>\n",
       "      <td>0</td>\n",
       "      <td>0</td>\n",
       "      <td>0</td>\n",
       "      <td>1</td>\n",
       "      <td>0</td>\n",
       "      <td>0</td>\n",
       "    </tr>\n",
       "  </tbody>\n",
       "</table>\n",
       "<p>5 rows × 38 columns</p>\n",
       "</div>"
      ],
      "text/plain": [
       "                  Class  deg-malig  age_is_20-29  age_is_30-39  age_is_40-49  \\\n",
       "0  no-recurrence-events          3             0             1             0   \n",
       "1  no-recurrence-events          2             0             0             1   \n",
       "2  no-recurrence-events          2             0             0             1   \n",
       "3  no-recurrence-events          2             0             0             0   \n",
       "4  no-recurrence-events          2             0             0             1   \n",
       "\n",
       "   age_is_50-59  age_is_60-69  age_is_70-79  menopause_is_ge40  \\\n",
       "0             0             0             0                  0   \n",
       "1             0             0             0                  0   \n",
       "2             0             0             0                  0   \n",
       "3             0             1             0                  1   \n",
       "4             0             0             0                  0   \n",
       "\n",
       "   menopause_is_lt40  ...  inv-nodes_is_9-11  node-caps_is_yes  \\\n",
       "0                  0  ...                  0                 0   \n",
       "1                  0  ...                  0                 0   \n",
       "2                  0  ...                  0                 0   \n",
       "3                  0  ...                  0                 0   \n",
       "4                  0  ...                  0                 0   \n",
       "\n",
       "   breast_is_right  breast-quad_is_?  breast-quad_is_central  \\\n",
       "0                0                 0                       0   \n",
       "1                1                 0                       0   \n",
       "2                0                 0                       0   \n",
       "3                1                 0                       0   \n",
       "4                1                 0                       0   \n",
       "\n",
       "   breast-quad_is_left_low  breast-quad_is_left_up  breast-quad_is_right_low  \\\n",
       "0                        1                       0                         0   \n",
       "1                        0                       0                         0   \n",
       "2                        1                       0                         0   \n",
       "3                        0                       1                         0   \n",
       "4                        0                       0                         1   \n",
       "\n",
       "   breast-quad_is_right_up  irradiat_is_yes  \n",
       "0                        0                0  \n",
       "1                        1                0  \n",
       "2                        0                0  \n",
       "3                        0                0  \n",
       "4                        0                0  \n",
       "\n",
       "[5 rows x 38 columns]"
      ]
     },
     "execution_count": 12,
     "metadata": {},
     "output_type": "execute_result"
    }
   ],
   "source": [
    "dummy_df_age=pd.get_dummies(df[\"age\"],dtype=np.int64,prefix=\"age_is\")\n",
    "dummy_df_menopause=pd.get_dummies(df[\"menopause\"],dtype=np.int64,prefix=\"menopause_is\")\n",
    "dummy_df_tumor = pd.get_dummies(df[\"tumor-size\"],dtype=np.int64,prefix=\"tumor-size_is\")\n",
    "dummy_df_inv = pd.get_dummies(df[\"inv-nodes\"],dtype=np.int64,prefix=\"inv-nodes_is\")\n",
    "dummy_df_node = pd.get_dummies(df[\"node-caps\"],dtype=np.int64,prefix=\"node-caps_is\",drop_first=True)\n",
    "dummy_df_breast= pd.get_dummies(df[\"breast\"],dtype=np.int64,prefix=\"breast_is\",drop_first=True)\n",
    "dummy_df_breast_quad= pd.get_dummies(df[\"breast-quad\"],dtype=np.int64,prefix=\"breast-quad_is\")\n",
    "dummy_df_irradiat= pd.get_dummies(df[\"irradiat\"],dtype=np.int64,prefix=\"irradiat_is\",drop_first=True)\n",
    "\n",
    "\n",
    "df = pd.concat([df,dummy_df_age, dummy_df_menopause, dummy_df_tumor,dummy_df_inv,dummy_df_node,dummy_df_breast,\n",
    "               dummy_df_breast_quad,dummy_df_irradiat],axis=1)\n",
    "df = df.loc[:,~df.columns.duplicated()]\n",
    "df = df.drop([\"age\", \"menopause\",\"tumor-size\", \"inv-nodes\", \"node-caps\",\"breast\",\"breast-quad\",\"irradiat\"],axis=1)\n",
    "\n",
    "df.head()"
   ]
  },
  {
   "cell_type": "code",
   "execution_count": 13,
   "metadata": {},
   "outputs": [
    {
     "data": {
      "text/plain": [
       "Index(['Class', 'deg-malig', 'age_is_20-29', 'age_is_30-39', 'age_is_40-49',\n",
       "       'age_is_50-59', 'age_is_60-69', 'age_is_70-79', 'menopause_is_ge40',\n",
       "       'menopause_is_lt40', 'menopause_is_premeno', 'tumor-size_is_0-4',\n",
       "       'tumor-size_is_10-14', 'tumor-size_is_15-19', 'tumor-size_is_20-24',\n",
       "       'tumor-size_is_25-29', 'tumor-size_is_30-34', 'tumor-size_is_35-39',\n",
       "       'tumor-size_is_40-44', 'tumor-size_is_45-49', 'tumor-size_is_5-9',\n",
       "       'tumor-size_is_50-54', 'inv-nodes_is_0-2', 'inv-nodes_is_12-14',\n",
       "       'inv-nodes_is_15-17', 'inv-nodes_is_24-26', 'inv-nodes_is_3-5',\n",
       "       'inv-nodes_is_6-8', 'inv-nodes_is_9-11', 'node-caps_is_yes',\n",
       "       'breast_is_right', 'breast-quad_is_?', 'breast-quad_is_central',\n",
       "       'breast-quad_is_left_low', 'breast-quad_is_left_up',\n",
       "       'breast-quad_is_right_low', 'breast-quad_is_right_up',\n",
       "       'irradiat_is_yes'],\n",
       "      dtype='object')"
      ]
     },
     "execution_count": 13,
     "metadata": {},
     "output_type": "execute_result"
    }
   ],
   "source": [
    "df.columns"
   ]
  },
  {
   "cell_type": "code",
   "execution_count": 14,
   "metadata": {},
   "outputs": [
    {
     "name": "stdout",
     "output_type": "stream",
     "text": [
      "<class 'pandas.core.frame.DataFrame'>\n",
      "Int64Index: 264 entries, 0 to 285\n",
      "Data columns (total 38 columns):\n",
      " #   Column                    Non-Null Count  Dtype \n",
      "---  ------                    --------------  ----- \n",
      " 0   Class                     264 non-null    object\n",
      " 1   deg-malig                 264 non-null    int64 \n",
      " 2   age_is_20-29              264 non-null    int64 \n",
      " 3   age_is_30-39              264 non-null    int64 \n",
      " 4   age_is_40-49              264 non-null    int64 \n",
      " 5   age_is_50-59              264 non-null    int64 \n",
      " 6   age_is_60-69              264 non-null    int64 \n",
      " 7   age_is_70-79              264 non-null    int64 \n",
      " 8   menopause_is_ge40         264 non-null    int64 \n",
      " 9   menopause_is_lt40         264 non-null    int64 \n",
      " 10  menopause_is_premeno      264 non-null    int64 \n",
      " 11  tumor-size_is_0-4         264 non-null    int64 \n",
      " 12  tumor-size_is_10-14       264 non-null    int64 \n",
      " 13  tumor-size_is_15-19       264 non-null    int64 \n",
      " 14  tumor-size_is_20-24       264 non-null    int64 \n",
      " 15  tumor-size_is_25-29       264 non-null    int64 \n",
      " 16  tumor-size_is_30-34       264 non-null    int64 \n",
      " 17  tumor-size_is_35-39       264 non-null    int64 \n",
      " 18  tumor-size_is_40-44       264 non-null    int64 \n",
      " 19  tumor-size_is_45-49       264 non-null    int64 \n",
      " 20  tumor-size_is_5-9         264 non-null    int64 \n",
      " 21  tumor-size_is_50-54       264 non-null    int64 \n",
      " 22  inv-nodes_is_0-2          264 non-null    int64 \n",
      " 23  inv-nodes_is_12-14        264 non-null    int64 \n",
      " 24  inv-nodes_is_15-17        264 non-null    int64 \n",
      " 25  inv-nodes_is_24-26        264 non-null    int64 \n",
      " 26  inv-nodes_is_3-5          264 non-null    int64 \n",
      " 27  inv-nodes_is_6-8          264 non-null    int64 \n",
      " 28  inv-nodes_is_9-11         264 non-null    int64 \n",
      " 29  node-caps_is_yes          264 non-null    int64 \n",
      " 30  breast_is_right           264 non-null    int64 \n",
      " 31  breast-quad_is_?          264 non-null    int64 \n",
      " 32  breast-quad_is_central    264 non-null    int64 \n",
      " 33  breast-quad_is_left_low   264 non-null    int64 \n",
      " 34  breast-quad_is_left_up    264 non-null    int64 \n",
      " 35  breast-quad_is_right_low  264 non-null    int64 \n",
      " 36  breast-quad_is_right_up   264 non-null    int64 \n",
      " 37  irradiat_is_yes           264 non-null    int64 \n",
      "dtypes: int64(37), object(1)\n",
      "memory usage: 80.4+ KB\n"
     ]
    }
   ],
   "source": [
    "df.info()"
   ]
  },
  {
   "cell_type": "markdown",
   "metadata": {},
   "source": [
    "## Transforming \"Class\" features into 1's and 0's"
   ]
  },
  {
   "cell_type": "code",
   "execution_count": 15,
   "metadata": {},
   "outputs": [
    {
     "data": {
      "text/plain": [
       "no-recurrence-events    186\n",
       "recurrence-events        78\n",
       "Name: Class, dtype: int64"
      ]
     },
     "execution_count": 15,
     "metadata": {},
     "output_type": "execute_result"
    }
   ],
   "source": [
    "df[\"Class\"].value_counts()"
   ]
  },
  {
   "cell_type": "code",
   "execution_count": 16,
   "metadata": {},
   "outputs": [],
   "source": [
    "df['Class'] = df['Class'].map({'recurrence-events': 1, 'no-recurrence-events': 0}).astype(int)"
   ]
  },
  {
   "cell_type": "code",
   "execution_count": 17,
   "metadata": {},
   "outputs": [
    {
     "data": {
      "text/plain": [
       "0    186\n",
       "1     78\n",
       "Name: Class, dtype: int64"
      ]
     },
     "execution_count": 17,
     "metadata": {},
     "output_type": "execute_result"
    }
   ],
   "source": [
    "df[\"Class\"].value_counts()"
   ]
  },
  {
   "cell_type": "markdown",
   "metadata": {},
   "source": [
    "# Modeling"
   ]
  },
  {
   "cell_type": "markdown",
   "metadata": {},
   "source": [
    "## Train-Test Split\n",
    "* When classification problems exhibit a significant imbalance in the distribution of the target classes, it is good to use stratified sampling to ensure that relative class frequencies are approximately preserved in train and test sets. "
   ]
  },
  {
   "cell_type": "code",
   "execution_count": 18,
   "metadata": {},
   "outputs": [],
   "source": [
    "y=df[\"Class\"] #output column\n",
    "X=df.drop([\"Class\"],axis=1) #train columns\n",
    "X_train,X_test,y_train,y_test = train_test_split(X,y,test_size = 0.30,random_state=123) # 0.3 testing, 0.7 training"
   ]
  },
  {
   "cell_type": "markdown",
   "metadata": {},
   "source": [
    "## Logistic Regression Classifier"
   ]
  },
  {
   "cell_type": "code",
   "execution_count": 19,
   "metadata": {},
   "outputs": [],
   "source": [
    "log_reg = LogisticRegression()\n",
    "log_model = log_reg.fit(X_train,y_train) # Fitting the model\n",
    "y_pred_log_reg_test = log_model.predict(X_test) # Calculating the predictions using the model for testing set"
   ]
  },
  {
   "cell_type": "code",
   "execution_count": 20,
   "metadata": {},
   "outputs": [
    {
     "name": "stdout",
     "output_type": "stream",
     "text": [
      "              precision    recall  f1-score   support\n",
      "\n",
      "           0       0.69      0.89      0.78        53\n",
      "           1       0.50      0.22      0.31        27\n",
      "\n",
      "    accuracy                           0.66        80\n",
      "   macro avg       0.60      0.55      0.54        80\n",
      "weighted avg       0.63      0.66      0.62        80\n",
      "\n",
      "AxesSubplot(0.125,0.125;0.62x0.755)\n"
     ]
    },
    {
     "data": {
      "image/png": "[encoded data removed]",
      "text/plain": [
       "<Figure size 432x288 with 2 Axes>"
      ]
     },
     "metadata": {},
     "output_type": "display_data"
    }
   ],
   "source": [
    "print(classification_report(y_test,y_pred_log_reg_test)) # Classification report for testing dataset\n",
    "print(splt.plot_confusion_matrix(y_test,y_pred_log_reg_test)) # Confusion matrix for testing dataset\n",
    "plt.show();"
   ]
  },
  {
   "cell_type": "markdown",
   "metadata": {},
   "source": [
    "## Naive Bayes Classifier"
   ]
  },
  {
   "cell_type": "code",
   "execution_count": 21,
   "metadata": {},
   "outputs": [],
   "source": [
    "nb = MultinomialNB()\n",
    "nb_model = nb.fit(X_train,y_train) # Fitting the model\n",
    "y_pred_nb_test = nb_model.predict(X_test) # Calculating the predictions using the model for testing set"
   ]
  },
  {
   "cell_type": "code",
   "execution_count": 22,
   "metadata": {},
   "outputs": [
    {
     "name": "stdout",
     "output_type": "stream",
     "text": [
      "              precision    recall  f1-score   support\n",
      "\n",
      "           0       0.71      0.83      0.77        53\n",
      "           1       0.50      0.33      0.40        27\n",
      "\n",
      "    accuracy                           0.66        80\n",
      "   macro avg       0.60      0.58      0.58        80\n",
      "weighted avg       0.64      0.66      0.64        80\n",
      "\n",
      "AxesSubplot(0.125,0.125;0.62x0.755)\n"
     ]
    },
    {
     "data": {
      "image/png": "[encoded data removed]",
      "text/plain": [
       "<Figure size 432x288 with 2 Axes>"
      ]
     },
     "metadata": {},
     "output_type": "display_data"
    }
   ],
   "source": [
    "print(classification_report(y_test,y_pred_nb_test)) # Classification report for testing dataset\n",
    "print(splt.plot_confusion_matrix(y_test,y_pred_nb_test)) # Confusion matrix for testing dataset\n",
    "plt.show();"
   ]
  },
  {
   "cell_type": "markdown",
   "metadata": {},
   "source": [
    "## Random Forest Classifier"
   ]
  },
  {
   "cell_type": "code",
   "execution_count": 23,
   "metadata": {},
   "outputs": [],
   "source": [
    "rf = RandomForestClassifier()\n",
    "rf_model = rf.fit(X_train,y_train) # Fitting the model\n",
    "y_pred_rf_test = rf_model.predict(X_test) # Calculating the predictions using the model for testing set"
   ]
  },
  {
   "cell_type": "code",
   "execution_count": 24,
   "metadata": {},
   "outputs": [
    {
     "name": "stdout",
     "output_type": "stream",
     "text": [
      "              precision    recall  f1-score   support\n",
      "\n",
      "           0       0.73      0.91      0.81        53\n",
      "           1       0.64      0.33      0.44        27\n",
      "\n",
      "    accuracy                           0.71        80\n",
      "   macro avg       0.69      0.62      0.62        80\n",
      "weighted avg       0.70      0.71      0.68        80\n",
      "\n",
      "AxesSubplot(0.125,0.125;0.62x0.755)\n"
     ]
    },
    {
     "data": {
      "image/png": "[encoded data removed]",
      "text/plain": [
       "<Figure size 432x288 with 2 Axes>"
      ]
     },
     "metadata": {},
     "output_type": "display_data"
    }
   ],
   "source": [
    "print(classification_report(y_test,y_pred_rf_test)) # Classification report for testing dataset\n",
    "print(splt.plot_confusion_matrix(y_test,y_pred_rf_test)) # Confusion matrix for testing dataset\n",
    "plt.show();"
   ]
  },
  {
   "cell_type": "markdown",
   "metadata": {},
   "source": [
    "## Gradient Boosting Classifier"
   ]
  },
  {
   "cell_type": "code",
   "execution_count": 25,
   "metadata": {},
   "outputs": [],
   "source": [
    "gb = GradientBoostingClassifier()\n",
    "gb_model = gb.fit(X_train,y_train) # Fitting the model\n",
    "y_pred_gb_test = gb_model.predict(X_test) # Calculating the predictions using the model for testing set"
   ]
  },
  {
   "cell_type": "code",
   "execution_count": 26,
   "metadata": {},
   "outputs": [
    {
     "name": "stdout",
     "output_type": "stream",
     "text": [
      "              precision    recall  f1-score   support\n",
      "\n",
      "           0       0.71      0.83      0.77        53\n",
      "           1       0.50      0.33      0.40        27\n",
      "\n",
      "    accuracy                           0.66        80\n",
      "   macro avg       0.60      0.58      0.58        80\n",
      "weighted avg       0.64      0.66      0.64        80\n",
      "\n",
      "AxesSubplot(0.125,0.125;0.62x0.755)\n"
     ]
    },
    {
     "data": {
      "image/png": "[encoded data removed]",
      "text/plain": [
       "<Figure size 432x288 with 2 Axes>"
      ]
     },
     "metadata": {},
     "output_type": "display_data"
    }
   ],
   "source": [
    "print(classification_report(y_test,y_pred_gb_test)) # Classification report for testing dataset\n",
    "print(splt.plot_confusion_matrix(y_test,y_pred_gb_test)) # Confusion matrix for testing dataset\n",
    "plt.show();"
   ]
  },
  {
   "cell_type": "markdown",
   "metadata": {},
   "source": [
    "## Model Performance Comparison and Conclusions\n",
    "* According to the dataset that we have, Logistic Regression performed much better than Naive Bayes."
   ]
  },
  {
   "cell_type": "code",
   "execution_count": 27,
   "metadata": {},
   "outputs": [
    {
     "data": {
      "image/png": "[encoded data removed]",
      "text/plain": [
       "<Figure size 432x288 with 1 Axes>"
      ]
     },
     "metadata": {},
     "output_type": "display_data"
    }
   ],
   "source": [
    "models = [log_model,nb_model,rf_model,gb_model]\n",
    "\n",
    "result = []\n",
    "results = pd.DataFrame(columns= [\"Models\",\"Accuracy\"])\n",
    "\n",
    "for model in models:\n",
    "    names = model.__class__.__name__\n",
    "    accuracy=round(cross_val_score(model,X_train,y_train,cv=5,scoring=\"accuracy\").mean(),3)\n",
    "    result = pd.DataFrame([[names, accuracy*100]], columns= [\"Models\",\"Accuracy\"])\n",
    "    results = results.append(result)\n",
    "    \n",
    "    \n",
    "sns.barplot(x= 'Accuracy', y = 'Models', data=results, palette=\"coolwarm\")\n",
    "plt.xlabel('Accuracy %')\n",
    "plt.title('Cross-Validated Accuracy of the models');"
   ]
  },
  {
   "cell_type": "code",
   "execution_count": 28,
   "metadata": {},
   "outputs": [
    {
     "data": {
      "text/html": [
       "<div>\n",
       "<style scoped>\n",
       "    .dataframe tbody tr th:only-of-type {\n",
       "        vertical-align: middle;\n",
       "    }\n",
       "\n",
       "    .dataframe tbody tr th {\n",
       "        vertical-align: top;\n",
       "    }\n",
       "\n",
       "    .dataframe thead th {\n",
       "        text-align: right;\n",
       "    }\n",
       "</style>\n",
       "<table border=\"1\" class=\"dataframe\">\n",
       "  <thead>\n",
       "    <tr style=\"text-align: right;\">\n",
       "      <th></th>\n",
       "      <th>Models</th>\n",
       "      <th>Accuracy</th>\n",
       "    </tr>\n",
       "  </thead>\n",
       "  <tbody>\n",
       "    <tr>\n",
       "      <th>0</th>\n",
       "      <td>LogisticRegression</td>\n",
       "      <td>72.3</td>\n",
       "    </tr>\n",
       "    <tr>\n",
       "      <th>0</th>\n",
       "      <td>MultinomialNB</td>\n",
       "      <td>71.2</td>\n",
       "    </tr>\n",
       "    <tr>\n",
       "      <th>0</th>\n",
       "      <td>RandomForestClassifier</td>\n",
       "      <td>73.9</td>\n",
       "    </tr>\n",
       "    <tr>\n",
       "      <th>0</th>\n",
       "      <td>GradientBoostingClassifier</td>\n",
       "      <td>75.0</td>\n",
       "    </tr>\n",
       "  </tbody>\n",
       "</table>\n",
       "</div>"
      ],
      "text/plain": [
       "                       Models  Accuracy\n",
       "0          LogisticRegression      72.3\n",
       "0               MultinomialNB      71.2\n",
       "0      RandomForestClassifier      73.9\n",
       "0  GradientBoostingClassifier      75.0"
      ]
     },
     "execution_count": 28,
     "metadata": {},
     "output_type": "execute_result"
    }
   ],
   "source": [
    "results"
   ]
  },
  {
   "cell_type": "code",
   "execution_count": null,
   "metadata": {},
   "outputs": [],
   "source": []
  }
 ],
 "metadata": {
  "kernelspec": {
   "display_name": "Python 3",
   "language": "python",
   "name": "python3"
  },
  "language_info": {
   "codemirror_mode": {
    "name": "ipython",
    "version": 3
   },
   "file_extension": ".py",
   "mimetype": "text/x-python",
   "name": "python",
   "nbconvert_exporter": "python",
   "pygments_lexer": "ipython3",
   "version": "3.6.12"
  }
 },
 "nbformat": 4,
 "nbformat_minor": 4
}
